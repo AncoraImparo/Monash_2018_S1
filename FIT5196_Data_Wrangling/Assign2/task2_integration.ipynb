{
 "cells": [
  {
   "cell_type": "markdown",
   "metadata": {},
   "source": [
    "# FIT5196 Task 2 in Assessment 2\n",
    "#### Student Name: Boyu Zhang\n",
    "#### Student ID: 28491300\n",
    "\n",
    "Date: XX/XX/XXXX\n",
    "\n",
    "Version: 1.0\n",
    "\n",
    "Environment: Python 3.6 and Jupyter notebook\n",
    "\n",
    "Libraries used: please include the main libraries you used in your assignment here, e.g.,:\n",
    "* pandas (for dataframe, included in Anaconda Python ) \n",
    "* re (for regular expression, included in Anaconda Python 3.6) \n",
    "* numpy (for numpy array, included in Anaconda Python 3.6) "
   ]
  },
  {
   "cell_type": "markdown",
   "metadata": {},
   "source": [
    "## 1.  Import libraries "
   ]
  },
  {
   "cell_type": "code",
   "execution_count": 2,
   "metadata": {},
   "outputs": [],
   "source": [
    "# Code to import libraries as you need in this assessment, e.g.,\n",
    "import pandas as pd\n",
    "import re"
   ]
  },
  {
   "cell_type": "code",
   "execution_count": 3,
   "metadata": {},
   "outputs": [],
   "source": [
    "df2 = pd.read_csv('./Input/dataset2_integration.csv')\n",
    "df1 = pd.read_csv('./dataset1_solution.csv')"
   ]
  },
  {
   "cell_type": "code",
   "execution_count": 4,
   "metadata": {},
   "outputs": [
    {
     "name": "stdout",
     "output_type": "stream",
     "text": [
      "<class 'pandas.core.frame.DataFrame'>\n",
      "RangeIndex: 25077 entries, 0 to 25076\n",
      "Data columns (total 12 columns):\n",
      "Unnamed: 0          25077 non-null int64\n",
      "Id                  25077 non-null int64\n",
      "Title               25077 non-null object\n",
      "Location            25077 non-null object\n",
      "ContractType        25077 non-null object\n",
      "ContractTime        25077 non-null object\n",
      "Company             21242 non-null object\n",
      "Category            25077 non-null object\n",
      "Salary per annum    25077 non-null int64\n",
      "SourceName          25077 non-null object\n",
      "OpenDate            25077 non-null object\n",
      "CloseDate           25077 non-null object\n",
      "dtypes: int64(3), object(9)\n",
      "memory usage: 2.3+ MB\n",
      "<class 'pandas.core.frame.DataFrame'>\n",
      "RangeIndex: 25276 entries, 0 to 25275\n",
      "Data columns (total 11 columns):\n",
      "Id                  25276 non-null int64\n",
      "Source Name         25276 non-null object\n",
      "Title               25276 non-null object\n",
      "location            25276 non-null object\n",
      "Contract Type       4819 non-null object\n",
      "Contract Time       19763 non-null object\n",
      "Company             24178 non-null object\n",
      "Category            25276 non-null object\n",
      "Salary per month    25276 non-null int64\n",
      "OpenDate            25276 non-null object\n",
      "CloseDate           25276 non-null object\n",
      "dtypes: int64(2), object(9)\n",
      "memory usage: 2.1+ MB\n",
      "None None\n"
     ]
    }
   ],
   "source": [
    "print(df1.info(),df2.info())"
   ]
  },
  {
   "cell_type": "code",
   "execution_count": 4,
   "metadata": {},
   "outputs": [
    {
     "data": {
      "text/html": [
       "<div>\n",
       "<style scoped>\n",
       "    .dataframe tbody tr th:only-of-type {\n",
       "        vertical-align: middle;\n",
       "    }\n",
       "\n",
       "    .dataframe tbody tr th {\n",
       "        vertical-align: top;\n",
       "    }\n",
       "\n",
       "    .dataframe thead th {\n",
       "        text-align: right;\n",
       "    }\n",
       "</style>\n",
       "<table border=\"1\" class=\"dataframe\">\n",
       "  <thead>\n",
       "    <tr style=\"text-align: right;\">\n",
       "      <th></th>\n",
       "      <th>Id</th>\n",
       "      <th>Salary per month</th>\n",
       "    </tr>\n",
       "  </thead>\n",
       "  <tbody>\n",
       "    <tr>\n",
       "      <th>count</th>\n",
       "      <td>2.527600e+04</td>\n",
       "      <td>25276.000000</td>\n",
       "    </tr>\n",
       "    <tr>\n",
       "      <th>mean</th>\n",
       "      <td>7.109038e+07</td>\n",
       "      <td>2935.074458</td>\n",
       "    </tr>\n",
       "    <tr>\n",
       "      <th>std</th>\n",
       "      <td>1.025040e+06</td>\n",
       "      <td>1315.875990</td>\n",
       "    </tr>\n",
       "    <tr>\n",
       "      <th>min</th>\n",
       "      <td>6.924768e+07</td>\n",
       "      <td>417.000000</td>\n",
       "    </tr>\n",
       "    <tr>\n",
       "      <th>25%</th>\n",
       "      <td>7.008671e+07</td>\n",
       "      <td>2000.000000</td>\n",
       "    </tr>\n",
       "    <tr>\n",
       "      <th>50%</th>\n",
       "      <td>7.129211e+07</td>\n",
       "      <td>2681.500000</td>\n",
       "    </tr>\n",
       "    <tr>\n",
       "      <th>75%</th>\n",
       "      <td>7.187785e+07</td>\n",
       "      <td>3542.000000</td>\n",
       "    </tr>\n",
       "    <tr>\n",
       "      <th>max</th>\n",
       "      <td>7.270520e+07</td>\n",
       "      <td>8000.000000</td>\n",
       "    </tr>\n",
       "  </tbody>\n",
       "</table>\n",
       "</div>"
      ],
      "text/plain": [
       "                 Id  Salary per month\n",
       "count  2.527600e+04      25276.000000\n",
       "mean   7.109038e+07       2935.074458\n",
       "std    1.025040e+06       1315.875990\n",
       "min    6.924768e+07        417.000000\n",
       "25%    7.008671e+07       2000.000000\n",
       "50%    7.129211e+07       2681.500000\n",
       "75%    7.187785e+07       3542.000000\n",
       "max    7.270520e+07       8000.000000"
      ]
     },
     "execution_count": 4,
     "metadata": {},
     "output_type": "execute_result"
    }
   ],
   "source": [
    "df2.describe()"
   ]
  },
  {
   "cell_type": "code",
   "execution_count": 5,
   "metadata": {},
   "outputs": [
    {
     "data": {
      "text/html": [
       "<div>\n",
       "<style scoped>\n",
       "    .dataframe tbody tr th:only-of-type {\n",
       "        vertical-align: middle;\n",
       "    }\n",
       "\n",
       "    .dataframe tbody tr th {\n",
       "        vertical-align: top;\n",
       "    }\n",
       "\n",
       "    .dataframe thead th {\n",
       "        text-align: right;\n",
       "    }\n",
       "</style>\n",
       "<table border=\"1\" class=\"dataframe\">\n",
       "  <thead>\n",
       "    <tr style=\"text-align: right;\">\n",
       "      <th></th>\n",
       "      <th>Source Name</th>\n",
       "      <th>Title</th>\n",
       "      <th>location</th>\n",
       "      <th>Contract Type</th>\n",
       "      <th>Contract Time</th>\n",
       "      <th>Company</th>\n",
       "      <th>Category</th>\n",
       "      <th>OpenDate</th>\n",
       "      <th>CloseDate</th>\n",
       "    </tr>\n",
       "  </thead>\n",
       "  <tbody>\n",
       "    <tr>\n",
       "      <th>count</th>\n",
       "      <td>25276</td>\n",
       "      <td>25276</td>\n",
       "      <td>25276</td>\n",
       "      <td>4819</td>\n",
       "      <td>19763</td>\n",
       "      <td>24178</td>\n",
       "      <td>25276</td>\n",
       "      <td>25276</td>\n",
       "      <td>25276</td>\n",
       "    </tr>\n",
       "    <tr>\n",
       "      <th>unique</th>\n",
       "      <td>92</td>\n",
       "      <td>25276</td>\n",
       "      <td>475</td>\n",
       "      <td>2</td>\n",
       "      <td>2</td>\n",
       "      <td>5679</td>\n",
       "      <td>8</td>\n",
       "      <td>2193</td>\n",
       "      <td>2395</td>\n",
       "    </tr>\n",
       "    <tr>\n",
       "      <th>top</th>\n",
       "      <td>totaljobs.com</td>\n",
       "      <td>Credit Control  Reinsurance</td>\n",
       "      <td>UK</td>\n",
       "      <td>ft</td>\n",
       "      <td>perm.</td>\n",
       "      <td>UKStaffsearch</td>\n",
       "      <td>IT Jobs</td>\n",
       "      <td>2012-04-06 12:00:00</td>\n",
       "      <td>2013-07-31 12:00:00</td>\n",
       "    </tr>\n",
       "    <tr>\n",
       "      <th>freq</th>\n",
       "      <td>4799</td>\n",
       "      <td>1</td>\n",
       "      <td>4263</td>\n",
       "      <td>4353</td>\n",
       "      <td>16505</td>\n",
       "      <td>255</td>\n",
       "      <td>6854</td>\n",
       "      <td>28</td>\n",
       "      <td>25</td>\n",
       "    </tr>\n",
       "  </tbody>\n",
       "</table>\n",
       "</div>"
      ],
      "text/plain": [
       "          Source Name                        Title location Contract Type  \\\n",
       "count           25276                        25276    25276          4819   \n",
       "unique             92                        25276      475             2   \n",
       "top     totaljobs.com  Credit Control  Reinsurance       UK            ft   \n",
       "freq             4799                            1     4263          4353   \n",
       "\n",
       "       Contract Time        Company Category             OpenDate  \\\n",
       "count          19763          24178    25276                25276   \n",
       "unique             2           5679        8                 2193   \n",
       "top            perm.  UKStaffsearch  IT Jobs  2012-04-06 12:00:00   \n",
       "freq           16505            255     6854                   28   \n",
       "\n",
       "                  CloseDate  \n",
       "count                 25276  \n",
       "unique                 2395  \n",
       "top     2013-07-31 12:00:00  \n",
       "freq                     25  "
      ]
     },
     "execution_count": 5,
     "metadata": {},
     "output_type": "execute_result"
    }
   ],
   "source": [
    "df2.describe(include=['O'])"
   ]
  },
  {
   "cell_type": "markdown",
   "metadata": {
    "collapsed": true
   },
   "source": [
    "## 2. Integrate Datasets\n",
    "\n",
    "In this section, you can write your python scripts to parse the correspondiing file.\n",
    "You should \n",
    "* write proper notes for all code block in this notebook using the Markdown cells\n",
    "* provide proper comment in your scripts\n",
    "* run all cells to make sure scripts are runable. If the scripts cannot be run by the assessors, they will not be assessed and zero mark will be given to the task."
   ]
  },
  {
   "cell_type": "markdown",
   "metadata": {},
   "source": [
    "### 2.1 Resolve schema conflicts"
   ]
  },
  {
   "cell_type": "code",
   "execution_count": null,
   "metadata": {},
   "outputs": [],
   "source": []
  },
  {
   "cell_type": "markdown",
   "metadata": {
    "collapsed": true
   },
   "source": [
    "## Potential integration issue at first glance:\n",
    "- Different representation of `Contract Type` ad `Contract Time` in dataset1 and dataset2\n",
    "- Different unit for `Salary`\n",
    "- duplicated records(can be solved only when all format and units are uniformed first)"
   ]
  },
  {
   "cell_type": "markdown",
   "metadata": {},
   "source": [
    "## 3. Summary\n",
    "Give a short summary of your work done above, such as your findings."
   ]
  }
 ],
 "metadata": {
  "kernelspec": {
   "display_name": "Python [conda env:anaconda3]",
   "language": "python",
   "name": "conda-env-anaconda3-py"
  },
  "language_info": {
   "codemirror_mode": {
    "name": "ipython",
    "version": 3
   },
   "file_extension": ".py",
   "mimetype": "text/x-python",
   "name": "python",
   "nbconvert_exporter": "python",
   "pygments_lexer": "ipython3",
   "version": "3.6.4"
  }
 },
 "nbformat": 4,
 "nbformat_minor": 1
}
