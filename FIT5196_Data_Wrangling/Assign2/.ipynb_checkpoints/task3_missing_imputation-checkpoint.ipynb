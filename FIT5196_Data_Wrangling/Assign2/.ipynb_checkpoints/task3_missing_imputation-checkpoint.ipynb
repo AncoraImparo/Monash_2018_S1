{
 "cells": [
  {
   "cell_type": "markdown",
   "metadata": {},
   "source": [
    "# FIT5196 Task 2 in Assessment 2\n",
    "#### Student Name: Boyu Zhang\n",
    "#### Student ID: 28491300\n",
    "\n",
    "Date: XX/XX/XXXX\n",
    "\n",
    "Version: 1.0\n",
    "\n",
    "Environment: Python 3.6 and Jupyter notebook\n",
    "\n",
    "Libraries used: please include the main libraries you used in your assignment here, e.g.,:\n",
    "* pandas (for dataframe, included in Anaconda Python 3.6) \n",
    "* numpy (for numpy array, included in Anaconda Python 3.6)\n",
    "* sklearn (for missing value imputation model, installed by `conda install scikit-learn`)\n",
    "* scipy (for some statistical computing like the pearson r, included in Anaconda Python3.6)\n",
    "* itertools (for get unique pairs of features, built-in in Python 3.6)"
   ]
  },
  {
   "cell_type": "markdown",
   "metadata": {},
   "source": [
    "## 1. Import libraries"
   ]
  },
  {
   "cell_type": "code",
   "execution_count": 1,
   "metadata": {},
   "outputs": [
    {
     "name": "stdout",
     "output_type": "stream",
     "text": [
      "Populating the interactive namespace from numpy and matplotlib\n"
     ]
    }
   ],
   "source": [
    "import pandas as pd\n",
    "import numpy as np\n",
    "from sklearn import linear_model\n",
    "import warnings\n",
    "from scipy import stats \n",
    "from itertools import combinations\n",
    "warnings.filterwarnings(\"ignore\")\n",
    "%pylab inline"
   ]
  },
  {
   "cell_type": "markdown",
   "metadata": {},
   "source": [
    "## 2. Load data and exploration"
   ]
  },
  {
   "cell_type": "code",
   "execution_count": 2,
   "metadata": {},
   "outputs": [],
   "source": [
    "df3 = pd.read_csv('./Input/dataset3_with_missing.csv')"
   ]
  },
  {
   "cell_type": "code",
   "execution_count": 3,
   "metadata": {},
   "outputs": [
    {
     "data": {
      "text/plain": [
       "id                 0\n",
       "date               0\n",
       "price              0\n",
       "bedrooms           0\n",
       "bathrooms        400\n",
       "sqft_living       66\n",
       "sqft_lot           0\n",
       "floors             0\n",
       "waterfront         0\n",
       "view               0\n",
       "condition          0\n",
       "grade              0\n",
       "sqft_above        67\n",
       "sqft_basement     67\n",
       "yr_built           0\n",
       "yr_renovated       0\n",
       "zipcode            0\n",
       "lat                0\n",
       "long               0\n",
       "dtype: int64"
      ]
     },
     "execution_count": 3,
     "metadata": {},
     "output_type": "execute_result"
    }
   ],
   "source": [
    "#get the number of missing values for each columns\n",
    "df3.isnull().sum()"
   ]
  },
  {
   "cell_type": "markdown",
   "metadata": {},
   "source": [
    "### columns that show explicit clue of missing data:\n",
    "- sqft_living : 66\n",
    "- sqft_above : 67\n",
    "- sqft_basement : 67\n",
    "- bathrooms : 400\n"
   ]
  },
  {
   "cell_type": "markdown",
   "metadata": {},
   "source": [
    "## 3.  Missing value imputation"
   ]
  },
  {
   "cell_type": "markdown",
   "metadata": {},
   "source": [
    "###  3.1. The 3 `sqfts`"
   ]
  },
  {
   "cell_type": "markdown",
   "metadata": {},
   "source": [
    "- First we look at the remaining 3 columns `sqft_living`, `sqft_above`, `sqft_base`.\n",
    "- The number of missing values in the 3 columns is quite close to each other\n",
    "- According to the dataset description we can guess that there is a correlation between the `sqft_living`, `sqft_above`, `sqft_base`.\n",
    "And it seems reasonable that they are independent to other features.\n",
    "- From the description of the dataset, we can infer that in usual cases the `sqft_living` should be the sum of `sqft_above` and `sqft_base`.That is `sqft_living = sqft_aboce + sqft_basement`"
   ]
  },
  {
   "cell_type": "markdown",
   "metadata": {},
   "source": [
    "So we need to check whether this correlation is true"
   ]
  },
  {
   "cell_type": "code",
   "execution_count": 4,
   "metadata": {},
   "outputs": [],
   "source": [
    "three_sqfts = df3[~(df3.sqft_living == df3.sqft_above + df3.sqft_basement)][['sqft_living','sqft_above','sqft_basement']]"
   ]
  },
  {
   "cell_type": "code",
   "execution_count": 5,
   "metadata": {},
   "outputs": [
    {
     "data": {
      "text/html": [
       "<div>\n",
       "<style scoped>\n",
       "    .dataframe tbody tr th:only-of-type {\n",
       "        vertical-align: middle;\n",
       "    }\n",
       "\n",
       "    .dataframe tbody tr th {\n",
       "        vertical-align: top;\n",
       "    }\n",
       "\n",
       "    .dataframe thead th {\n",
       "        text-align: right;\n",
       "    }\n",
       "</style>\n",
       "<table border=\"1\" class=\"dataframe\">\n",
       "  <thead>\n",
       "    <tr style=\"text-align: right;\">\n",
       "      <th></th>\n",
       "      <th>sqft_living</th>\n",
       "      <th>sqft_above</th>\n",
       "      <th>sqft_basement</th>\n",
       "    </tr>\n",
       "  </thead>\n",
       "  <tbody>\n",
       "    <tr>\n",
       "      <th>146</th>\n",
       "      <td>2450.0</td>\n",
       "      <td>NaN</td>\n",
       "      <td>0.0</td>\n",
       "    </tr>\n",
       "    <tr>\n",
       "      <th>189</th>\n",
       "      <td>NaN</td>\n",
       "      <td>1630.0</td>\n",
       "      <td>0.0</td>\n",
       "    </tr>\n",
       "    <tr>\n",
       "      <th>250</th>\n",
       "      <td>1010.0</td>\n",
       "      <td>NaN</td>\n",
       "      <td>0.0</td>\n",
       "    </tr>\n",
       "    <tr>\n",
       "      <th>326</th>\n",
       "      <td>2130.0</td>\n",
       "      <td>NaN</td>\n",
       "      <td>1030.0</td>\n",
       "    </tr>\n",
       "    <tr>\n",
       "      <th>338</th>\n",
       "      <td>1490.0</td>\n",
       "      <td>NaN</td>\n",
       "      <td>0.0</td>\n",
       "    </tr>\n",
       "    <tr>\n",
       "      <th>393</th>\n",
       "      <td>960.0</td>\n",
       "      <td>NaN</td>\n",
       "      <td>0.0</td>\n",
       "    </tr>\n",
       "    <tr>\n",
       "      <th>434</th>\n",
       "      <td>2320.0</td>\n",
       "      <td>1160.0</td>\n",
       "      <td>NaN</td>\n",
       "    </tr>\n",
       "    <tr>\n",
       "      <th>483</th>\n",
       "      <td>NaN</td>\n",
       "      <td>1010.0</td>\n",
       "      <td>720.0</td>\n",
       "    </tr>\n",
       "    <tr>\n",
       "      <th>503</th>\n",
       "      <td>1290.0</td>\n",
       "      <td>1290.0</td>\n",
       "      <td>NaN</td>\n",
       "    </tr>\n",
       "    <tr>\n",
       "      <th>509</th>\n",
       "      <td>1440.0</td>\n",
       "      <td>NaN</td>\n",
       "      <td>480.0</td>\n",
       "    </tr>\n",
       "  </tbody>\n",
       "</table>\n",
       "</div>"
      ],
      "text/plain": [
       "     sqft_living  sqft_above  sqft_basement\n",
       "146       2450.0         NaN            0.0\n",
       "189          NaN      1630.0            0.0\n",
       "250       1010.0         NaN            0.0\n",
       "326       2130.0         NaN         1030.0\n",
       "338       1490.0         NaN            0.0\n",
       "393        960.0         NaN            0.0\n",
       "434       2320.0      1160.0            NaN\n",
       "483          NaN      1010.0          720.0\n",
       "503       1290.0      1290.0            NaN\n",
       "509       1440.0         NaN          480.0"
      ]
     },
     "execution_count": 5,
     "metadata": {},
     "output_type": "execute_result"
    }
   ],
   "source": [
    "three_sqfts.head(10)"
   ]
  },
  {
   "cell_type": "markdown",
   "metadata": {},
   "source": [
    "### Reasoning\n",
    "- From the above result, we know that for most of the records the correlation can be proved, the rows that doesn't show this pattern is all due to that there are missing values in these three columns\n",
    "#### *Precondition:\n",
    "To be able to impute the missing values based on our inference, it is necessary that for all records, no more than one column of the three columns should be missing"
   ]
  },
  {
   "cell_type": "code",
   "execution_count": 6,
   "metadata": {},
   "outputs": [
    {
     "data": {
      "text/plain": [
       "array([0, 0])"
      ]
     },
     "execution_count": 6,
     "metadata": {},
     "output_type": "execute_result"
    }
   ],
   "source": [
    "# check whether the preconditon above is satisfied\n",
    "np.array(three_sqfts.shape) - np.array(three_sqfts.dropna(thresh=2).shape)"
   ]
  },
  {
   "cell_type": "markdown",
   "metadata": {},
   "source": [
    "The result of above check is a zero-shape array which means we in each record, if there is a missing value in **one** of the three columns, the other **two** must have valid values.\n",
    "So we can start the imputation on these three columns"
   ]
  },
  {
   "cell_type": "code",
   "execution_count": 7,
   "metadata": {},
   "outputs": [],
   "source": [
    "#impute missing values using the proved equation\n",
    "df3.sqft_living = df3.sqft_living.fillna(df3.sqft_above + df3.sqft_basement)\n",
    "df3.sqft_above = df3.sqft_above.fillna(df3.sqft_living - df3.sqft_basement)\n",
    "df3.sqft_basement = df3.sqft_basement.fillna(df3.sqft_living - df3.sqft_above)"
   ]
  },
  {
   "cell_type": "code",
   "execution_count": 8,
   "metadata": {},
   "outputs": [
    {
     "data": {
      "text/plain": [
       "id                 0\n",
       "date               0\n",
       "price              0\n",
       "bedrooms           0\n",
       "bathrooms        400\n",
       "sqft_living        0\n",
       "sqft_lot           0\n",
       "floors             0\n",
       "waterfront         0\n",
       "view               0\n",
       "condition          0\n",
       "grade              0\n",
       "sqft_above         0\n",
       "sqft_basement      0\n",
       "yr_built           0\n",
       "yr_renovated       0\n",
       "zipcode            0\n",
       "lat                0\n",
       "long               0\n",
       "dtype: int64"
      ]
     },
     "execution_count": 8,
     "metadata": {},
     "output_type": "execute_result"
    }
   ],
   "source": [
    "df3.isnull().sum()"
   ]
  },
  {
   "cell_type": "markdown",
   "metadata": {},
   "source": [
    "So we finished the missing value imputation of these 3 columns."
   ]
  },
  {
   "cell_type": "markdown",
   "metadata": {},
   "source": [
    "## 3.2 The `bathroom`"
   ]
  },
  {
   "cell_type": "markdown",
   "metadata": {},
   "source": [
    "First we split out the proportion of the dataset that don't have missing value `bathroom` column"
   ]
  },
  {
   "cell_type": "code",
   "execution_count": 9,
   "metadata": {},
   "outputs": [],
   "source": [
    "df = df3[~df3.bathrooms.isna()]\n",
    "df_miss = df3[df3.bathrooms.isna()]"
   ]
  },
  {
   "cell_type": "code",
   "execution_count": 10,
   "metadata": {},
   "outputs": [],
   "source": [
    "#get the features with their pearson r larger than 0.5 which is strong relevant\n",
    "pairs = []\n",
    "for i in list(df.columns):\n",
    "    pairs.append((i,'bathrooms'))\n",
    "correlation = []\n",
    "for pair in pairs:\n",
    "    try:\n",
    "        r = stats.pearsonr(df[pair[0]],df[pair[1]])[0]\n",
    "        if abs(r) > 0.5:\n",
    "            correlation.append([pair,r])\n",
    "            \n",
    "    except:\n",
    "        pass"
   ]
  },
  {
   "cell_type": "code",
   "execution_count": 11,
   "metadata": {},
   "outputs": [
    {
     "data": {
      "text/plain": [
       "[[('bathrooms', 'bathrooms'), 1.0],\n",
       " [('sqft_living', 'bathrooms'), 0.7934687961093732],\n",
       " [('sqft_above', 'bathrooms'), 0.7100975105730197],\n",
       " [('grade', 'bathrooms'), 0.6809540413787357],\n",
       " [('price', 'bathrooms'), 0.5192078916897007],\n",
       " [('floors', 'bathrooms'), 0.5182340337195713],\n",
       " [('yr_built', 'bathrooms'), 0.514761542446788],\n",
       " [('bedrooms', 'bathrooms'), 0.5140708222502688]]"
      ]
     },
     "execution_count": 11,
     "metadata": {},
     "output_type": "execute_result"
    }
   ],
   "source": [
    "sorted(correlation,key=lambda x: x[-1],reverse=True)"
   ]
  },
  {
   "cell_type": "markdown",
   "metadata": {},
   "source": [
    "### Reasoning\n",
    "- It is meaningful first think about what features can be potentially correlated with the number of bathrooms in a house.\n",
    "- It appears that `bathrooms` is a continous numeric value, thus it is more suitable impute it from other continous numeric features, using any categorical features will probably harm the correlation obtained by imputation model\n",
    "- We determine that these features are potentially correlated: `sqft_lving`,`sqft_above`,`grade`,`price`,`floors`,`yr_built`,`bedrooms`"
   ]
  },
  {
   "cell_type": "markdown",
   "metadata": {},
   "source": [
    "We then find the features that is with highest level of relations to `bathrooms`"
   ]
  },
  {
   "cell_type": "markdown",
   "metadata": {},
   "source": [
    "Let's visualize the correlation of the features paring wiht the `bathroom` one by one:"
   ]
  },
  {
   "cell_type": "code",
   "execution_count": 12,
   "metadata": {},
   "outputs": [
    {
     "data": {
      "image/png": "[encoded data removed]",
      "text/plain": [
       "<Figure size 1440x1008 with 8 Axes>"
      ]
     },
     "metadata": {},
     "output_type": "display_data"
    }
   ],
   "source": [
    "# visualize scatterplots of all potential determing features and bathrooms\n",
    "y = df.bathrooms\n",
    "x1 = df.sqft_living\n",
    "x2 = df.sqft_above\n",
    "x3 = df.grade\n",
    "x4 = df.price\n",
    "x5 = df.floors\n",
    "x6 = df.yr_built\n",
    "x7 = df.bedrooms\n",
    "\n",
    "\n",
    "plt.subplots(4,2,figsize=(20,14))\n",
    "plt.subplot(4,2,1)\n",
    "plt.scatter(x=x1,y=y)\n",
    "plt.xlabel('Sqft_living')\n",
    "\n",
    "plt.subplot(4,2,2)\n",
    "plt.scatter(x=x2,y=y)\n",
    "plt.xlabel('Sqft_above')\n",
    "\n",
    "plt.subplot(4,2,3)\n",
    "plt.scatter(x=x3,y=y)\n",
    "plt.xlabel('Grade')\n",
    "\n",
    "plt.subplot(4,2,4)\n",
    "plt.scatter(x=x4,y=y)\n",
    "plt.xlabel('Price')\n",
    "\n",
    "plt.subplot(4,2,5)\n",
    "plt.scatter(x=x5,y=y)\n",
    "plt.xlabel('Floors')\n",
    "\n",
    "plt.subplot(4,2,6)\n",
    "plt.scatter(x=x6,y=y)\n",
    "plt.xlabel('Yr_built')\n",
    "\n",
    "plt.subplot(4,2,7)\n",
    "plt.scatter(x=x7,y=y)\n",
    "plt.xlabel('Bedrooms')\n",
    "\n",
    "\n",
    "plt.show()"
   ]
  },
  {
   "cell_type": "markdown",
   "metadata": {},
   "source": [
    "### Select features to be used for imputation\n",
    "- After viewing in scatterplots of the more relevant features, we find that 4 features seems feasible to be used\n",
    "- Tey are: `grade`,`sqft_living` ,`sqft_above` and `price`"
   ]
  },
  {
   "cell_type": "markdown",
   "metadata": {},
   "source": [
    "### Further analysis\n",
    "- If we choose to do imputation based on single feature and the `bathroom`, we need to justify which one to choose\n",
    "- Or if we choose to do imputation based on multiple features, then we need to have valid prove that these features are at least independent to some extent."
   ]
  },
  {
   "cell_type": "markdown",
   "metadata": {},
   "source": [
    "### Test correlation for feature selection"
   ]
  },
  {
   "cell_type": "code",
   "execution_count": 13,
   "metadata": {},
   "outputs": [],
   "source": [
    "features = ['grade','sqft_living','sqft_above','price']"
   ]
  },
  {
   "cell_type": "code",
   "execution_count": 14,
   "metadata": {},
   "outputs": [
    {
     "data": {
      "text/plain": [
       "[[('grade', 'sqft_living'), (0.7699879409962327, 0.0)],\n",
       " [('grade', 'sqft_above'), (0.7619950379794379, 0.0)],\n",
       " [('grade', 'price'), (0.679477529016689, 0.0)],\n",
       " [('sqft_living', 'sqft_above'), (0.8685280413853901, 0.0)],\n",
       " [('sqft_living', 'price'), (0.6919439946892895, 0.0)],\n",
       " [('sqft_above', 'price'), (0.5937161711859192, 0.0)]]"
      ]
     },
     "execution_count": 14,
     "metadata": {},
     "output_type": "execute_result"
    }
   ],
   "source": [
    "relation = []\n",
    "for i in combinations(features,2):\n",
    "    relation.append([i,stats.pearsonr(df[i[0]],df[i[1]])])\n",
    "relation"
   ]
  },
  {
   "cell_type": "markdown",
   "metadata": {},
   "source": [
    "### Feature selection decision:\n",
    "- This means **all** features are **strongly** related thus we cannot use combination of them to do linear regression imputation\n",
    "- Thus we cannot pick multiple features since they are obviously correlated\n",
    "\n",
    "**Decision**:\n",
    "\n",
    "From the fore-shown vaisualization of relation between featuers and `bathrooms`, it is clear that `sqft_living` gives the closest correlation with the smallest width of scatter area, and least seemingly outliers.\n",
    "So we pick it as the feature that we will use for imputation."
   ]
  },
  {
   "cell_type": "markdown",
   "metadata": {},
   "source": [
    "### Imputation\n",
    "It seems that the correlation of `sqft_living` and `bathrooms` is not linear.\n",
    "So if we want to use linear regression to impute the missing values, it is better we do the tranformation of data first"
   ]
  },
  {
   "cell_type": "markdown",
   "metadata": {},
   "source": [
    "According to the tuckey' laddder theory\n",
    "![](./ladder.png)\n",
    "The shape of the two feature is Q4 shape, so one option of us is the **log transformation** with **X**"
   ]
  },
  {
   "cell_type": "code",
   "execution_count": 15,
   "metadata": {},
   "outputs": [],
   "source": [
    "df['grade_transformed'] = np.log(df.grade)"
   ]
  },
  {
   "cell_type": "code",
   "execution_count": 16,
   "metadata": {},
   "outputs": [],
   "source": [
    "df['living_transformed'] = np.log(df.sqft_living)\n",
    "df_miss['living_transformed'] = np.log(df_miss.sqft_living)"
   ]
  },
  {
   "cell_type": "code",
   "execution_count": 17,
   "metadata": {},
   "outputs": [
    {
     "data": {
      "image/png": "[encoded data removed]",
      "text/plain": [
       "<Figure size 720x144 with 2 Axes>"
      ]
     },
     "metadata": {},
     "output_type": "display_data"
    }
   ],
   "source": [
    "plt.subplots(1,2,figsize=(10,2))\n",
    "plt.subplot(1,2,1)\n",
    "plt.scatter(x=df.sqft_living,y=df.bathrooms)\n",
    "plt.title('Before transformation')\n",
    "\n",
    "plt.subplot(1,2,2)\n",
    "plt.scatter(x=df.living_transformed,y=df.bathrooms)\n",
    "plt.title('After transformation')\n",
    "plt.show()"
   ]
  },
  {
   "cell_type": "markdown",
   "metadata": {},
   "source": [
    "- We can see after the log transformation the shape is in a quite linear-looking pattern\n",
    "- But there are still outliers that can harm the performance of imputation, thus we need to be careful when choosing linear model"
   ]
  },
  {
   "cell_type": "markdown",
   "metadata": {},
   "source": [
    "### Model selection:\n",
    "We pick the `LinearRegression` model to do linear regression of `sqft_living` and `bathrooms`"
   ]
  },
  {
   "cell_type": "code",
   "execution_count": 18,
   "metadata": {},
   "outputs": [],
   "source": [
    "#split train and test sets\n",
    "train_x = df.living_transformed.values.reshape(-1,1)\n",
    "train_y = df.bathrooms.values.reshape(-1,1)\n",
    "test_x = df_miss.living_transformed.values.reshape(-1,1)"
   ]
  },
  {
   "cell_type": "code",
   "execution_count": 19,
   "metadata": {},
   "outputs": [
    {
     "data": {
      "text/plain": [
       "LinearRegression(copy_X=True, fit_intercept=True, n_jobs=1, normalize=False)"
      ]
     },
     "execution_count": 19,
     "metadata": {},
     "output_type": "execute_result"
    }
   ],
   "source": [
    "# fit the regression model\n",
    "regressor = linear_model.LinearRegression()\n",
    "regressor.fit(X=train_x,y=train_y)"
   ]
  },
  {
   "cell_type": "code",
   "execution_count": 20,
   "metadata": {},
   "outputs": [],
   "source": [
    "#reshape the prediction to be used for evaluation\n",
    "test_y = np.array(regressor.predict(test_x)).reshape(-1,1)"
   ]
  },
  {
   "cell_type": "markdown",
   "metadata": {},
   "source": [
    "### Evaluate selected model with the selected features"
   ]
  },
  {
   "cell_type": "code",
   "execution_count": 21,
   "metadata": {},
   "outputs": [
    {
     "data": {
      "text/plain": [
       "0.6736101222555493"
      ]
     },
     "execution_count": 21,
     "metadata": {},
     "output_type": "execute_result"
    }
   ],
   "source": [
    "# evaluate the correlation level of the train dataset\n",
    "regressor.score(X=train_x,y=train_y)"
   ]
  },
  {
   "cell_type": "code",
   "execution_count": 22,
   "metadata": {},
   "outputs": [
    {
     "data": {
      "text/plain": [
       "0.6820909026562842"
      ]
     },
     "execution_count": 22,
     "metadata": {},
     "output_type": "execute_result"
    }
   ],
   "source": [
    "# evaluate the correlation level of the whole imputed dataset\n",
    "regressor.score(np.vstack((train_x,test_x)),np.vstack((train_y,test_y)))"
   ]
  },
  {
   "cell_type": "markdown",
   "metadata": {},
   "source": [
    "### Fill the NAs and output"
   ]
  },
  {
   "cell_type": "code",
   "execution_count": 23,
   "metadata": {},
   "outputs": [],
   "source": [
    "df3.loc[df3.bathrooms.isna(),'bathrooms'] = test_y.reshape(-1,)"
   ]
  },
  {
   "cell_type": "code",
   "execution_count": 24,
   "metadata": {},
   "outputs": [
    {
     "data": {
      "text/plain": [
       "id               0\n",
       "date             0\n",
       "price            0\n",
       "bedrooms         0\n",
       "bathrooms        0\n",
       "sqft_living      0\n",
       "sqft_lot         0\n",
       "floors           0\n",
       "waterfront       0\n",
       "view             0\n",
       "condition        0\n",
       "grade            0\n",
       "sqft_above       0\n",
       "sqft_basement    0\n",
       "yr_built         0\n",
       "yr_renovated     0\n",
       "zipcode          0\n",
       "lat              0\n",
       "long             0\n",
       "dtype: int64"
      ]
     },
     "execution_count": 24,
     "metadata": {},
     "output_type": "execute_result"
    }
   ],
   "source": [
    "#check that there are no missing values any more\n",
    "df3.isnull().sum()"
   ]
  },
  {
   "cell_type": "code",
   "execution_count": 25,
   "metadata": {},
   "outputs": [],
   "source": [
    "df3.to_csv('./dataset3_solution.csv',index=False)"
   ]
  },
  {
   "cell_type": "markdown",
   "metadata": {},
   "source": [
    "## 4. Summary\n",
    "- It is quite import to select valid features when doing missing value imputation\n",
    "- If there is explicit relation, it would be unwise to use complex models\n",
    "- Visualization can help revealing correlations of features"
   ]
  }
 ],
 "metadata": {
  "kernelspec": {
   "display_name": "Python [conda env:anaconda3]",
   "language": "python",
   "name": "conda-env-anaconda3-py"
  },
  "language_info": {
   "codemirror_mode": {
    "name": "ipython",
    "version": 3
   },
   "file_extension": ".py",
   "mimetype": "text/x-python",
   "name": "python",
   "nbconvert_exporter": "python",
   "pygments_lexer": "ipython3",
   "version": "3.6.4"
  }
 },
 "nbformat": 4,
 "nbformat_minor": 2
}
