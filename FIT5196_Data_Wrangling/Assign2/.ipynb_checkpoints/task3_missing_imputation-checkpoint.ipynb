{
 "cells": [
  {
   "cell_type": "code",
   "execution_count": 16,
   "metadata": {},
   "outputs": [
    {
     "name": "stdout",
     "output_type": "stream",
     "text": [
      "Populating the interactive namespace from numpy and matplotlib\n"
     ]
    }
   ],
   "source": [
    "import pandas as pd\n",
    "import numpy as np\n",
    "\n",
    "%pylab inline"
   ]
  },
  {
   "cell_type": "code",
   "execution_count": 18,
   "metadata": {},
   "outputs": [],
   "source": [
    "df3 = pd.read_csv('./Input/dataset3_with_missing.csv')"
   ]
  },
  {
   "cell_type": "code",
   "execution_count": 19,
   "metadata": {},
   "outputs": [
    {
     "name": "stdout",
     "output_type": "stream",
     "text": [
      "<class 'pandas.core.frame.DataFrame'>\n",
      "RangeIndex: 9967 entries, 0 to 9966\n",
      "Data columns (total 19 columns):\n",
      "id               9967 non-null int64\n",
      "date             9967 non-null object\n",
      "price            9967 non-null int64\n",
      "bedrooms         9967 non-null int64\n",
      "bathrooms        9567 non-null float64\n",
      "sqft_living      9901 non-null float64\n",
      "sqft_lot         9967 non-null int64\n",
      "floors           9967 non-null float64\n",
      "waterfront       9967 non-null int64\n",
      "view             9967 non-null int64\n",
      "condition        9967 non-null int64\n",
      "grade            9967 non-null int64\n",
      "sqft_above       9900 non-null float64\n",
      "sqft_basement    9900 non-null float64\n",
      "yr_built         9967 non-null int64\n",
      "yr_renovated     9967 non-null int64\n",
      "zipcode          9967 non-null int64\n",
      "lat              9967 non-null float64\n",
      "long             9967 non-null float64\n",
      "dtypes: float64(7), int64(11), object(1)\n",
      "memory usage: 1.4+ MB\n"
     ]
    }
   ],
   "source": [
    "df3.info()"
   ]
  },
  {
   "cell_type": "code",
   "execution_count": 22,
   "metadata": {},
   "outputs": [
    {
     "data": {
      "text/plain": [
       "id                 0\n",
       "date               0\n",
       "price              0\n",
       "bedrooms           0\n",
       "bathrooms        400\n",
       "sqft_living       66\n",
       "sqft_lot           0\n",
       "floors             0\n",
       "waterfront         0\n",
       "view               0\n",
       "condition          0\n",
       "grade              0\n",
       "sqft_above        67\n",
       "sqft_basement     67\n",
       "yr_built           0\n",
       "yr_renovated       0\n",
       "zipcode            0\n",
       "lat                0\n",
       "long               0\n",
       "dtype: int64"
      ]
     },
     "execution_count": 22,
     "metadata": {},
     "output_type": "execute_result"
    }
   ],
   "source": [
    "#get the number of missing values for each columns\n",
    "df3.isnull().sum()"
   ]
  },
  {
   "cell_type": "code",
   "execution_count": 21,
   "metadata": {},
   "outputs": [
    {
     "data": {
      "text/html": [
       "<div>\n",
       "<style scoped>\n",
       "    .dataframe tbody tr th:only-of-type {\n",
       "        vertical-align: middle;\n",
       "    }\n",
       "\n",
       "    .dataframe tbody tr th {\n",
       "        vertical-align: top;\n",
       "    }\n",
       "\n",
       "    .dataframe thead th {\n",
       "        text-align: right;\n",
       "    }\n",
       "</style>\n",
       "<table border=\"1\" class=\"dataframe\">\n",
       "  <thead>\n",
       "    <tr style=\"text-align: right;\">\n",
       "      <th></th>\n",
       "      <th>id</th>\n",
       "      <th>price</th>\n",
       "      <th>bedrooms</th>\n",
       "      <th>bathrooms</th>\n",
       "      <th>sqft_living</th>\n",
       "      <th>sqft_lot</th>\n",
       "      <th>floors</th>\n",
       "      <th>waterfront</th>\n",
       "      <th>view</th>\n",
       "      <th>condition</th>\n",
       "      <th>grade</th>\n",
       "      <th>sqft_above</th>\n",
       "      <th>sqft_basement</th>\n",
       "      <th>yr_built</th>\n",
       "      <th>yr_renovated</th>\n",
       "      <th>zipcode</th>\n",
       "      <th>lat</th>\n",
       "      <th>long</th>\n",
       "    </tr>\n",
       "  </thead>\n",
       "  <tbody>\n",
       "    <tr>\n",
       "      <th>count</th>\n",
       "      <td>9.967000e+03</td>\n",
       "      <td>9.967000e+03</td>\n",
       "      <td>9967.000000</td>\n",
       "      <td>9567.00000</td>\n",
       "      <td>9901.000000</td>\n",
       "      <td>9.967000e+03</td>\n",
       "      <td>9967.000000</td>\n",
       "      <td>9967.000000</td>\n",
       "      <td>9967.000000</td>\n",
       "      <td>9967.000000</td>\n",
       "      <td>9967.000000</td>\n",
       "      <td>9900.000000</td>\n",
       "      <td>9900.000000</td>\n",
       "      <td>9967.000000</td>\n",
       "      <td>9967.000000</td>\n",
       "      <td>9967.000000</td>\n",
       "      <td>9967.000000</td>\n",
       "      <td>9967.000000</td>\n",
       "    </tr>\n",
       "    <tr>\n",
       "      <th>mean</th>\n",
       "      <td>4.582619e+09</td>\n",
       "      <td>5.292077e+05</td>\n",
       "      <td>3.360590</td>\n",
       "      <td>2.08430</td>\n",
       "      <td>2075.559135</td>\n",
       "      <td>1.475640e+04</td>\n",
       "      <td>1.480636</td>\n",
       "      <td>0.006522</td>\n",
       "      <td>0.221932</td>\n",
       "      <td>3.447677</td>\n",
       "      <td>7.667804</td>\n",
       "      <td>1788.707071</td>\n",
       "      <td>286.502626</td>\n",
       "      <td>1970.795124</td>\n",
       "      <td>88.537173</td>\n",
       "      <td>98076.508578</td>\n",
       "      <td>47.562232</td>\n",
       "      <td>-122.207991</td>\n",
       "    </tr>\n",
       "    <tr>\n",
       "      <th>std</th>\n",
       "      <td>2.874615e+09</td>\n",
       "      <td>3.292537e+05</td>\n",
       "      <td>0.918844</td>\n",
       "      <td>0.68647</td>\n",
       "      <td>875.594047</td>\n",
       "      <td>3.624471e+04</td>\n",
       "      <td>0.525657</td>\n",
       "      <td>0.080496</td>\n",
       "      <td>0.745250</td>\n",
       "      <td>0.670354</td>\n",
       "      <td>1.157612</td>\n",
       "      <td>803.025500</td>\n",
       "      <td>436.856021</td>\n",
       "      <td>29.212704</td>\n",
       "      <td>411.039302</td>\n",
       "      <td>53.255806</td>\n",
       "      <td>0.137256</td>\n",
       "      <td>0.142927</td>\n",
       "    </tr>\n",
       "    <tr>\n",
       "      <th>min</th>\n",
       "      <td>1.000102e+06</td>\n",
       "      <td>7.800000e+04</td>\n",
       "      <td>0.000000</td>\n",
       "      <td>0.00000</td>\n",
       "      <td>290.000000</td>\n",
       "      <td>6.380000e+02</td>\n",
       "      <td>1.000000</td>\n",
       "      <td>0.000000</td>\n",
       "      <td>0.000000</td>\n",
       "      <td>1.000000</td>\n",
       "      <td>1.000000</td>\n",
       "      <td>290.000000</td>\n",
       "      <td>0.000000</td>\n",
       "      <td>1900.000000</td>\n",
       "      <td>0.000000</td>\n",
       "      <td>98001.000000</td>\n",
       "      <td>47.155900</td>\n",
       "      <td>-122.515000</td>\n",
       "    </tr>\n",
       "    <tr>\n",
       "      <th>25%</th>\n",
       "      <td>2.124069e+09</td>\n",
       "      <td>3.203000e+05</td>\n",
       "      <td>3.000000</td>\n",
       "      <td>1.75000</td>\n",
       "      <td>1440.000000</td>\n",
       "      <td>5.136500e+03</td>\n",
       "      <td>1.000000</td>\n",
       "      <td>0.000000</td>\n",
       "      <td>0.000000</td>\n",
       "      <td>3.000000</td>\n",
       "      <td>7.000000</td>\n",
       "      <td>1200.000000</td>\n",
       "      <td>0.000000</td>\n",
       "      <td>1952.000000</td>\n",
       "      <td>0.000000</td>\n",
       "      <td>98032.000000</td>\n",
       "      <td>47.475700</td>\n",
       "      <td>-122.324000</td>\n",
       "    </tr>\n",
       "    <tr>\n",
       "      <th>50%</th>\n",
       "      <td>3.905040e+09</td>\n",
       "      <td>4.500000e+05</td>\n",
       "      <td>3.000000</td>\n",
       "      <td>2.25000</td>\n",
       "      <td>1950.000000</td>\n",
       "      <td>7.725000e+03</td>\n",
       "      <td>1.000000</td>\n",
       "      <td>0.000000</td>\n",
       "      <td>0.000000</td>\n",
       "      <td>3.000000</td>\n",
       "      <td>7.000000</td>\n",
       "      <td>1570.000000</td>\n",
       "      <td>0.000000</td>\n",
       "      <td>1975.000000</td>\n",
       "      <td>0.000000</td>\n",
       "      <td>98059.000000</td>\n",
       "      <td>47.574500</td>\n",
       "      <td>-122.221000</td>\n",
       "    </tr>\n",
       "    <tr>\n",
       "      <th>75%</th>\n",
       "      <td>7.304301e+09</td>\n",
       "      <td>6.400000e+05</td>\n",
       "      <td>4.000000</td>\n",
       "      <td>2.50000</td>\n",
       "      <td>2550.000000</td>\n",
       "      <td>1.084150e+04</td>\n",
       "      <td>2.000000</td>\n",
       "      <td>0.000000</td>\n",
       "      <td>0.000000</td>\n",
       "      <td>4.000000</td>\n",
       "      <td>8.000000</td>\n",
       "      <td>2240.000000</td>\n",
       "      <td>560.000000</td>\n",
       "      <td>1996.000000</td>\n",
       "      <td>0.000000</td>\n",
       "      <td>98117.000000</td>\n",
       "      <td>47.679200</td>\n",
       "      <td>-122.118000</td>\n",
       "    </tr>\n",
       "    <tr>\n",
       "      <th>max</th>\n",
       "      <td>9.895000e+09</td>\n",
       "      <td>7.062500e+06</td>\n",
       "      <td>33.000000</td>\n",
       "      <td>4.50000</td>\n",
       "      <td>10040.000000</td>\n",
       "      <td>1.074218e+06</td>\n",
       "      <td>3.500000</td>\n",
       "      <td>1.000000</td>\n",
       "      <td>4.000000</td>\n",
       "      <td>5.000000</td>\n",
       "      <td>13.000000</td>\n",
       "      <td>7680.000000</td>\n",
       "      <td>3500.000000</td>\n",
       "      <td>2015.000000</td>\n",
       "      <td>2015.000000</td>\n",
       "      <td>98199.000000</td>\n",
       "      <td>47.777600</td>\n",
       "      <td>-121.315000</td>\n",
       "    </tr>\n",
       "  </tbody>\n",
       "</table>\n",
       "</div>"
      ],
      "text/plain": [
       "                 id         price     bedrooms   bathrooms   sqft_living  \\\n",
       "count  9.967000e+03  9.967000e+03  9967.000000  9567.00000   9901.000000   \n",
       "mean   4.582619e+09  5.292077e+05     3.360590     2.08430   2075.559135   \n",
       "std    2.874615e+09  3.292537e+05     0.918844     0.68647    875.594047   \n",
       "min    1.000102e+06  7.800000e+04     0.000000     0.00000    290.000000   \n",
       "25%    2.124069e+09  3.203000e+05     3.000000     1.75000   1440.000000   \n",
       "50%    3.905040e+09  4.500000e+05     3.000000     2.25000   1950.000000   \n",
       "75%    7.304301e+09  6.400000e+05     4.000000     2.50000   2550.000000   \n",
       "max    9.895000e+09  7.062500e+06    33.000000     4.50000  10040.000000   \n",
       "\n",
       "           sqft_lot       floors   waterfront         view    condition  \\\n",
       "count  9.967000e+03  9967.000000  9967.000000  9967.000000  9967.000000   \n",
       "mean   1.475640e+04     1.480636     0.006522     0.221932     3.447677   \n",
       "std    3.624471e+04     0.525657     0.080496     0.745250     0.670354   \n",
       "min    6.380000e+02     1.000000     0.000000     0.000000     1.000000   \n",
       "25%    5.136500e+03     1.000000     0.000000     0.000000     3.000000   \n",
       "50%    7.725000e+03     1.000000     0.000000     0.000000     3.000000   \n",
       "75%    1.084150e+04     2.000000     0.000000     0.000000     4.000000   \n",
       "max    1.074218e+06     3.500000     1.000000     4.000000     5.000000   \n",
       "\n",
       "             grade   sqft_above  sqft_basement     yr_built  yr_renovated  \\\n",
       "count  9967.000000  9900.000000    9900.000000  9967.000000   9967.000000   \n",
       "mean      7.667804  1788.707071     286.502626  1970.795124     88.537173   \n",
       "std       1.157612   803.025500     436.856021    29.212704    411.039302   \n",
       "min       1.000000   290.000000       0.000000  1900.000000      0.000000   \n",
       "25%       7.000000  1200.000000       0.000000  1952.000000      0.000000   \n",
       "50%       7.000000  1570.000000       0.000000  1975.000000      0.000000   \n",
       "75%       8.000000  2240.000000     560.000000  1996.000000      0.000000   \n",
       "max      13.000000  7680.000000    3500.000000  2015.000000   2015.000000   \n",
       "\n",
       "            zipcode          lat         long  \n",
       "count   9967.000000  9967.000000  9967.000000  \n",
       "mean   98076.508578    47.562232  -122.207991  \n",
       "std       53.255806     0.137256     0.142927  \n",
       "min    98001.000000    47.155900  -122.515000  \n",
       "25%    98032.000000    47.475700  -122.324000  \n",
       "50%    98059.000000    47.574500  -122.221000  \n",
       "75%    98117.000000    47.679200  -122.118000  \n",
       "max    98199.000000    47.777600  -121.315000  "
      ]
     },
     "execution_count": 21,
     "metadata": {},
     "output_type": "execute_result"
    }
   ],
   "source": [
    "df3.describe()"
   ]
  },
  {
   "cell_type": "markdown",
   "metadata": {},
   "source": [
    "### columns that show explicit clue of missing data:\n",
    "- sqft_living : 66\n",
    "- sqft_above : 67\n",
    "- sqft_basement : 67\n",
    "- bathrooms : 400\n"
   ]
  },
  {
   "cell_type": "markdown",
   "metadata": {},
   "source": [
    "#### We start from the `bathrooms` column which seems irrelevant to the other three."
   ]
  },
  {
   "cell_type": "code",
   "execution_count": 9,
   "metadata": {},
   "outputs": [
    {
     "data": {
      "text/html": [
       "<div>\n",
       "<style scoped>\n",
       "    .dataframe tbody tr th:only-of-type {\n",
       "        vertical-align: middle;\n",
       "    }\n",
       "\n",
       "    .dataframe tbody tr th {\n",
       "        vertical-align: top;\n",
       "    }\n",
       "\n",
       "    .dataframe thead th {\n",
       "        text-align: right;\n",
       "    }\n",
       "</style>\n",
       "<table border=\"1\" class=\"dataframe\">\n",
       "  <thead>\n",
       "    <tr style=\"text-align: right;\">\n",
       "      <th></th>\n",
       "      <th>id</th>\n",
       "      <th>date</th>\n",
       "      <th>price</th>\n",
       "      <th>bedrooms</th>\n",
       "      <th>bathrooms</th>\n",
       "      <th>sqft_living</th>\n",
       "      <th>sqft_lot</th>\n",
       "      <th>floors</th>\n",
       "      <th>waterfront</th>\n",
       "      <th>view</th>\n",
       "      <th>condition</th>\n",
       "      <th>grade</th>\n",
       "      <th>sqft_above</th>\n",
       "      <th>sqft_basement</th>\n",
       "      <th>yr_built</th>\n",
       "      <th>yr_renovated</th>\n",
       "      <th>zipcode</th>\n",
       "      <th>lat</th>\n",
       "      <th>long</th>\n",
       "    </tr>\n",
       "  </thead>\n",
       "  <tbody>\n",
       "    <tr>\n",
       "      <th>0</th>\n",
       "      <td>1999700045</td>\n",
       "      <td>20140502T000000</td>\n",
       "      <td>313000</td>\n",
       "      <td>3</td>\n",
       "      <td>1.50</td>\n",
       "      <td>1340.0</td>\n",
       "      <td>7912</td>\n",
       "      <td>1.5</td>\n",
       "      <td>0</td>\n",
       "      <td>0</td>\n",
       "      <td>3</td>\n",
       "      <td>7</td>\n",
       "      <td>1340.0</td>\n",
       "      <td>0.0</td>\n",
       "      <td>1955</td>\n",
       "      <td>0</td>\n",
       "      <td>98133</td>\n",
       "      <td>47.7658</td>\n",
       "      <td>-122.339</td>\n",
       "    </tr>\n",
       "    <tr>\n",
       "      <th>1</th>\n",
       "      <td>1860600135</td>\n",
       "      <td>20140502T000000</td>\n",
       "      <td>2384000</td>\n",
       "      <td>5</td>\n",
       "      <td>2.50</td>\n",
       "      <td>3650.0</td>\n",
       "      <td>9050</td>\n",
       "      <td>2.0</td>\n",
       "      <td>0</td>\n",
       "      <td>4</td>\n",
       "      <td>5</td>\n",
       "      <td>10</td>\n",
       "      <td>3370.0</td>\n",
       "      <td>280.0</td>\n",
       "      <td>1921</td>\n",
       "      <td>0</td>\n",
       "      <td>98119</td>\n",
       "      <td>47.6345</td>\n",
       "      <td>-122.367</td>\n",
       "    </tr>\n",
       "    <tr>\n",
       "      <th>2</th>\n",
       "      <td>5467900070</td>\n",
       "      <td>20140502T000000</td>\n",
       "      <td>342000</td>\n",
       "      <td>3</td>\n",
       "      <td>2.00</td>\n",
       "      <td>1930.0</td>\n",
       "      <td>11947</td>\n",
       "      <td>1.0</td>\n",
       "      <td>0</td>\n",
       "      <td>0</td>\n",
       "      <td>4</td>\n",
       "      <td>8</td>\n",
       "      <td>1930.0</td>\n",
       "      <td>0.0</td>\n",
       "      <td>1966</td>\n",
       "      <td>0</td>\n",
       "      <td>98042</td>\n",
       "      <td>47.3672</td>\n",
       "      <td>-122.151</td>\n",
       "    </tr>\n",
       "    <tr>\n",
       "      <th>3</th>\n",
       "      <td>4040800810</td>\n",
       "      <td>20140502T000000</td>\n",
       "      <td>420000</td>\n",
       "      <td>3</td>\n",
       "      <td>2.25</td>\n",
       "      <td>2000.0</td>\n",
       "      <td>8030</td>\n",
       "      <td>1.0</td>\n",
       "      <td>0</td>\n",
       "      <td>0</td>\n",
       "      <td>4</td>\n",
       "      <td>8</td>\n",
       "      <td>1000.0</td>\n",
       "      <td>1000.0</td>\n",
       "      <td>1963</td>\n",
       "      <td>0</td>\n",
       "      <td>98008</td>\n",
       "      <td>47.6188</td>\n",
       "      <td>-122.114</td>\n",
       "    </tr>\n",
       "    <tr>\n",
       "      <th>4</th>\n",
       "      <td>7197300105</td>\n",
       "      <td>20140502T000000</td>\n",
       "      <td>550000</td>\n",
       "      <td>4</td>\n",
       "      <td>2.50</td>\n",
       "      <td>1940.0</td>\n",
       "      <td>10500</td>\n",
       "      <td>1.0</td>\n",
       "      <td>0</td>\n",
       "      <td>0</td>\n",
       "      <td>4</td>\n",
       "      <td>7</td>\n",
       "      <td>1140.0</td>\n",
       "      <td>800.0</td>\n",
       "      <td>1976</td>\n",
       "      <td>0</td>\n",
       "      <td>98052</td>\n",
       "      <td>47.6830</td>\n",
       "      <td>-122.114</td>\n",
       "    </tr>\n",
       "  </tbody>\n",
       "</table>\n",
       "</div>"
      ],
      "text/plain": [
       "           id             date    price  bedrooms  bathrooms  sqft_living  \\\n",
       "0  1999700045  20140502T000000   313000         3       1.50       1340.0   \n",
       "1  1860600135  20140502T000000  2384000         5       2.50       3650.0   \n",
       "2  5467900070  20140502T000000   342000         3       2.00       1930.0   \n",
       "3  4040800810  20140502T000000   420000         3       2.25       2000.0   \n",
       "4  7197300105  20140502T000000   550000         4       2.50       1940.0   \n",
       "\n",
       "   sqft_lot  floors  waterfront  view  condition  grade  sqft_above  \\\n",
       "0      7912     1.5           0     0          3      7      1340.0   \n",
       "1      9050     2.0           0     4          5     10      3370.0   \n",
       "2     11947     1.0           0     0          4      8      1930.0   \n",
       "3      8030     1.0           0     0          4      8      1000.0   \n",
       "4     10500     1.0           0     0          4      7      1140.0   \n",
       "\n",
       "   sqft_basement  yr_built  yr_renovated  zipcode      lat     long  \n",
       "0            0.0      1955             0    98133  47.7658 -122.339  \n",
       "1          280.0      1921             0    98119  47.6345 -122.367  \n",
       "2            0.0      1966             0    98042  47.3672 -122.151  \n",
       "3         1000.0      1963             0    98008  47.6188 -122.114  \n",
       "4          800.0      1976             0    98052  47.6830 -122.114  "
      ]
     },
     "execution_count": 9,
     "metadata": {},
     "output_type": "execute_result"
    }
   ],
   "source": [
    "df3.head()"
   ]
  },
  {
   "cell_type": "code",
   "execution_count": 10,
   "metadata": {},
   "outputs": [],
   "source": [
    "df = df3[~df3.bathrooms.isna()]"
   ]
  },
  {
   "cell_type": "code",
   "execution_count": 83,
   "metadata": {},
   "outputs": [],
   "source": [
    "group_living = df3.groupby('sqft_living')"
   ]
  },
  {
   "cell_type": "code",
   "execution_count": 85,
   "metadata": {},
   "outputs": [
    {
     "data": {
      "image/png": "[encoded data removed]",
      "text/plain": [
       "<Figure size 432x288 with 1 Axes>"
      ]
     },
     "metadata": {},
     "output_type": "display_data"
    }
   ],
   "source": [
    "plt.scatter(x=df.sqft_living,y=df.bathrooms);"
   ]
  },
  {
   "cell_type": "code",
   "execution_count": 93,
   "metadata": {},
   "outputs": [
    {
     "data": {
      "image/png": "[encoded data removed]",
      "text/plain": [
       "<Figure size 432x288 with 1 Axes>"
      ]
     },
     "metadata": {},
     "output_type": "display_data"
    }
   ],
   "source": [
    "plt.scatter(x=df.sqft_above,y=df.bathrooms);"
   ]
  },
  {
   "cell_type": "markdown",
   "metadata": {},
   "source": [
    "**After the investigation, it is discovered that the no of bathrooms only shows a correlation with the sqft_living and sqft_above.**\n",
    "Since  this two columns contains  missing values as well, it is better we handle the missing values in these columns first."
   ]
  },
  {
   "cell_type": "markdown",
   "metadata": {},
   "source": [
    "()"
   ]
  },
  {
   "cell_type": "markdown",
   "metadata": {},
   "source": [
    "Then we look at the remaining 3 columns `sqft_living`, `sqft_above`, `sqft_base`\n",
    "From the description of the dataset, we can infer that in usual cases the `sqft_living` should be the sum of `sqft_above` and `sqft_base`.\n",
    "That is `sqft_living = sqft_aboce + sqft_basement`"
   ]
  },
  {
   "cell_type": "code",
   "execution_count": 96,
   "metadata": {},
   "outputs": [],
   "source": [
    "three_sqfts = df3[~(df3.sqft_living == df3.sqft_above + df3.sqft_basement)][['sqft_living','sqft_above','sqft_basement']]"
   ]
  },
  {
   "cell_type": "code",
   "execution_count": 110,
   "metadata": {},
   "outputs": [
    {
     "data": {
      "text/plain": [
       "((200, 3),       sqft_living  sqft_above  sqft_basement\n",
       " 146        2450.0         NaN            0.0\n",
       " 189           NaN      1630.0            0.0\n",
       " 250        1010.0         NaN            0.0\n",
       " 326        2130.0         NaN         1030.0\n",
       " 338        1490.0         NaN            0.0\n",
       " 393         960.0         NaN            0.0\n",
       " 434        2320.0      1160.0            NaN\n",
       " 483           NaN      1010.0          720.0\n",
       " 503        1290.0      1290.0            NaN\n",
       " 509        1440.0         NaN          480.0\n",
       " 514         970.0       970.0            NaN\n",
       " 527        3070.0         NaN         1200.0\n",
       " 696           NaN      1090.0            0.0\n",
       " 701           NaN      1470.0          400.0\n",
       " 905        2240.0         NaN          970.0\n",
       " 953        1400.0      1140.0            NaN\n",
       " 956        1300.0      1300.0            NaN\n",
       " 974        1200.0      1200.0            NaN\n",
       " 1030          NaN      1900.0            0.0\n",
       " 1099       2220.0      2220.0            NaN\n",
       " 1111       2350.0         NaN            0.0\n",
       " 1175       1347.0         NaN            0.0\n",
       " 1254       1500.0      1000.0            NaN\n",
       " 1256          NaN      1270.0            0.0\n",
       " 1309       2740.0         NaN            0.0\n",
       " 1319       2640.0      1750.0            NaN\n",
       " 1367       1280.0      1080.0            NaN\n",
       " 1475       1600.0         NaN            0.0\n",
       " 1588          NaN      1230.0          990.0\n",
       " 1614       3640.0      2540.0            NaN\n",
       " ...           ...         ...            ...\n",
       " 8171       2820.0      1770.0            NaN\n",
       " 8253          NaN      3140.0          450.0\n",
       " 8331          NaN       810.0            0.0\n",
       " 8359       1060.0         NaN          500.0\n",
       " 8480       2420.0      2420.0            NaN\n",
       " 8494       3720.0      3720.0            NaN\n",
       " 8556          NaN      2245.0            0.0\n",
       " 8572       1480.0         NaN          700.0\n",
       " 8582       1410.0      1410.0            NaN\n",
       " 8591       1700.0         NaN            0.0\n",
       " 8618       3620.0         NaN          890.0\n",
       " 8638       1440.0       720.0            NaN\n",
       " 8699          NaN      2410.0            0.0\n",
       " 8707          NaN      1680.0         1130.0\n",
       " 8717       1280.0      1280.0            NaN\n",
       " 8724       1950.0      1950.0            NaN\n",
       " 8812       2170.0         NaN            0.0\n",
       " 8845       1750.0       950.0            NaN\n",
       " 9072       1670.0       990.0            NaN\n",
       " 9077       4280.0         NaN            0.0\n",
       " 9091       1710.0         NaN            0.0\n",
       " 9156       2740.0         NaN            0.0\n",
       " 9161          NaN      1320.0          380.0\n",
       " 9198       2410.0      2410.0            NaN\n",
       " 9273       1880.0         NaN          460.0\n",
       " 9467          NaN      1980.0          880.0\n",
       " 9485       1970.0      1070.0            NaN\n",
       " 9570       3230.0         NaN            0.0\n",
       " 9754          NaN      1390.0            0.0\n",
       " 9893        890.0         NaN            0.0\n",
       " \n",
       " [200 rows x 3 columns])"
      ]
     },
     "execution_count": 110,
     "metadata": {},
     "output_type": "execute_result"
    }
   ],
   "source": [
    "three_sqfts.shape,three_sqfts"
   ]
  },
  {
   "cell_type": "markdown",
   "metadata": {},
   "source": [
    "This indicate that correlation do exists and it is only the existence of the missing values in one or more columns among the three that produced the above exceptions"
   ]
  },
  {
   "cell_type": "markdown",
   "metadata": {},
   "source": [
    "To be able to impute the missing values based on our inference, it is necessary that for all records, no more than one column of the three columns should be missing"
   ]
  },
  {
   "cell_type": "code",
   "execution_count": 111,
   "metadata": {},
   "outputs": [
    {
     "data": {
      "text/plain": [
       "array([0, 0])"
      ]
     },
     "execution_count": 111,
     "metadata": {},
     "output_type": "execute_result"
    }
   ],
   "source": [
    "# check whether the preconditon above is satisfied\n",
    "np.array(three_sqfts.shape) - np.array(three_sqfts.dropna(thresh=2).shape)"
   ]
  },
  {
   "cell_type": "markdown",
   "metadata": {},
   "source": [
    "The precondition is already satisfied, so we can start impute all the missing values using the equation between the 3 columns."
   ]
  },
  {
   "cell_type": "code",
   "execution_count": 122,
   "metadata": {},
   "outputs": [],
   "source": [
    "#impute missing values using the proved equation\n",
    "df3.sqft_living = df3.sqft_living.fillna(df3.sqft_above + df3.sqft_basement)\n",
    "df3.sqft_above = df3.sqft_above.fillna(df3.sqft_living - df3.sqft_basement)\n",
    "df3.sqft_basement = df3.sqft_basement.fillna(df3.sqft_living - df3.sqft_above)"
   ]
  },
  {
   "cell_type": "code",
   "execution_count": 119,
   "metadata": {},
   "outputs": [
    {
     "name": "stdout",
     "output_type": "stream",
     "text": [
      "<class 'pandas.core.frame.DataFrame'>\n",
      "RangeIndex: 9967 entries, 0 to 9966\n",
      "Data columns (total 19 columns):\n",
      "id               9967 non-null int64\n",
      "date             9967 non-null object\n",
      "price            9967 non-null int64\n",
      "bedrooms         9967 non-null int64\n",
      "bathrooms        9567 non-null float64\n",
      "sqft_living      9967 non-null float64\n",
      "sqft_lot         9967 non-null int64\n",
      "floors           9967 non-null float64\n",
      "waterfront       9967 non-null int64\n",
      "view             9967 non-null int64\n",
      "condition        9967 non-null int64\n",
      "grade            9967 non-null int64\n",
      "sqft_above       9967 non-null float64\n",
      "sqft_basement    9967 non-null float64\n",
      "yr_built         9967 non-null int64\n",
      "yr_renovated     9967 non-null int64\n",
      "zipcode          9967 non-null int64\n",
      "lat              9967 non-null float64\n",
      "long             9967 non-null float64\n",
      "dtypes: float64(7), int64(11), object(1)\n",
      "memory usage: 1.4+ MB\n"
     ]
    }
   ],
   "source": [
    "df3.info()"
   ]
  },
  {
   "cell_type": "code",
   "execution_count": 121,
   "metadata": {},
   "outputs": [
    {
     "data": {
      "text/plain": [
       "id                 0\n",
       "date               0\n",
       "price              0\n",
       "bedrooms           0\n",
       "bathrooms        400\n",
       "sqft_living        0\n",
       "sqft_lot           0\n",
       "floors             0\n",
       "waterfront         0\n",
       "view               0\n",
       "condition          0\n",
       "grade              0\n",
       "sqft_above         0\n",
       "sqft_basement      0\n",
       "yr_built           0\n",
       "yr_renovated       0\n",
       "zipcode            0\n",
       "lat                0\n",
       "long               0\n",
       "dtype: int64"
      ]
     },
     "execution_count": 121,
     "metadata": {},
     "output_type": "execute_result"
    }
   ],
   "source": [
    "df3.isnull().sum()"
   ]
  },
  {
   "cell_type": "markdown",
   "metadata": {},
   "source": [
    "#### Now its time we get back to the last column that contains missing values which is the `bathrooms`"
   ]
  },
  {
   "cell_type": "code",
   "execution_count": 127,
   "metadata": {},
   "outputs": [
    {
     "data": {
      "text/plain": [
       "2.50    2546\n",
       "1.00    1596\n",
       "1.75    1441\n",
       "2.00     921\n",
       "2.25     913\n",
       "1.50     633\n",
       "2.75     555\n",
       "3.00     315\n",
       "3.50     279\n",
       "3.25     239\n",
       "3.75      49\n",
       "0.75      31\n",
       "4.00      21\n",
       "4.25      14\n",
       "4.50       7\n",
       "1.25       4\n",
       "0.00       2\n",
       "0.50       1\n",
       "Name: bathrooms, dtype: int64"
      ]
     },
     "execution_count": 127,
     "metadata": {},
     "output_type": "execute_result"
    }
   ],
   "source": [
    "df3.bathrooms.value_counts()"
   ]
  },
  {
   "cell_type": "code",
   "execution_count": 124,
   "metadata": {},
   "outputs": [
    {
     "data": {
      "image/png": "[encoded data removed]",
      "text/plain": [
       "<Figure size 432x288 with 1 Axes>"
      ]
     },
     "metadata": {},
     "output_type": "display_data"
    }
   ],
   "source": [
    "plt.scatter(x=df3.sqft_living, y=df3.bathrooms);"
   ]
  },
  {
   "cell_type": "markdown",
   "metadata": {},
   "source": [
    "This looks similar to a regression problem but"
   ]
  }
 ],
 "metadata": {
  "kernelspec": {
   "display_name": "Python [conda env:5196]",
   "language": "python",
   "name": "conda-env-5196-py"
  },
  "language_info": {
   "codemirror_mode": {
    "name": "ipython",
    "version": 3
   },
   "file_extension": ".py",
   "mimetype": "text/x-python",
   "name": "python",
   "nbconvert_exporter": "python",
   "pygments_lexer": "ipython3",
   "version": "3.6.4"
  }
 },
 "nbformat": 4,
 "nbformat_minor": 2
}
