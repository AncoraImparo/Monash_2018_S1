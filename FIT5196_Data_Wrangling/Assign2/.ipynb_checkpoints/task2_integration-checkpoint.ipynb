{
 "cells": [
  {
   "cell_type": "markdown",
   "metadata": {},
   "source": [
    "# FIT5196 Task 2 in Assessment 2\n",
    "#### Student Name: Boyu Zhang\n",
    "#### Student ID: 28491300\n",
    "\n",
    "Date: XX/XX/XXXX\n",
    "\n",
    "Version: 1.0\n",
    "\n",
    "Environment: Python 3.6 and Jupyter notebook\n",
    "\n",
    "Libraries used: please include the main libraries you used in your assignment here, e.g.,:\n",
    "* pandas (for dataframe, included in Anaconda Python ) \n",
    "* re (for regular expression, included in Anaconda Python 3.6) \n",
    "* numpy (for numpy array, included in Anaconda Python 3.6) "
   ]
  },
  {
   "cell_type": "markdown",
   "metadata": {},
   "source": [
    "## 1.  Import libraries "
   ]
  },
  {
   "cell_type": "code",
   "execution_count": 3,
   "metadata": {},
   "outputs": [],
   "source": [
    "# Code to import libraries as you need in this assessment, e.g.,\n",
    "import pandas as pd\n",
    "import re\n",
    "import editdistance"
   ]
  },
  {
   "cell_type": "markdown",
   "metadata": {},
   "source": [
    "## 2. Load datasets and exploration"
   ]
  },
  {
   "cell_type": "code",
   "execution_count": 4,
   "metadata": {},
   "outputs": [],
   "source": [
    "df2 = pd.read_csv('./Input/dataset2_integration.csv')\n",
    "df1 = pd.read_csv('./dataset1_solution.csv')"
   ]
  },
  {
   "cell_type": "code",
   "execution_count": 52,
   "metadata": {},
   "outputs": [
    {
     "data": {
      "text/plain": [
       "Index(['Id', 'Source Name', 'Title', 'Location', 'ContractType',\n",
       "       'ContractTime', 'Company', 'Category', 'Salary per month', 'OpenDate',\n",
       "       'CloseDate'],\n",
       "      dtype='object')"
      ]
     },
     "execution_count": 52,
     "metadata": {},
     "output_type": "execute_result"
    }
   ],
   "source": [
    "df1.columns"
   ]
  },
  {
   "cell_type": "code",
   "execution_count": 53,
   "metadata": {},
   "outputs": [
    {
     "data": {
      "text/plain": [
       "Index(['Id', 'Source Name', 'Title', 'Location', 'Contract Type',\n",
       "       'Contract Time', 'Company', 'Category', 'Salary per month', 'OpenDate',\n",
       "       'CloseDate'],\n",
       "      dtype='object')"
      ]
     },
     "execution_count": 53,
     "metadata": {},
     "output_type": "execute_result"
    }
   ],
   "source": [
    "df2.columns"
   ]
  },
  {
   "cell_type": "markdown",
   "metadata": {},
   "source": [
    "It seems there are two schema level conflicst between the two datasets:\n",
    "1. There are attributes with same semantics that are not aligned\n",
    "2. The `Salary` column is inconsistent"
   ]
  },
  {
   "cell_type": "markdown",
   "metadata": {
    "collapsed": true
   },
   "source": [
    "## 3. Integrate Datasets\n",
    "\n"
   ]
  },
  {
   "cell_type": "markdown",
   "metadata": {},
   "source": [
    "### 3.1 Resolve schema conflicts"
   ]
  },
  {
   "cell_type": "markdown",
   "metadata": {},
   "source": [
    "First we realign the order of columns in dataset1 and change the unit of `Salary` column"
   ]
  },
  {
   "cell_type": "code",
   "execution_count": 55,
   "metadata": {},
   "outputs": [],
   "source": [
    "#unify unit of salary and re-align columns\n",
    "new_salary =df1['Salary per annum'].astype(int)//12\n",
    "source = df1.SourceName\n",
    "df1.drop(columns='Salary per annum',inplace=True)\n",
    "df1.drop(columns='SourceName',inplace=True)\n",
    "df1.insert(7,column='Salary per month',value=new_salary)\n",
    "df1.insert(1,column=\"Source Name\",value=source)\n",
    "df1.rename(columns={'Location':'location','ContractType':'Contract Type','ContractTime':'Contract Time'},inplace=True)"
   ]
  },
  {
   "cell_type": "markdown",
   "metadata": {},
   "source": [
    "Concatenate the two dataset"
   ]
  },
  {
   "cell_type": "code",
   "execution_count": 56,
   "metadata": {},
   "outputs": [],
   "source": [
    "df = pd.concat([df2,df1])"
   ]
  },
  {
   "cell_type": "code",
   "execution_count": 57,
   "metadata": {},
   "outputs": [
    {
     "data": {
      "text/html": [
       "<div>\n",
       "<style scoped>\n",
       "    .dataframe tbody tr th:only-of-type {\n",
       "        vertical-align: middle;\n",
       "    }\n",
       "\n",
       "    .dataframe tbody tr th {\n",
       "        vertical-align: top;\n",
       "    }\n",
       "\n",
       "    .dataframe thead th {\n",
       "        text-align: right;\n",
       "    }\n",
       "</style>\n",
       "<table border=\"1\" class=\"dataframe\">\n",
       "  <thead>\n",
       "    <tr style=\"text-align: right;\">\n",
       "      <th></th>\n",
       "      <th>Id</th>\n",
       "      <th>Source Name</th>\n",
       "      <th>Title</th>\n",
       "      <th>location</th>\n",
       "      <th>Contract Type</th>\n",
       "      <th>Contract Time</th>\n",
       "      <th>Company</th>\n",
       "      <th>Category</th>\n",
       "      <th>Salary per month</th>\n",
       "      <th>OpenDate</th>\n",
       "      <th>CloseDate</th>\n",
       "    </tr>\n",
       "  </thead>\n",
       "  <tbody>\n",
       "    <tr>\n",
       "      <th>0</th>\n",
       "      <td>69247680</td>\n",
       "      <td>jobs.guardian.co.uk</td>\n",
       "      <td>Business Development Exec  research / insight ...</td>\n",
       "      <td>London</td>\n",
       "      <td>ft</td>\n",
       "      <td>perm.</td>\n",
       "      <td>BOYCE RECRUITMENT</td>\n",
       "      <td>PR, Advertising &amp; Marketing Jobs</td>\n",
       "      <td>2125</td>\n",
       "      <td>2012-03-01 15:00:00</td>\n",
       "      <td>2012-03-31 15:00:00</td>\n",
       "    </tr>\n",
       "    <tr>\n",
       "      <th>1</th>\n",
       "      <td>69247682</td>\n",
       "      <td>icaewjobs.com</td>\n",
       "      <td>Audit Senior  London</td>\n",
       "      <td>London</td>\n",
       "      <td>ft</td>\n",
       "      <td>contr.</td>\n",
       "      <td>Pro Finance</td>\n",
       "      <td>Finance &amp; Accounting Jobs</td>\n",
       "      <td>3600</td>\n",
       "      <td>2013-03-14 12:00:00</td>\n",
       "      <td>2013-04-13 12:00:00</td>\n",
       "    </tr>\n",
       "    <tr>\n",
       "      <th>2</th>\n",
       "      <td>69247685</td>\n",
       "      <td>jobs.guardian.co.uk</td>\n",
       "      <td>PR &amp; Social Media Account Executive  Top Inter...</td>\n",
       "      <td>Central London</td>\n",
       "      <td>ft</td>\n",
       "      <td>perm.</td>\n",
       "      <td>ECOM RECRUITMENT LTD</td>\n",
       "      <td>PR, Advertising &amp; Marketing Jobs</td>\n",
       "      <td>1917</td>\n",
       "      <td>2012-02-14 12:00:00</td>\n",
       "      <td>2012-03-15 12:00:00</td>\n",
       "    </tr>\n",
       "    <tr>\n",
       "      <th>3</th>\n",
       "      <td>69247688</td>\n",
       "      <td>jobs.guardian.co.uk</td>\n",
       "      <td>Content Manager</td>\n",
       "      <td>London</td>\n",
       "      <td>ft</td>\n",
       "      <td>perm.</td>\n",
       "      <td>NAKAMA LONDON</td>\n",
       "      <td>PR, Advertising &amp; Marketing Jobs</td>\n",
       "      <td>2083</td>\n",
       "      <td>2012-10-21 00:00:00</td>\n",
       "      <td>2012-12-20 00:00:00</td>\n",
       "    </tr>\n",
       "    <tr>\n",
       "      <th>4</th>\n",
       "      <td>69247694</td>\n",
       "      <td>jobs.guardian.co.uk</td>\n",
       "      <td>AV PRODUCTION MANAGER</td>\n",
       "      <td>Worcestershire</td>\n",
       "      <td>ft</td>\n",
       "      <td>perm.</td>\n",
       "      <td>LIVE RECRUITMENT</td>\n",
       "      <td>PR, Advertising &amp; Marketing Jobs</td>\n",
       "      <td>2292</td>\n",
       "      <td>2012-02-22 00:00:00</td>\n",
       "      <td>2012-04-22 00:00:00</td>\n",
       "    </tr>\n",
       "  </tbody>\n",
       "</table>\n",
       "</div>"
      ],
      "text/plain": [
       "         Id          Source Name  \\\n",
       "0  69247680  jobs.guardian.co.uk   \n",
       "1  69247682        icaewjobs.com   \n",
       "2  69247685  jobs.guardian.co.uk   \n",
       "3  69247688  jobs.guardian.co.uk   \n",
       "4  69247694  jobs.guardian.co.uk   \n",
       "\n",
       "                                               Title        location  \\\n",
       "0  Business Development Exec  research / insight ...          London   \n",
       "1                               Audit Senior  London          London   \n",
       "2  PR & Social Media Account Executive  Top Inter...  Central London   \n",
       "3                                    Content Manager          London   \n",
       "4                              AV PRODUCTION MANAGER  Worcestershire   \n",
       "\n",
       "  Contract Type Contract Time               Company  \\\n",
       "0            ft         perm.     BOYCE RECRUITMENT   \n",
       "1            ft        contr.           Pro Finance   \n",
       "2            ft         perm.  ECOM RECRUITMENT LTD   \n",
       "3            ft         perm.         NAKAMA LONDON   \n",
       "4            ft         perm.      LIVE RECRUITMENT   \n",
       "\n",
       "                           Category  Salary per month             OpenDate  \\\n",
       "0  PR, Advertising & Marketing Jobs              2125  2012-03-01 15:00:00   \n",
       "1         Finance & Accounting Jobs              3600  2013-03-14 12:00:00   \n",
       "2  PR, Advertising & Marketing Jobs              1917  2012-02-14 12:00:00   \n",
       "3  PR, Advertising & Marketing Jobs              2083  2012-10-21 00:00:00   \n",
       "4  PR, Advertising & Marketing Jobs              2292  2012-02-22 00:00:00   \n",
       "\n",
       "             CloseDate  \n",
       "0  2012-03-31 15:00:00  \n",
       "1  2013-04-13 12:00:00  \n",
       "2  2012-03-15 12:00:00  \n",
       "3  2012-12-20 00:00:00  \n",
       "4  2012-04-22 00:00:00  "
      ]
     },
     "execution_count": 57,
     "metadata": {},
     "output_type": "execute_result"
    }
   ],
   "source": [
    "df.head()"
   ]
  },
  {
   "cell_type": "markdown",
   "metadata": {},
   "source": [
    "## 4. Summary\n",
    "Give a short summary of your work done above, such as your findings."
   ]
  },
  {
   "cell_type": "markdown",
   "metadata": {
    "collapsed": true
   },
   "source": [
    "## Potential integration issue at first glance:\n",
    "- Different representation of `Contract Type` ad `Contract Time` in dataset1 and dataset2\n",
    "- Different unit for `Salary`\n",
    "- duplicated records(can be solved only when all format and units are uniformed first)"
   ]
  }
 ],
 "metadata": {
  "kernelspec": {
   "display_name": "Python [conda env:5196]",
   "language": "python",
   "name": "conda-env-5196-py"
  },
  "language_info": {
   "codemirror_mode": {
    "name": "ipython",
    "version": 3
   },
   "file_extension": ".py",
   "mimetype": "text/x-python",
   "name": "python",
   "nbconvert_exporter": "python",
   "pygments_lexer": "ipython3",
   "version": "3.6.4"
  }
 },
 "nbformat": 4,
 "nbformat_minor": 1
}
