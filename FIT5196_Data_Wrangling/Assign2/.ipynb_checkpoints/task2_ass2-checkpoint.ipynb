{
 "cells": [
  {
   "cell_type": "markdown",
   "metadata": {},
   "source": [
    "# FIT5196 Task 2 in Assessment 2\n",
    "#### Student Name: Boyu Zhang\n",
    "#### Student ID: 28491300\n",
    "\n",
    "Date: XX/XX/XXXX\n",
    "\n",
    "Version: 1.0\n",
    "\n",
    "Environment: Python 3.6 and Jupyter notebook\n",
    "\n",
    "Libraries used: please include the main libraries you used in your assignment here, e.g.,:\n",
    "* pandas (for dataframe, included in Anaconda Python ) \n",
    "* re (for regular expression, included in Anaconda Python 3.6) \n",
    "* numpy (for numpy array, included in Anaconda Python 3.6)\n",
    "* jellyfish (for vairous string similarity matching, obtained by `pip install jellyfish`)\n",
    "* sklearn (as depency of recordlinkag, obtained by `conda install scikit-learn`)\n",
    "* recordlinkage (for record matching operations, obatained by `pip install recordlinkage`)"
   ]
  },
  {
   "cell_type": "markdown",
   "metadata": {},
   "source": [
    "## 1.  Import libraries "
   ]
  },
  {
   "cell_type": "code",
   "execution_count": 1,
   "metadata": {},
   "outputs": [],
   "source": [
    "# Code to import libraries as you need in this assessment, e.g.,\n",
    "import numpy as np\n",
    "import pandas as pd\n",
    "import re\n",
    "import jellyfish\n",
    "import recordlinkage "
   ]
  },
  {
   "cell_type": "markdown",
   "metadata": {},
   "source": [
    "## 2. Load datasets and exploration"
   ]
  },
  {
   "cell_type": "code",
   "execution_count": 2,
   "metadata": {},
   "outputs": [],
   "source": [
    "df2 = pd.read_csv('./Input/dataset2_integration.csv')\n",
    "df1 = pd.read_csv('./dataset1_solution.csv')"
   ]
  },
  {
   "cell_type": "code",
   "execution_count": 3,
   "metadata": {},
   "outputs": [
    {
     "data": {
      "text/plain": [
       "Index(['Id', 'Title', 'Location', 'ContractType', 'ContractTime', 'Company',\n",
       "       'Category', 'Salary per annum', 'SourceName', 'OpenDate', 'CloseDate'],\n",
       "      dtype='object')"
      ]
     },
     "execution_count": 3,
     "metadata": {},
     "output_type": "execute_result"
    }
   ],
   "source": [
    "df1.columns"
   ]
  },
  {
   "cell_type": "code",
   "execution_count": 4,
   "metadata": {},
   "outputs": [
    {
     "data": {
      "text/plain": [
       "Index(['Id', 'Source Name', 'Title', 'location', 'Contract Type',\n",
       "       'Contract Time', 'Company', 'Category', 'Salary per month', 'OpenDate',\n",
       "       'CloseDate'],\n",
       "      dtype='object')"
      ]
     },
     "execution_count": 4,
     "metadata": {},
     "output_type": "execute_result"
    }
   ],
   "source": [
    "df2.columns"
   ]
  },
  {
   "cell_type": "markdown",
   "metadata": {},
   "source": [
    "It seems there are two schema level conflicst between the two datasets:\n",
    "1. There are attributes with same semantics that are not aligned\n",
    "2. The `Salary` column is inconsistent"
   ]
  },
  {
   "cell_type": "markdown",
   "metadata": {
    "collapsed": true
   },
   "source": [
    "## 3. Integrate Datasets\n",
    "\n"
   ]
  },
  {
   "cell_type": "markdown",
   "metadata": {},
   "source": [
    "## 3.1 Resolve schema conflicts"
   ]
  },
  {
   "cell_type": "markdown",
   "metadata": {},
   "source": [
    "First we realign the order of columns in dataset2 and change the unit of `Salary` column"
   ]
  },
  {
   "cell_type": "code",
   "execution_count": 5,
   "metadata": {},
   "outputs": [],
   "source": [
    "#unify unit of salary and re-align columns by adjusting schema of dataset2\n",
    "new_salary = df2['Salary per month'].astype(int)*12\n",
    "df2.drop(columns='Salary per month',inplace=True)\n",
    "df2.insert(loc=8,column='Salary per annum',value=new_salary)\n",
    "source = df2['Source Name'] \n",
    "df2.drop(columns='Source Name',inplace=True)\n",
    "df2.insert(loc=8,column='SourceName',value=source)\n",
    "df2.rename(columns={'location':'Location','Contract Type':'ContractType','Contract Time':'ContractTime'},inplace=True)"
   ]
  },
  {
   "cell_type": "markdown",
   "metadata": {},
   "source": [
    "Final check before concatenating two datasets:"
   ]
  },
  {
   "cell_type": "code",
   "execution_count": 6,
   "metadata": {},
   "outputs": [
    {
     "data": {
      "text/html": [
       "<div>\n",
       "<style scoped>\n",
       "    .dataframe tbody tr th:only-of-type {\n",
       "        vertical-align: middle;\n",
       "    }\n",
       "\n",
       "    .dataframe tbody tr th {\n",
       "        vertical-align: top;\n",
       "    }\n",
       "\n",
       "    .dataframe thead th {\n",
       "        text-align: right;\n",
       "    }\n",
       "</style>\n",
       "<table border=\"1\" class=\"dataframe\">\n",
       "  <thead>\n",
       "    <tr style=\"text-align: right;\">\n",
       "      <th></th>\n",
       "      <th>Id</th>\n",
       "      <th>Title</th>\n",
       "      <th>Location</th>\n",
       "      <th>ContractType</th>\n",
       "      <th>ContractTime</th>\n",
       "      <th>Company</th>\n",
       "      <th>Category</th>\n",
       "      <th>Salary per annum</th>\n",
       "      <th>SourceName</th>\n",
       "      <th>OpenDate</th>\n",
       "      <th>CloseDate</th>\n",
       "    </tr>\n",
       "  </thead>\n",
       "  <tbody>\n",
       "    <tr>\n",
       "      <th>0</th>\n",
       "      <td>12612628</td>\n",
       "      <td>Engineering Systems Analyst</td>\n",
       "      <td>Dorking</td>\n",
       "      <td>non_specified</td>\n",
       "      <td>permanent</td>\n",
       "      <td>Gregory Martin International</td>\n",
       "      <td>Engineering Jobs</td>\n",
       "      <td>24996</td>\n",
       "      <td>cv-library.co.uk</td>\n",
       "      <td>2012-11-03 00:00:00</td>\n",
       "      <td>2012-12-03 00:00:00</td>\n",
       "    </tr>\n",
       "    <tr>\n",
       "      <th>1</th>\n",
       "      <td>12612830</td>\n",
       "      <td>Stress Engineer Glasgow</td>\n",
       "      <td>Glasgow</td>\n",
       "      <td>non_specified</td>\n",
       "      <td>permanent</td>\n",
       "      <td>Gregory Martin International</td>\n",
       "      <td>Engineering Jobs</td>\n",
       "      <td>30000</td>\n",
       "      <td>cv-library.co.uk</td>\n",
       "      <td>2013-01-08 15:00:00</td>\n",
       "      <td>2013-04-08 15:00:00</td>\n",
       "    </tr>\n",
       "    <tr>\n",
       "      <th>2</th>\n",
       "      <td>12612844</td>\n",
       "      <td>Modelling And Simulation Analyst</td>\n",
       "      <td>Hampshire</td>\n",
       "      <td>non_specified</td>\n",
       "      <td>permanent</td>\n",
       "      <td>Gregory Martin International</td>\n",
       "      <td>Engineering Jobs</td>\n",
       "      <td>30000</td>\n",
       "      <td>cv-library.co.uk</td>\n",
       "      <td>2013-07-26 15:00:00</td>\n",
       "      <td>2013-09-24 15:00:00</td>\n",
       "    </tr>\n",
       "    <tr>\n",
       "      <th>3</th>\n",
       "      <td>12613049</td>\n",
       "      <td>Engineering Systems Analyst / Mathematical Mod...</td>\n",
       "      <td>Surrey</td>\n",
       "      <td>non_specified</td>\n",
       "      <td>permanent</td>\n",
       "      <td>Gregory Martin International</td>\n",
       "      <td>Engineering Jobs</td>\n",
       "      <td>27504</td>\n",
       "      <td>cv-library.co.uk</td>\n",
       "      <td>2012-12-14 00:00:00</td>\n",
       "      <td>2013-03-14 00:00:00</td>\n",
       "    </tr>\n",
       "    <tr>\n",
       "      <th>4</th>\n",
       "      <td>12613647</td>\n",
       "      <td>Pioneer, Miser Engineering Systems Analyst</td>\n",
       "      <td>Surrey</td>\n",
       "      <td>non_specified</td>\n",
       "      <td>permanent</td>\n",
       "      <td>Gregory Martin International</td>\n",
       "      <td>Engineering Jobs</td>\n",
       "      <td>24996</td>\n",
       "      <td>cv-library.co.uk</td>\n",
       "      <td>2013-10-25 00:00:00</td>\n",
       "      <td>2013-12-24 00:00:00</td>\n",
       "    </tr>\n",
       "  </tbody>\n",
       "</table>\n",
       "</div>"
      ],
      "text/plain": [
       "         Id                                              Title   Location  \\\n",
       "0  12612628                        Engineering Systems Analyst    Dorking   \n",
       "1  12612830                            Stress Engineer Glasgow    Glasgow   \n",
       "2  12612844                   Modelling And Simulation Analyst  Hampshire   \n",
       "3  12613049  Engineering Systems Analyst / Mathematical Mod...     Surrey   \n",
       "4  12613647         Pioneer, Miser Engineering Systems Analyst     Surrey   \n",
       "\n",
       "    ContractType ContractTime                       Company          Category  \\\n",
       "0  non_specified    permanent  Gregory Martin International  Engineering Jobs   \n",
       "1  non_specified    permanent  Gregory Martin International  Engineering Jobs   \n",
       "2  non_specified    permanent  Gregory Martin International  Engineering Jobs   \n",
       "3  non_specified    permanent  Gregory Martin International  Engineering Jobs   \n",
       "4  non_specified    permanent  Gregory Martin International  Engineering Jobs   \n",
       "\n",
       "   Salary per annum        SourceName             OpenDate  \\\n",
       "0             24996  cv-library.co.uk  2012-11-03 00:00:00   \n",
       "1             30000  cv-library.co.uk  2013-01-08 15:00:00   \n",
       "2             30000  cv-library.co.uk  2013-07-26 15:00:00   \n",
       "3             27504  cv-library.co.uk  2012-12-14 00:00:00   \n",
       "4             24996  cv-library.co.uk  2013-10-25 00:00:00   \n",
       "\n",
       "             CloseDate  \n",
       "0  2012-12-03 00:00:00  \n",
       "1  2013-04-08 15:00:00  \n",
       "2  2013-09-24 15:00:00  \n",
       "3  2013-03-14 00:00:00  \n",
       "4  2013-12-24 00:00:00  "
      ]
     },
     "execution_count": 6,
     "metadata": {},
     "output_type": "execute_result"
    }
   ],
   "source": [
    "df1.head()"
   ]
  },
  {
   "cell_type": "code",
   "execution_count": 7,
   "metadata": {},
   "outputs": [
    {
     "data": {
      "text/html": [
       "<div>\n",
       "<style scoped>\n",
       "    .dataframe tbody tr th:only-of-type {\n",
       "        vertical-align: middle;\n",
       "    }\n",
       "\n",
       "    .dataframe tbody tr th {\n",
       "        vertical-align: top;\n",
       "    }\n",
       "\n",
       "    .dataframe thead th {\n",
       "        text-align: right;\n",
       "    }\n",
       "</style>\n",
       "<table border=\"1\" class=\"dataframe\">\n",
       "  <thead>\n",
       "    <tr style=\"text-align: right;\">\n",
       "      <th></th>\n",
       "      <th>Id</th>\n",
       "      <th>Title</th>\n",
       "      <th>Location</th>\n",
       "      <th>ContractType</th>\n",
       "      <th>ContractTime</th>\n",
       "      <th>Company</th>\n",
       "      <th>Category</th>\n",
       "      <th>Salary per annum</th>\n",
       "      <th>SourceName</th>\n",
       "      <th>OpenDate</th>\n",
       "      <th>CloseDate</th>\n",
       "    </tr>\n",
       "  </thead>\n",
       "  <tbody>\n",
       "    <tr>\n",
       "      <th>0</th>\n",
       "      <td>69247680</td>\n",
       "      <td>Business Development Exec  research / insight ...</td>\n",
       "      <td>London</td>\n",
       "      <td>ft</td>\n",
       "      <td>perm.</td>\n",
       "      <td>BOYCE RECRUITMENT</td>\n",
       "      <td>PR, Advertising &amp; Marketing Jobs</td>\n",
       "      <td>25500</td>\n",
       "      <td>jobs.guardian.co.uk</td>\n",
       "      <td>2012-03-01 15:00:00</td>\n",
       "      <td>2012-03-31 15:00:00</td>\n",
       "    </tr>\n",
       "    <tr>\n",
       "      <th>1</th>\n",
       "      <td>69247682</td>\n",
       "      <td>Audit Senior  London</td>\n",
       "      <td>London</td>\n",
       "      <td>ft</td>\n",
       "      <td>contr.</td>\n",
       "      <td>Pro Finance</td>\n",
       "      <td>Finance &amp; Accounting Jobs</td>\n",
       "      <td>43200</td>\n",
       "      <td>icaewjobs.com</td>\n",
       "      <td>2013-03-14 12:00:00</td>\n",
       "      <td>2013-04-13 12:00:00</td>\n",
       "    </tr>\n",
       "    <tr>\n",
       "      <th>2</th>\n",
       "      <td>69247685</td>\n",
       "      <td>PR &amp; Social Media Account Executive  Top Inter...</td>\n",
       "      <td>Central London</td>\n",
       "      <td>ft</td>\n",
       "      <td>perm.</td>\n",
       "      <td>ECOM RECRUITMENT LTD</td>\n",
       "      <td>PR, Advertising &amp; Marketing Jobs</td>\n",
       "      <td>23004</td>\n",
       "      <td>jobs.guardian.co.uk</td>\n",
       "      <td>2012-02-14 12:00:00</td>\n",
       "      <td>2012-03-15 12:00:00</td>\n",
       "    </tr>\n",
       "    <tr>\n",
       "      <th>3</th>\n",
       "      <td>69247688</td>\n",
       "      <td>Content Manager</td>\n",
       "      <td>London</td>\n",
       "      <td>ft</td>\n",
       "      <td>perm.</td>\n",
       "      <td>NAKAMA LONDON</td>\n",
       "      <td>PR, Advertising &amp; Marketing Jobs</td>\n",
       "      <td>24996</td>\n",
       "      <td>jobs.guardian.co.uk</td>\n",
       "      <td>2012-10-21 00:00:00</td>\n",
       "      <td>2012-12-20 00:00:00</td>\n",
       "    </tr>\n",
       "    <tr>\n",
       "      <th>4</th>\n",
       "      <td>69247694</td>\n",
       "      <td>AV PRODUCTION MANAGER</td>\n",
       "      <td>Worcestershire</td>\n",
       "      <td>ft</td>\n",
       "      <td>perm.</td>\n",
       "      <td>LIVE RECRUITMENT</td>\n",
       "      <td>PR, Advertising &amp; Marketing Jobs</td>\n",
       "      <td>27504</td>\n",
       "      <td>jobs.guardian.co.uk</td>\n",
       "      <td>2012-02-22 00:00:00</td>\n",
       "      <td>2012-04-22 00:00:00</td>\n",
       "    </tr>\n",
       "  </tbody>\n",
       "</table>\n",
       "</div>"
      ],
      "text/plain": [
       "         Id                                              Title  \\\n",
       "0  69247680  Business Development Exec  research / insight ...   \n",
       "1  69247682                               Audit Senior  London   \n",
       "2  69247685  PR & Social Media Account Executive  Top Inter...   \n",
       "3  69247688                                    Content Manager   \n",
       "4  69247694                              AV PRODUCTION MANAGER   \n",
       "\n",
       "         Location ContractType ContractTime               Company  \\\n",
       "0          London           ft        perm.     BOYCE RECRUITMENT   \n",
       "1          London           ft       contr.           Pro Finance   \n",
       "2  Central London           ft        perm.  ECOM RECRUITMENT LTD   \n",
       "3          London           ft        perm.         NAKAMA LONDON   \n",
       "4  Worcestershire           ft        perm.      LIVE RECRUITMENT   \n",
       "\n",
       "                           Category  Salary per annum           SourceName  \\\n",
       "0  PR, Advertising & Marketing Jobs             25500  jobs.guardian.co.uk   \n",
       "1         Finance & Accounting Jobs             43200        icaewjobs.com   \n",
       "2  PR, Advertising & Marketing Jobs             23004  jobs.guardian.co.uk   \n",
       "3  PR, Advertising & Marketing Jobs             24996  jobs.guardian.co.uk   \n",
       "4  PR, Advertising & Marketing Jobs             27504  jobs.guardian.co.uk   \n",
       "\n",
       "              OpenDate            CloseDate  \n",
       "0  2012-03-01 15:00:00  2012-03-31 15:00:00  \n",
       "1  2013-03-14 12:00:00  2013-04-13 12:00:00  \n",
       "2  2012-02-14 12:00:00  2012-03-15 12:00:00  \n",
       "3  2012-10-21 00:00:00  2012-12-20 00:00:00  \n",
       "4  2012-02-22 00:00:00  2012-04-22 00:00:00  "
      ]
     },
     "execution_count": 7,
     "metadata": {},
     "output_type": "execute_result"
    }
   ],
   "source": [
    "df2.head()"
   ]
  },
  {
   "cell_type": "markdown",
   "metadata": {},
   "source": [
    "## 3.2 Resolve data conflicts"
   ]
  },
  {
   "cell_type": "markdown",
   "metadata": {},
   "source": [
    "### Inconsistence\n",
    "It seems there are still inconsisent representation of same values in `ContractType` and `ContractTime` columns, as well as inconsistent caplital letters in `Company` column, we fix them now before checking duplication.\n",
    "\n",
    "Otherwise it may be incorrectly regarded as different strings which will harm the accuracy of duplicates-dropping"
   ]
  },
  {
   "cell_type": "code",
   "execution_count": 8,
   "metadata": {},
   "outputs": [],
   "source": [
    "df2.ContractType = df2.ContractType.map({'ft':'full_time','pt':'part_time',np.nan:'non_specified'})\n",
    "df2.ContractTime = df2.ContractTime.map({'perm.':'permanent','contr.':'contract',np.nan:'non_specified'})\n",
    "df2.Company = df2.Company.str.title()\n",
    "df2.Title = df2.Title.str.title()#missing consistency, Title may not match with sample solution"
   ]
  },
  {
   "cell_type": "markdown",
   "metadata": {},
   "source": [
    "### Duplication\n",
    "- We should figure out a global key -- a set of features to identify whether two records are duplicated or not"
   ]
  },
  {
   "cell_type": "code",
   "execution_count": 9,
   "metadata": {},
   "outputs": [],
   "source": [
    "#df1.set_index('Id',inplace=True)\n",
    "#df2.set_index('Id',inplace=True)\n",
    "#df1.index.rename('Id1',inplace=True)\n",
    "#df2.index.rename('Id2',inplace=True)"
   ]
  },
  {
   "cell_type": "markdown",
   "metadata": {},
   "source": [
    "### Then we should consider comparing similarity of records based on a set of features:\n",
    "- We should pick out some features that we regard as identical for each record\n",
    "- From the previous observation we can see that the `Title` of each record is unlikely to be highly similar to others, almost everything from \"Year number\" to \"London\" and \"20K\" can be included in.\n",
    "- Also the precision of `Salary` is to the last digit, thus they shall be identical to certain extent as well\n"
   ]
  },
  {
   "cell_type": "markdown",
   "metadata": {},
   "source": [
    "We need to confirm our inference based on statistics"
   ]
  },
  {
   "cell_type": "code",
   "execution_count": 10,
   "metadata": {},
   "outputs": [
    {
     "name": "stdout",
     "output_type": "stream",
     "text": [
      "25077 Id\n",
      "25077 Title\n",
      "477 Location\n",
      "3 ContractType\n",
      "3 ContractTime\n",
      "4705 Company\n",
      "8 Category\n",
      "1570 Salary per annum\n",
      "90 SourceName\n",
      "2193 OpenDate\n",
      "2400 CloseDate\n"
     ]
    }
   ],
   "source": [
    "# test uniqueness level of features in df1\n",
    "cols = list(df1.columns)\n",
    "for col in cols:\n",
    "    print(df1[col].unique().shape[0],col)"
   ]
  },
  {
   "cell_type": "code",
   "execution_count": 11,
   "metadata": {},
   "outputs": [
    {
     "name": "stdout",
     "output_type": "stream",
     "text": [
      "25276 Id\n",
      "25276 Title\n",
      "475 Location\n",
      "3 ContractType\n",
      "3 ContractTime\n",
      "5546 Company\n",
      "8 Category\n",
      "1505 Salary per annum\n",
      "92 SourceName\n",
      "2193 OpenDate\n",
      "2395 CloseDate\n"
     ]
    }
   ],
   "source": [
    "# test uniqueness level of features in df2\n",
    "cols = list(df2.columns)\n",
    "for col in cols:\n",
    "    print(df2[col].unique().shape[0],col)"
   ]
  },
  {
   "cell_type": "markdown",
   "metadata": {},
   "source": [
    "#### Decision\n",
    "So we pick the combination of features with the top level of uniqueness in both datasets:\n",
    "`Title`,`Company`,`Salary per annum`,`OpenDate`,`CloseDate`"
   ]
  },
  {
   "cell_type": "markdown",
   "metadata": {},
   "source": [
    "**One more tip**:\n",
    "\n",
    "It is unsual that \"np.nan == np.nan\" will return **False**, we recall from task1 that there are quite a number of null values in df1 which will harm the performance of our deduplication process.\n",
    "\n",
    "Thus we replace the null value with same string \"Unknown\""
   ]
  },
  {
   "cell_type": "code",
   "execution_count": 12,
   "metadata": {},
   "outputs": [],
   "source": [
    "df1.Company.fillna('Unknown',inplace=True)\n",
    "df2.Company.fillna('Unknown',inplace=True)"
   ]
  },
  {
   "cell_type": "markdown",
   "metadata": {},
   "source": [
    "### Create record pairs"
   ]
  },
  {
   "cell_type": "markdown",
   "metadata": {},
   "source": [
    "First we need to check whether there are potential duplicated records in each dataset itself."
   ]
  },
  {
   "cell_type": "code",
   "execution_count": 13,
   "metadata": {},
   "outputs": [
    {
     "data": {
      "text/plain": [
       "0"
      ]
     },
     "execution_count": 13,
     "metadata": {},
     "output_type": "execute_result"
    }
   ],
   "source": [
    "indexer = recordlinkage.BlockIndex(on=['Title','Company','Salary per annum','OpenDate','CloseDate'])\n",
    "pairs = indexer.index(df1)\n",
    "len(pairs)"
   ]
  },
  {
   "cell_type": "code",
   "execution_count": 14,
   "metadata": {},
   "outputs": [
    {
     "data": {
      "text/plain": [
       "0"
      ]
     },
     "execution_count": 14,
     "metadata": {},
     "output_type": "execute_result"
    }
   ],
   "source": [
    "indexer = recordlinkage.BlockIndex(on=['Title','Company','Salary per annum','OpenDate','CloseDate'])\n",
    "pairs = indexer.index(df2)\n",
    "len(pairs)"
   ]
  },
  {
   "cell_type": "markdown",
   "metadata": {},
   "source": [
    "This means no potential duplicated records are found respectively in each dataset.\n",
    "\n",
    "Then we need to find potential pairs in both datasets"
   ]
  },
  {
   "cell_type": "code",
   "execution_count": 15,
   "metadata": {},
   "outputs": [
    {
     "data": {
      "text/plain": [
       "191"
      ]
     },
     "execution_count": 15,
     "metadata": {},
     "output_type": "execute_result"
    }
   ],
   "source": [
    "indexer = recordlinkage.BlockIndex(on=['Title','Company','Salary per annum','OpenDate','CloseDate'])\n",
    "pairs = indexer.index(df1,df2)\n",
    "len(pairs)"
   ]
  },
  {
   "cell_type": "markdown",
   "metadata": {},
   "source": [
    "Then we need to compute the simliarity of each record pairs"
   ]
  },
  {
   "cell_type": "code",
   "execution_count": 16,
   "metadata": {},
   "outputs": [],
   "source": [
    "compare_cl = recordlinkage.Compare()"
   ]
  },
  {
   "cell_type": "code",
   "execution_count": 17,
   "metadata": {},
   "outputs": [
    {
     "data": {
      "text/plain": [
       "34364.17474179527"
      ]
     },
     "execution_count": 17,
     "metadata": {},
     "output_type": "execute_result"
    }
   ],
   "source": [
    "# get mean value of salary to provide reference to salary similarity comparison\n",
    "df1['Salary per annum'].mean()"
   ]
  },
  {
   "cell_type": "markdown",
   "metadata": {},
   "source": [
    "We set a few threshold on giving the similarity score, if similarity level exceeds the threshold, we give it 1, otherwise 0,"
   ]
  },
  {
   "cell_type": "code",
   "execution_count": 18,
   "metadata": {},
   "outputs": [],
   "source": [
    "# Compute the similarity score of each selected feature between record pairs\n",
    "compare_cl = recordlinkage.Compare()\n",
    "# since the title is too customized we try not be too strict on them\n",
    "compare_cl.string('Title','Title',threshold=0.6,method='levenshtein',label='Title')\n",
    "#Company is not that unique, so we set higher threshold\n",
    "compare_cl.string('Company','Company',threshold=0.8,label='Company')\n",
    "# The salary comparison is based on gaussian distribution, the scale is based on the mean value\n",
    "compare_cl.numeric('Salary per annum','Salary per annum',scale=1000,method='gauss',label='Salary')\n",
    "compare_cl.string('OpenDate','OpenDate',threshold=0.95,label='OpenDate')\n",
    "compare_cl.string('CloseDate','CloseDate',threshold=0.95,label='CloseDate')\n",
    "features = compare_cl.compute(pairs, df1, df2)"
   ]
  },
  {
   "cell_type": "code",
   "execution_count": 19,
   "metadata": {},
   "outputs": [
    {
     "data": {
      "text/html": [
       "<div>\n",
       "<style scoped>\n",
       "    .dataframe tbody tr th:only-of-type {\n",
       "        vertical-align: middle;\n",
       "    }\n",
       "\n",
       "    .dataframe tbody tr th {\n",
       "        vertical-align: top;\n",
       "    }\n",
       "\n",
       "    .dataframe thead th {\n",
       "        text-align: right;\n",
       "    }\n",
       "</style>\n",
       "<table border=\"1\" class=\"dataframe\">\n",
       "  <thead>\n",
       "    <tr style=\"text-align: right;\">\n",
       "      <th></th>\n",
       "      <th></th>\n",
       "      <th>Title</th>\n",
       "      <th>Company</th>\n",
       "      <th>Salary</th>\n",
       "      <th>OpenDate</th>\n",
       "      <th>CloseDate</th>\n",
       "    </tr>\n",
       "  </thead>\n",
       "  <tbody>\n",
       "    <tr>\n",
       "      <th>92</th>\n",
       "      <th>23062</th>\n",
       "      <td>1.0</td>\n",
       "      <td>1.0</td>\n",
       "      <td>1.0</td>\n",
       "      <td>1.0</td>\n",
       "      <td>1.0</td>\n",
       "    </tr>\n",
       "    <tr>\n",
       "      <th>132</th>\n",
       "      <th>7781</th>\n",
       "      <td>1.0</td>\n",
       "      <td>1.0</td>\n",
       "      <td>1.0</td>\n",
       "      <td>1.0</td>\n",
       "      <td>1.0</td>\n",
       "    </tr>\n",
       "    <tr>\n",
       "      <th>164</th>\n",
       "      <th>5225</th>\n",
       "      <td>1.0</td>\n",
       "      <td>1.0</td>\n",
       "      <td>1.0</td>\n",
       "      <td>1.0</td>\n",
       "      <td>1.0</td>\n",
       "    </tr>\n",
       "    <tr>\n",
       "      <th>486</th>\n",
       "      <th>6809</th>\n",
       "      <td>1.0</td>\n",
       "      <td>1.0</td>\n",
       "      <td>1.0</td>\n",
       "      <td>1.0</td>\n",
       "      <td>1.0</td>\n",
       "    </tr>\n",
       "    <tr>\n",
       "      <th>816</th>\n",
       "      <th>19550</th>\n",
       "      <td>1.0</td>\n",
       "      <td>1.0</td>\n",
       "      <td>1.0</td>\n",
       "      <td>1.0</td>\n",
       "      <td>1.0</td>\n",
       "    </tr>\n",
       "    <tr>\n",
       "      <th>1040</th>\n",
       "      <th>16416</th>\n",
       "      <td>1.0</td>\n",
       "      <td>1.0</td>\n",
       "      <td>1.0</td>\n",
       "      <td>1.0</td>\n",
       "      <td>1.0</td>\n",
       "    </tr>\n",
       "    <tr>\n",
       "      <th>1067</th>\n",
       "      <th>1072</th>\n",
       "      <td>1.0</td>\n",
       "      <td>1.0</td>\n",
       "      <td>1.0</td>\n",
       "      <td>1.0</td>\n",
       "      <td>1.0</td>\n",
       "    </tr>\n",
       "    <tr>\n",
       "      <th>1078</th>\n",
       "      <th>4665</th>\n",
       "      <td>1.0</td>\n",
       "      <td>1.0</td>\n",
       "      <td>1.0</td>\n",
       "      <td>1.0</td>\n",
       "      <td>1.0</td>\n",
       "    </tr>\n",
       "    <tr>\n",
       "      <th>1127</th>\n",
       "      <th>17210</th>\n",
       "      <td>1.0</td>\n",
       "      <td>1.0</td>\n",
       "      <td>1.0</td>\n",
       "      <td>1.0</td>\n",
       "      <td>1.0</td>\n",
       "    </tr>\n",
       "    <tr>\n",
       "      <th>1157</th>\n",
       "      <th>8560</th>\n",
       "      <td>1.0</td>\n",
       "      <td>1.0</td>\n",
       "      <td>1.0</td>\n",
       "      <td>1.0</td>\n",
       "      <td>1.0</td>\n",
       "    </tr>\n",
       "    <tr>\n",
       "      <th>1209</th>\n",
       "      <th>1044</th>\n",
       "      <td>1.0</td>\n",
       "      <td>1.0</td>\n",
       "      <td>1.0</td>\n",
       "      <td>1.0</td>\n",
       "      <td>1.0</td>\n",
       "    </tr>\n",
       "    <tr>\n",
       "      <th>1431</th>\n",
       "      <th>22253</th>\n",
       "      <td>1.0</td>\n",
       "      <td>1.0</td>\n",
       "      <td>1.0</td>\n",
       "      <td>1.0</td>\n",
       "      <td>1.0</td>\n",
       "    </tr>\n",
       "    <tr>\n",
       "      <th>1450</th>\n",
       "      <th>19266</th>\n",
       "      <td>1.0</td>\n",
       "      <td>1.0</td>\n",
       "      <td>1.0</td>\n",
       "      <td>1.0</td>\n",
       "      <td>1.0</td>\n",
       "    </tr>\n",
       "    <tr>\n",
       "      <th>1460</th>\n",
       "      <th>13887</th>\n",
       "      <td>1.0</td>\n",
       "      <td>1.0</td>\n",
       "      <td>1.0</td>\n",
       "      <td>1.0</td>\n",
       "      <td>1.0</td>\n",
       "    </tr>\n",
       "    <tr>\n",
       "      <th>1657</th>\n",
       "      <th>17175</th>\n",
       "      <td>1.0</td>\n",
       "      <td>1.0</td>\n",
       "      <td>1.0</td>\n",
       "      <td>1.0</td>\n",
       "      <td>1.0</td>\n",
       "    </tr>\n",
       "    <tr>\n",
       "      <th>2056</th>\n",
       "      <th>18468</th>\n",
       "      <td>1.0</td>\n",
       "      <td>1.0</td>\n",
       "      <td>1.0</td>\n",
       "      <td>1.0</td>\n",
       "      <td>1.0</td>\n",
       "    </tr>\n",
       "    <tr>\n",
       "      <th>2127</th>\n",
       "      <th>21465</th>\n",
       "      <td>1.0</td>\n",
       "      <td>1.0</td>\n",
       "      <td>1.0</td>\n",
       "      <td>1.0</td>\n",
       "      <td>1.0</td>\n",
       "    </tr>\n",
       "    <tr>\n",
       "      <th>2129</th>\n",
       "      <th>21579</th>\n",
       "      <td>1.0</td>\n",
       "      <td>1.0</td>\n",
       "      <td>1.0</td>\n",
       "      <td>1.0</td>\n",
       "      <td>1.0</td>\n",
       "    </tr>\n",
       "    <tr>\n",
       "      <th>2360</th>\n",
       "      <th>17633</th>\n",
       "      <td>1.0</td>\n",
       "      <td>1.0</td>\n",
       "      <td>1.0</td>\n",
       "      <td>1.0</td>\n",
       "      <td>1.0</td>\n",
       "    </tr>\n",
       "    <tr>\n",
       "      <th>2493</th>\n",
       "      <th>8260</th>\n",
       "      <td>1.0</td>\n",
       "      <td>1.0</td>\n",
       "      <td>1.0</td>\n",
       "      <td>1.0</td>\n",
       "      <td>1.0</td>\n",
       "    </tr>\n",
       "    <tr>\n",
       "      <th>2618</th>\n",
       "      <th>17190</th>\n",
       "      <td>1.0</td>\n",
       "      <td>1.0</td>\n",
       "      <td>1.0</td>\n",
       "      <td>1.0</td>\n",
       "      <td>1.0</td>\n",
       "    </tr>\n",
       "    <tr>\n",
       "      <th>2652</th>\n",
       "      <th>4942</th>\n",
       "      <td>1.0</td>\n",
       "      <td>1.0</td>\n",
       "      <td>1.0</td>\n",
       "      <td>1.0</td>\n",
       "      <td>1.0</td>\n",
       "    </tr>\n",
       "    <tr>\n",
       "      <th>3039</th>\n",
       "      <th>24434</th>\n",
       "      <td>1.0</td>\n",
       "      <td>1.0</td>\n",
       "      <td>1.0</td>\n",
       "      <td>1.0</td>\n",
       "      <td>1.0</td>\n",
       "    </tr>\n",
       "    <tr>\n",
       "      <th>3165</th>\n",
       "      <th>14592</th>\n",
       "      <td>1.0</td>\n",
       "      <td>1.0</td>\n",
       "      <td>1.0</td>\n",
       "      <td>1.0</td>\n",
       "      <td>1.0</td>\n",
       "    </tr>\n",
       "    <tr>\n",
       "      <th>3232</th>\n",
       "      <th>14775</th>\n",
       "      <td>1.0</td>\n",
       "      <td>1.0</td>\n",
       "      <td>1.0</td>\n",
       "      <td>1.0</td>\n",
       "      <td>1.0</td>\n",
       "    </tr>\n",
       "    <tr>\n",
       "      <th>3563</th>\n",
       "      <th>10672</th>\n",
       "      <td>1.0</td>\n",
       "      <td>1.0</td>\n",
       "      <td>1.0</td>\n",
       "      <td>1.0</td>\n",
       "      <td>1.0</td>\n",
       "    </tr>\n",
       "    <tr>\n",
       "      <th>3700</th>\n",
       "      <th>3190</th>\n",
       "      <td>1.0</td>\n",
       "      <td>1.0</td>\n",
       "      <td>1.0</td>\n",
       "      <td>1.0</td>\n",
       "      <td>1.0</td>\n",
       "    </tr>\n",
       "    <tr>\n",
       "      <th>3813</th>\n",
       "      <th>6431</th>\n",
       "      <td>1.0</td>\n",
       "      <td>1.0</td>\n",
       "      <td>1.0</td>\n",
       "      <td>1.0</td>\n",
       "      <td>1.0</td>\n",
       "    </tr>\n",
       "    <tr>\n",
       "      <th>3915</th>\n",
       "      <th>5819</th>\n",
       "      <td>1.0</td>\n",
       "      <td>1.0</td>\n",
       "      <td>1.0</td>\n",
       "      <td>1.0</td>\n",
       "      <td>1.0</td>\n",
       "    </tr>\n",
       "    <tr>\n",
       "      <th>4357</th>\n",
       "      <th>15102</th>\n",
       "      <td>1.0</td>\n",
       "      <td>1.0</td>\n",
       "      <td>1.0</td>\n",
       "      <td>1.0</td>\n",
       "      <td>1.0</td>\n",
       "    </tr>\n",
       "    <tr>\n",
       "      <th>...</th>\n",
       "      <th>...</th>\n",
       "      <td>...</td>\n",
       "      <td>...</td>\n",
       "      <td>...</td>\n",
       "      <td>...</td>\n",
       "      <td>...</td>\n",
       "    </tr>\n",
       "    <tr>\n",
       "      <th>19167</th>\n",
       "      <th>11551</th>\n",
       "      <td>1.0</td>\n",
       "      <td>1.0</td>\n",
       "      <td>1.0</td>\n",
       "      <td>1.0</td>\n",
       "      <td>1.0</td>\n",
       "    </tr>\n",
       "    <tr>\n",
       "      <th>19284</th>\n",
       "      <th>6342</th>\n",
       "      <td>1.0</td>\n",
       "      <td>1.0</td>\n",
       "      <td>1.0</td>\n",
       "      <td>1.0</td>\n",
       "      <td>1.0</td>\n",
       "    </tr>\n",
       "    <tr>\n",
       "      <th>19703</th>\n",
       "      <th>3729</th>\n",
       "      <td>1.0</td>\n",
       "      <td>1.0</td>\n",
       "      <td>1.0</td>\n",
       "      <td>1.0</td>\n",
       "      <td>1.0</td>\n",
       "    </tr>\n",
       "    <tr>\n",
       "      <th>19729</th>\n",
       "      <th>23191</th>\n",
       "      <td>1.0</td>\n",
       "      <td>1.0</td>\n",
       "      <td>1.0</td>\n",
       "      <td>1.0</td>\n",
       "      <td>1.0</td>\n",
       "    </tr>\n",
       "    <tr>\n",
       "      <th>19879</th>\n",
       "      <th>21742</th>\n",
       "      <td>1.0</td>\n",
       "      <td>1.0</td>\n",
       "      <td>1.0</td>\n",
       "      <td>1.0</td>\n",
       "      <td>1.0</td>\n",
       "    </tr>\n",
       "    <tr>\n",
       "      <th>19930</th>\n",
       "      <th>20465</th>\n",
       "      <td>1.0</td>\n",
       "      <td>1.0</td>\n",
       "      <td>1.0</td>\n",
       "      <td>1.0</td>\n",
       "      <td>1.0</td>\n",
       "    </tr>\n",
       "    <tr>\n",
       "      <th>20097</th>\n",
       "      <th>12398</th>\n",
       "      <td>1.0</td>\n",
       "      <td>1.0</td>\n",
       "      <td>1.0</td>\n",
       "      <td>1.0</td>\n",
       "      <td>1.0</td>\n",
       "    </tr>\n",
       "    <tr>\n",
       "      <th>20287</th>\n",
       "      <th>15775</th>\n",
       "      <td>1.0</td>\n",
       "      <td>1.0</td>\n",
       "      <td>1.0</td>\n",
       "      <td>1.0</td>\n",
       "      <td>1.0</td>\n",
       "    </tr>\n",
       "    <tr>\n",
       "      <th>20592</th>\n",
       "      <th>6032</th>\n",
       "      <td>1.0</td>\n",
       "      <td>1.0</td>\n",
       "      <td>1.0</td>\n",
       "      <td>1.0</td>\n",
       "      <td>1.0</td>\n",
       "    </tr>\n",
       "    <tr>\n",
       "      <th>21056</th>\n",
       "      <th>13237</th>\n",
       "      <td>1.0</td>\n",
       "      <td>1.0</td>\n",
       "      <td>1.0</td>\n",
       "      <td>1.0</td>\n",
       "      <td>1.0</td>\n",
       "    </tr>\n",
       "    <tr>\n",
       "      <th>21257</th>\n",
       "      <th>18010</th>\n",
       "      <td>1.0</td>\n",
       "      <td>1.0</td>\n",
       "      <td>1.0</td>\n",
       "      <td>1.0</td>\n",
       "      <td>1.0</td>\n",
       "    </tr>\n",
       "    <tr>\n",
       "      <th>21283</th>\n",
       "      <th>1528</th>\n",
       "      <td>1.0</td>\n",
       "      <td>1.0</td>\n",
       "      <td>1.0</td>\n",
       "      <td>1.0</td>\n",
       "      <td>1.0</td>\n",
       "    </tr>\n",
       "    <tr>\n",
       "      <th>21396</th>\n",
       "      <th>19320</th>\n",
       "      <td>1.0</td>\n",
       "      <td>1.0</td>\n",
       "      <td>1.0</td>\n",
       "      <td>1.0</td>\n",
       "      <td>1.0</td>\n",
       "    </tr>\n",
       "    <tr>\n",
       "      <th>21412</th>\n",
       "      <th>5292</th>\n",
       "      <td>1.0</td>\n",
       "      <td>1.0</td>\n",
       "      <td>1.0</td>\n",
       "      <td>1.0</td>\n",
       "      <td>1.0</td>\n",
       "    </tr>\n",
       "    <tr>\n",
       "      <th>21557</th>\n",
       "      <th>2378</th>\n",
       "      <td>1.0</td>\n",
       "      <td>1.0</td>\n",
       "      <td>1.0</td>\n",
       "      <td>1.0</td>\n",
       "      <td>1.0</td>\n",
       "    </tr>\n",
       "    <tr>\n",
       "      <th>21640</th>\n",
       "      <th>166</th>\n",
       "      <td>1.0</td>\n",
       "      <td>1.0</td>\n",
       "      <td>1.0</td>\n",
       "      <td>1.0</td>\n",
       "      <td>1.0</td>\n",
       "    </tr>\n",
       "    <tr>\n",
       "      <th>21687</th>\n",
       "      <th>11981</th>\n",
       "      <td>1.0</td>\n",
       "      <td>1.0</td>\n",
       "      <td>1.0</td>\n",
       "      <td>1.0</td>\n",
       "      <td>1.0</td>\n",
       "    </tr>\n",
       "    <tr>\n",
       "      <th>21846</th>\n",
       "      <th>18147</th>\n",
       "      <td>1.0</td>\n",
       "      <td>1.0</td>\n",
       "      <td>1.0</td>\n",
       "      <td>1.0</td>\n",
       "      <td>1.0</td>\n",
       "    </tr>\n",
       "    <tr>\n",
       "      <th>22064</th>\n",
       "      <th>4481</th>\n",
       "      <td>1.0</td>\n",
       "      <td>1.0</td>\n",
       "      <td>1.0</td>\n",
       "      <td>1.0</td>\n",
       "      <td>1.0</td>\n",
       "    </tr>\n",
       "    <tr>\n",
       "      <th>22095</th>\n",
       "      <th>1165</th>\n",
       "      <td>1.0</td>\n",
       "      <td>1.0</td>\n",
       "      <td>1.0</td>\n",
       "      <td>1.0</td>\n",
       "      <td>1.0</td>\n",
       "    </tr>\n",
       "    <tr>\n",
       "      <th>22117</th>\n",
       "      <th>8666</th>\n",
       "      <td>1.0</td>\n",
       "      <td>1.0</td>\n",
       "      <td>1.0</td>\n",
       "      <td>1.0</td>\n",
       "      <td>1.0</td>\n",
       "    </tr>\n",
       "    <tr>\n",
       "      <th>22308</th>\n",
       "      <th>5897</th>\n",
       "      <td>1.0</td>\n",
       "      <td>1.0</td>\n",
       "      <td>1.0</td>\n",
       "      <td>1.0</td>\n",
       "      <td>1.0</td>\n",
       "    </tr>\n",
       "    <tr>\n",
       "      <th>22512</th>\n",
       "      <th>11926</th>\n",
       "      <td>1.0</td>\n",
       "      <td>1.0</td>\n",
       "      <td>1.0</td>\n",
       "      <td>1.0</td>\n",
       "      <td>1.0</td>\n",
       "    </tr>\n",
       "    <tr>\n",
       "      <th>22867</th>\n",
       "      <th>9787</th>\n",
       "      <td>1.0</td>\n",
       "      <td>1.0</td>\n",
       "      <td>1.0</td>\n",
       "      <td>1.0</td>\n",
       "      <td>1.0</td>\n",
       "    </tr>\n",
       "    <tr>\n",
       "      <th>22995</th>\n",
       "      <th>15006</th>\n",
       "      <td>1.0</td>\n",
       "      <td>1.0</td>\n",
       "      <td>1.0</td>\n",
       "      <td>1.0</td>\n",
       "      <td>1.0</td>\n",
       "    </tr>\n",
       "    <tr>\n",
       "      <th>23349</th>\n",
       "      <th>16388</th>\n",
       "      <td>1.0</td>\n",
       "      <td>1.0</td>\n",
       "      <td>1.0</td>\n",
       "      <td>1.0</td>\n",
       "      <td>1.0</td>\n",
       "    </tr>\n",
       "    <tr>\n",
       "      <th>23796</th>\n",
       "      <th>819</th>\n",
       "      <td>1.0</td>\n",
       "      <td>1.0</td>\n",
       "      <td>1.0</td>\n",
       "      <td>1.0</td>\n",
       "      <td>1.0</td>\n",
       "    </tr>\n",
       "    <tr>\n",
       "      <th>24127</th>\n",
       "      <th>19334</th>\n",
       "      <td>1.0</td>\n",
       "      <td>1.0</td>\n",
       "      <td>1.0</td>\n",
       "      <td>1.0</td>\n",
       "      <td>1.0</td>\n",
       "    </tr>\n",
       "    <tr>\n",
       "      <th>24236</th>\n",
       "      <th>9431</th>\n",
       "      <td>1.0</td>\n",
       "      <td>1.0</td>\n",
       "      <td>1.0</td>\n",
       "      <td>1.0</td>\n",
       "      <td>1.0</td>\n",
       "    </tr>\n",
       "    <tr>\n",
       "      <th>24430</th>\n",
       "      <th>11933</th>\n",
       "      <td>1.0</td>\n",
       "      <td>1.0</td>\n",
       "      <td>1.0</td>\n",
       "      <td>1.0</td>\n",
       "      <td>1.0</td>\n",
       "    </tr>\n",
       "  </tbody>\n",
       "</table>\n",
       "<p>191 rows × 5 columns</p>\n",
       "</div>"
      ],
      "text/plain": [
       "             Title  Company  Salary  OpenDate  CloseDate\n",
       "92    23062    1.0      1.0     1.0       1.0        1.0\n",
       "132   7781     1.0      1.0     1.0       1.0        1.0\n",
       "164   5225     1.0      1.0     1.0       1.0        1.0\n",
       "486   6809     1.0      1.0     1.0       1.0        1.0\n",
       "816   19550    1.0      1.0     1.0       1.0        1.0\n",
       "1040  16416    1.0      1.0     1.0       1.0        1.0\n",
       "1067  1072     1.0      1.0     1.0       1.0        1.0\n",
       "1078  4665     1.0      1.0     1.0       1.0        1.0\n",
       "1127  17210    1.0      1.0     1.0       1.0        1.0\n",
       "1157  8560     1.0      1.0     1.0       1.0        1.0\n",
       "1209  1044     1.0      1.0     1.0       1.0        1.0\n",
       "1431  22253    1.0      1.0     1.0       1.0        1.0\n",
       "1450  19266    1.0      1.0     1.0       1.0        1.0\n",
       "1460  13887    1.0      1.0     1.0       1.0        1.0\n",
       "1657  17175    1.0      1.0     1.0       1.0        1.0\n",
       "2056  18468    1.0      1.0     1.0       1.0        1.0\n",
       "2127  21465    1.0      1.0     1.0       1.0        1.0\n",
       "2129  21579    1.0      1.0     1.0       1.0        1.0\n",
       "2360  17633    1.0      1.0     1.0       1.0        1.0\n",
       "2493  8260     1.0      1.0     1.0       1.0        1.0\n",
       "2618  17190    1.0      1.0     1.0       1.0        1.0\n",
       "2652  4942     1.0      1.0     1.0       1.0        1.0\n",
       "3039  24434    1.0      1.0     1.0       1.0        1.0\n",
       "3165  14592    1.0      1.0     1.0       1.0        1.0\n",
       "3232  14775    1.0      1.0     1.0       1.0        1.0\n",
       "3563  10672    1.0      1.0     1.0       1.0        1.0\n",
       "3700  3190     1.0      1.0     1.0       1.0        1.0\n",
       "3813  6431     1.0      1.0     1.0       1.0        1.0\n",
       "3915  5819     1.0      1.0     1.0       1.0        1.0\n",
       "4357  15102    1.0      1.0     1.0       1.0        1.0\n",
       "...            ...      ...     ...       ...        ...\n",
       "19167 11551    1.0      1.0     1.0       1.0        1.0\n",
       "19284 6342     1.0      1.0     1.0       1.0        1.0\n",
       "19703 3729     1.0      1.0     1.0       1.0        1.0\n",
       "19729 23191    1.0      1.0     1.0       1.0        1.0\n",
       "19879 21742    1.0      1.0     1.0       1.0        1.0\n",
       "19930 20465    1.0      1.0     1.0       1.0        1.0\n",
       "20097 12398    1.0      1.0     1.0       1.0        1.0\n",
       "20287 15775    1.0      1.0     1.0       1.0        1.0\n",
       "20592 6032     1.0      1.0     1.0       1.0        1.0\n",
       "21056 13237    1.0      1.0     1.0       1.0        1.0\n",
       "21257 18010    1.0      1.0     1.0       1.0        1.0\n",
       "21283 1528     1.0      1.0     1.0       1.0        1.0\n",
       "21396 19320    1.0      1.0     1.0       1.0        1.0\n",
       "21412 5292     1.0      1.0     1.0       1.0        1.0\n",
       "21557 2378     1.0      1.0     1.0       1.0        1.0\n",
       "21640 166      1.0      1.0     1.0       1.0        1.0\n",
       "21687 11981    1.0      1.0     1.0       1.0        1.0\n",
       "21846 18147    1.0      1.0     1.0       1.0        1.0\n",
       "22064 4481     1.0      1.0     1.0       1.0        1.0\n",
       "22095 1165     1.0      1.0     1.0       1.0        1.0\n",
       "22117 8666     1.0      1.0     1.0       1.0        1.0\n",
       "22308 5897     1.0      1.0     1.0       1.0        1.0\n",
       "22512 11926    1.0      1.0     1.0       1.0        1.0\n",
       "22867 9787     1.0      1.0     1.0       1.0        1.0\n",
       "22995 15006    1.0      1.0     1.0       1.0        1.0\n",
       "23349 16388    1.0      1.0     1.0       1.0        1.0\n",
       "23796 819      1.0      1.0     1.0       1.0        1.0\n",
       "24127 19334    1.0      1.0     1.0       1.0        1.0\n",
       "24236 9431     1.0      1.0     1.0       1.0        1.0\n",
       "24430 11933    1.0      1.0     1.0       1.0        1.0\n",
       "\n",
       "[191 rows x 5 columns]"
      ]
     },
     "execution_count": 19,
     "metadata": {},
     "output_type": "execute_result"
    }
   ],
   "source": [
    "#for all 5 features we regard two record with score higher than 4 as duplicated\n",
    "matches = features[features.sum(axis=1) > 4]\n",
    "matches"
   ]
  },
  {
   "cell_type": "markdown",
   "metadata": {},
   "source": [
    "Let's have a quick check does the pair looks really close to each other?"
   ]
  },
  {
   "cell_type": "code",
   "execution_count": 20,
   "metadata": {},
   "outputs": [
    {
     "data": {
      "text/plain": [
       "Id                                          44363005\n",
       "Title               Electrical / Mechanical Engineer\n",
       "Location                                       Poole\n",
       "ContractType                           non_specified\n",
       "ContractTime                               permanent\n",
       "Company                                Indigo 21 Ltd\n",
       "Category                            Engineering Jobs\n",
       "Salary per annum                               30000\n",
       "SourceName                          cv-library.co.uk\n",
       "OpenDate                         2012-09-01 00:00:00\n",
       "CloseDate                        2012-11-30 00:00:00\n",
       "Name: 92, dtype: object"
      ]
     },
     "execution_count": 20,
     "metadata": {},
     "output_type": "execute_result"
    }
   ],
   "source": [
    "df1.iloc[92]"
   ]
  },
  {
   "cell_type": "code",
   "execution_count": 21,
   "metadata": {},
   "outputs": [
    {
     "data": {
      "text/plain": [
       "Id                                          72446581\n",
       "Title               Electrical / Mechanical Engineer\n",
       "Location                                       Poole\n",
       "ContractType                           non_specified\n",
       "ContractTime                               permanent\n",
       "Company                                Indigo 21 Ltd\n",
       "Category                            Engineering Jobs\n",
       "Salary per annum                               30000\n",
       "SourceName                          cv-library.co.uk\n",
       "OpenDate                         2012-09-01 00:00:00\n",
       "CloseDate                        2012-11-30 00:00:00\n",
       "Name: 23062, dtype: object"
      ]
     },
     "execution_count": 21,
     "metadata": {},
     "output_type": "execute_result"
    }
   ],
   "source": [
    "df2.iloc[23062]"
   ]
  },
  {
   "cell_type": "markdown",
   "metadata": {},
   "source": [
    "Seems the result is not bad, so we can now regard these 73 records as duplicated so we can drop them in either dataset."
   ]
  },
  {
   "cell_type": "code",
   "execution_count": 22,
   "metadata": {},
   "outputs": [],
   "source": [
    "#get the list of ids for records to delete in df1(either way is valid)\n",
    "id_to_delete = list(features.index.get_level_values(0))"
   ]
  },
  {
   "cell_type": "code",
   "execution_count": 23,
   "metadata": {},
   "outputs": [],
   "source": [
    "#drop the duplicated rows in dataset1\n",
    "df1 = df1.drop(index=id_to_delete)"
   ]
  },
  {
   "cell_type": "markdown",
   "metadata": {},
   "source": [
    "Last check of no duplicated records detected"
   ]
  },
  {
   "cell_type": "code",
   "execution_count": 24,
   "metadata": {},
   "outputs": [
    {
     "data": {
      "text/plain": [
       "0"
      ]
     },
     "execution_count": 24,
     "metadata": {},
     "output_type": "execute_result"
    }
   ],
   "source": [
    "#last check of potential duplicated record pairs\n",
    "pairs = indexer.index(df1,df2)\n",
    "len(pairs)"
   ]
  },
  {
   "cell_type": "code",
   "execution_count": 25,
   "metadata": {},
   "outputs": [],
   "source": [
    "#undo changes to make dataset looks the same as original\n",
    "#df1.reset_index(level=0, inplace=True)\n",
    "#df2.reset_index(level=0, inplace=True)"
   ]
  },
  {
   "cell_type": "code",
   "execution_count": 26,
   "metadata": {},
   "outputs": [],
   "source": [
    "# combine 2 datasets\n",
    "df = pd.concat((df1,df2))"
   ]
  },
  {
   "cell_type": "code",
   "execution_count": 27,
   "metadata": {},
   "outputs": [
    {
     "data": {
      "text/plain": [
       "0"
      ]
     },
     "execution_count": 27,
     "metadata": {},
     "output_type": "execute_result"
    }
   ],
   "source": [
    "# third check of no duplication existing after the merge of datasets\n",
    "df.duplicated(['Title','Company','Salary per annum','OpenDate','CloseDate']).sum()"
   ]
  },
  {
   "cell_type": "markdown",
   "metadata": {},
   "source": [
    "Since there are no more duplicates, we can output the file"
   ]
  },
  {
   "cell_type": "code",
   "execution_count": 28,
   "metadata": {},
   "outputs": [],
   "source": [
    "#output\n",
    "df.to_csv('./dataset1_dataset2_solution.csv',index=False)#missing index=False"
   ]
  },
  {
   "cell_type": "markdown",
   "metadata": {},
   "source": [
    "## 4. Summary\n",
    "There are various way(algorithms) of measure similarity of strings and numeric values, we need to make a lot of choices. Thus the result can be quite dependent on the measures and features we pick.\n",
    "### Reference\n",
    " 1. recordlinkage. Retrieved from http://recordlinkage.readthedocs.io/en/latest/notebooks/data_deduplication.html\n",
    " 2. How to get index values pandas.Retrieved from: https://stackoverflow.com/questions/18358938/get-row-index-values-of-pandas-dataframe-as-list\n",
    " 3. How to convert pandas index in a dataframe to a column? Retrieved from:https://stackoverflow.com/questions/20461165/how-to-convert-pandas-index-in-a-dataframe-to-a-column"
   ]
  }
 ],
 "metadata": {
  "kernelspec": {
   "display_name": "Python [conda env:5196]",
   "language": "python",
   "name": "conda-env-5196-py"
  },
  "language_info": {
   "codemirror_mode": {
    "name": "ipython",
    "version": 3
   },
   "file_extension": ".py",
   "mimetype": "text/x-python",
   "name": "python",
   "nbconvert_exporter": "python",
   "pygments_lexer": "ipython3",
   "version": "3.6.4"
  }
 },
 "nbformat": 4,
 "nbformat_minor": 1
}
