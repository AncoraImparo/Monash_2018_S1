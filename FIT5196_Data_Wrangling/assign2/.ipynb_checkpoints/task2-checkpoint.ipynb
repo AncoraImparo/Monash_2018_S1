{
 "cells": [
  {
   "cell_type": "markdown",
   "metadata": {},
   "source": [
    "# FIT5196 Task X in Assessment 1\n",
    "#### Student Name: Boyu Zhang\n",
    "#### Student ID: 28491300\n",
    "\n",
    "Date: XX/XX/XXXX\n",
    "\n",
    "Version: 1.0\n",
    "\n",
    "Environment: Python 3.6 and Jupyter notebook\n",
    "\n",
    "Libraries used: please include the main libraries you used in your assignment here, e.g.,:\n",
    "* pandas (for dataframe, included in Anaconda Python ) \n",
    "* re (for regular expression, included in Anaconda Python 3.6) \n",
    "* numpy (for numpy array, included in Anaconda Python 3.6) \n",
    "\n",
    "<font size=3, color=\"red\"> Note: this is a sample notebook only. You will need to fill in the proper markdown and code blocks. You might also want to make necessary changes to the structure to meet your own needs. It is important to make sure the logic of how you finish the assessment is clearly shown in this notebook! </font>"
   ]
  },
  {
   "cell_type": "markdown",
   "metadata": {},
   "source": [
    "## 1.  Import libraries "
   ]
  },
  {
   "cell_type": "code",
   "execution_count": 2,
   "metadata": {},
   "outputs": [],
   "source": [
    "# Code to import libraries as you need in this assessment, e.g.,\n",
    "import pandas as pd\n",
    "import re"
   ]
  },
  {
   "cell_type": "code",
   "execution_count": 4,
   "metadata": {},
   "outputs": [],
   "source": [
    "df2 = pd.read_csv('./Input/dataset2_integration.csv')"
   ]
  },
  {
   "cell_type": "code",
   "execution_count": 5,
   "metadata": {},
   "outputs": [
    {
     "name": "stdout",
     "output_type": "stream",
     "text": [
      "<class 'pandas.core.frame.DataFrame'>\n",
      "RangeIndex: 25276 entries, 0 to 25275\n",
      "Data columns (total 11 columns):\n",
      "Id                  25276 non-null int64\n",
      "Source Name         25276 non-null object\n",
      "Title               25276 non-null object\n",
      "location            25276 non-null object\n",
      "Contract Type       4819 non-null object\n",
      "Contract Time       19763 non-null object\n",
      "Company             24178 non-null object\n",
      "Category            25276 non-null object\n",
      "Salary per month    25276 non-null int64\n",
      "OpenDate            25276 non-null object\n",
      "CloseDate           25276 non-null object\n",
      "dtypes: int64(2), object(9)\n",
      "memory usage: 2.1+ MB\n"
     ]
    }
   ],
   "source": [
    "df2.info()"
   ]
  },
  {
   "cell_type": "code",
   "execution_count": 6,
   "metadata": {},
   "outputs": [
    {
     "data": {
      "text/html": [
       "<div>\n",
       "<style scoped>\n",
       "    .dataframe tbody tr th:only-of-type {\n",
       "        vertical-align: middle;\n",
       "    }\n",
       "\n",
       "    .dataframe tbody tr th {\n",
       "        vertical-align: top;\n",
       "    }\n",
       "\n",
       "    .dataframe thead th {\n",
       "        text-align: right;\n",
       "    }\n",
       "</style>\n",
       "<table border=\"1\" class=\"dataframe\">\n",
       "  <thead>\n",
       "    <tr style=\"text-align: right;\">\n",
       "      <th></th>\n",
       "      <th>Id</th>\n",
       "      <th>Salary per month</th>\n",
       "    </tr>\n",
       "  </thead>\n",
       "  <tbody>\n",
       "    <tr>\n",
       "      <th>count</th>\n",
       "      <td>2.527600e+04</td>\n",
       "      <td>25276.000000</td>\n",
       "    </tr>\n",
       "    <tr>\n",
       "      <th>mean</th>\n",
       "      <td>7.109038e+07</td>\n",
       "      <td>2935.074458</td>\n",
       "    </tr>\n",
       "    <tr>\n",
       "      <th>std</th>\n",
       "      <td>1.025040e+06</td>\n",
       "      <td>1315.875990</td>\n",
       "    </tr>\n",
       "    <tr>\n",
       "      <th>min</th>\n",
       "      <td>6.924768e+07</td>\n",
       "      <td>417.000000</td>\n",
       "    </tr>\n",
       "    <tr>\n",
       "      <th>25%</th>\n",
       "      <td>7.008671e+07</td>\n",
       "      <td>2000.000000</td>\n",
       "    </tr>\n",
       "    <tr>\n",
       "      <th>50%</th>\n",
       "      <td>7.129211e+07</td>\n",
       "      <td>2681.500000</td>\n",
       "    </tr>\n",
       "    <tr>\n",
       "      <th>75%</th>\n",
       "      <td>7.187785e+07</td>\n",
       "      <td>3542.000000</td>\n",
       "    </tr>\n",
       "    <tr>\n",
       "      <th>max</th>\n",
       "      <td>7.270520e+07</td>\n",
       "      <td>8000.000000</td>\n",
       "    </tr>\n",
       "  </tbody>\n",
       "</table>\n",
       "</div>"
      ],
      "text/plain": [
       "                 Id  Salary per month\n",
       "count  2.527600e+04      25276.000000\n",
       "mean   7.109038e+07       2935.074458\n",
       "std    1.025040e+06       1315.875990\n",
       "min    6.924768e+07        417.000000\n",
       "25%    7.008671e+07       2000.000000\n",
       "50%    7.129211e+07       2681.500000\n",
       "75%    7.187785e+07       3542.000000\n",
       "max    7.270520e+07       8000.000000"
      ]
     },
     "execution_count": 6,
     "metadata": {},
     "output_type": "execute_result"
    }
   ],
   "source": [
    "df2.describe()"
   ]
  },
  {
   "cell_type": "code",
   "execution_count": 7,
   "metadata": {},
   "outputs": [
    {
     "data": {
      "text/html": [
       "<div>\n",
       "<style scoped>\n",
       "    .dataframe tbody tr th:only-of-type {\n",
       "        vertical-align: middle;\n",
       "    }\n",
       "\n",
       "    .dataframe tbody tr th {\n",
       "        vertical-align: top;\n",
       "    }\n",
       "\n",
       "    .dataframe thead th {\n",
       "        text-align: right;\n",
       "    }\n",
       "</style>\n",
       "<table border=\"1\" class=\"dataframe\">\n",
       "  <thead>\n",
       "    <tr style=\"text-align: right;\">\n",
       "      <th></th>\n",
       "      <th>Source Name</th>\n",
       "      <th>Title</th>\n",
       "      <th>location</th>\n",
       "      <th>Contract Type</th>\n",
       "      <th>Contract Time</th>\n",
       "      <th>Company</th>\n",
       "      <th>Category</th>\n",
       "      <th>OpenDate</th>\n",
       "      <th>CloseDate</th>\n",
       "    </tr>\n",
       "  </thead>\n",
       "  <tbody>\n",
       "    <tr>\n",
       "      <th>count</th>\n",
       "      <td>25276</td>\n",
       "      <td>25276</td>\n",
       "      <td>25276</td>\n",
       "      <td>4819</td>\n",
       "      <td>19763</td>\n",
       "      <td>24178</td>\n",
       "      <td>25276</td>\n",
       "      <td>25276</td>\n",
       "      <td>25276</td>\n",
       "    </tr>\n",
       "    <tr>\n",
       "      <th>unique</th>\n",
       "      <td>92</td>\n",
       "      <td>25276</td>\n",
       "      <td>475</td>\n",
       "      <td>2</td>\n",
       "      <td>2</td>\n",
       "      <td>5679</td>\n",
       "      <td>8</td>\n",
       "      <td>2193</td>\n",
       "      <td>2395</td>\n",
       "    </tr>\n",
       "    <tr>\n",
       "      <th>top</th>\n",
       "      <td>totaljobs.com</td>\n",
       "      <td>Optical Assistant Aldershot</td>\n",
       "      <td>UK</td>\n",
       "      <td>ft</td>\n",
       "      <td>perm.</td>\n",
       "      <td>UKStaffsearch</td>\n",
       "      <td>IT Jobs</td>\n",
       "      <td>2012-04-06 12:00:00</td>\n",
       "      <td>2013-07-31 12:00:00</td>\n",
       "    </tr>\n",
       "    <tr>\n",
       "      <th>freq</th>\n",
       "      <td>4799</td>\n",
       "      <td>1</td>\n",
       "      <td>4263</td>\n",
       "      <td>4353</td>\n",
       "      <td>16505</td>\n",
       "      <td>255</td>\n",
       "      <td>6854</td>\n",
       "      <td>28</td>\n",
       "      <td>25</td>\n",
       "    </tr>\n",
       "  </tbody>\n",
       "</table>\n",
       "</div>"
      ],
      "text/plain": [
       "          Source Name                        Title location Contract Type  \\\n",
       "count           25276                        25276    25276          4819   \n",
       "unique             92                        25276      475             2   \n",
       "top     totaljobs.com  Optical Assistant Aldershot       UK            ft   \n",
       "freq             4799                            1     4263          4353   \n",
       "\n",
       "       Contract Time        Company Category             OpenDate  \\\n",
       "count          19763          24178    25276                25276   \n",
       "unique             2           5679        8                 2193   \n",
       "top            perm.  UKStaffsearch  IT Jobs  2012-04-06 12:00:00   \n",
       "freq           16505            255     6854                   28   \n",
       "\n",
       "                  CloseDate  \n",
       "count                 25276  \n",
       "unique                 2395  \n",
       "top     2013-07-31 12:00:00  \n",
       "freq                     25  "
      ]
     },
     "execution_count": 7,
     "metadata": {},
     "output_type": "execute_result"
    }
   ],
   "source": [
    "df2.describe(include=['O'])"
   ]
  },
  {
   "cell_type": "code",
   "execution_count": 8,
   "metadata": {},
   "outputs": [
    {
     "data": {
      "text/html": [
       "<div>\n",
       "<style scoped>\n",
       "    .dataframe tbody tr th:only-of-type {\n",
       "        vertical-align: middle;\n",
       "    }\n",
       "\n",
       "    .dataframe tbody tr th {\n",
       "        vertical-align: top;\n",
       "    }\n",
       "\n",
       "    .dataframe thead th {\n",
       "        text-align: right;\n",
       "    }\n",
       "</style>\n",
       "<table border=\"1\" class=\"dataframe\">\n",
       "  <thead>\n",
       "    <tr style=\"text-align: right;\">\n",
       "      <th></th>\n",
       "      <th>Id</th>\n",
       "      <th>Source Name</th>\n",
       "      <th>Title</th>\n",
       "      <th>location</th>\n",
       "      <th>Contract Type</th>\n",
       "      <th>Contract Time</th>\n",
       "      <th>Company</th>\n",
       "      <th>Category</th>\n",
       "      <th>Salary per month</th>\n",
       "      <th>OpenDate</th>\n",
       "      <th>CloseDate</th>\n",
       "    </tr>\n",
       "  </thead>\n",
       "  <tbody>\n",
       "    <tr>\n",
       "      <th>0</th>\n",
       "      <td>69247680</td>\n",
       "      <td>jobs.guardian.co.uk</td>\n",
       "      <td>Business Development Exec  research / insight ...</td>\n",
       "      <td>London</td>\n",
       "      <td>ft</td>\n",
       "      <td>perm.</td>\n",
       "      <td>BOYCE RECRUITMENT</td>\n",
       "      <td>PR, Advertising &amp; Marketing Jobs</td>\n",
       "      <td>2125</td>\n",
       "      <td>2012-03-01 15:00:00</td>\n",
       "      <td>2012-03-31 15:00:00</td>\n",
       "    </tr>\n",
       "    <tr>\n",
       "      <th>1</th>\n",
       "      <td>69247682</td>\n",
       "      <td>icaewjobs.com</td>\n",
       "      <td>Audit Senior  London</td>\n",
       "      <td>London</td>\n",
       "      <td>ft</td>\n",
       "      <td>contr.</td>\n",
       "      <td>Pro Finance</td>\n",
       "      <td>Finance &amp; Accounting Jobs</td>\n",
       "      <td>3600</td>\n",
       "      <td>2013-03-14 12:00:00</td>\n",
       "      <td>2013-04-13 12:00:00</td>\n",
       "    </tr>\n",
       "    <tr>\n",
       "      <th>2</th>\n",
       "      <td>69247685</td>\n",
       "      <td>jobs.guardian.co.uk</td>\n",
       "      <td>PR &amp; Social Media Account Executive  Top Inter...</td>\n",
       "      <td>Central London</td>\n",
       "      <td>ft</td>\n",
       "      <td>perm.</td>\n",
       "      <td>ECOM RECRUITMENT LTD</td>\n",
       "      <td>PR, Advertising &amp; Marketing Jobs</td>\n",
       "      <td>1917</td>\n",
       "      <td>2012-02-14 12:00:00</td>\n",
       "      <td>2012-03-15 12:00:00</td>\n",
       "    </tr>\n",
       "    <tr>\n",
       "      <th>3</th>\n",
       "      <td>69247688</td>\n",
       "      <td>jobs.guardian.co.uk</td>\n",
       "      <td>Content Manager</td>\n",
       "      <td>London</td>\n",
       "      <td>ft</td>\n",
       "      <td>perm.</td>\n",
       "      <td>NAKAMA LONDON</td>\n",
       "      <td>PR, Advertising &amp; Marketing Jobs</td>\n",
       "      <td>2083</td>\n",
       "      <td>2012-10-21 00:00:00</td>\n",
       "      <td>2012-12-20 00:00:00</td>\n",
       "    </tr>\n",
       "    <tr>\n",
       "      <th>4</th>\n",
       "      <td>69247694</td>\n",
       "      <td>jobs.guardian.co.uk</td>\n",
       "      <td>AV PRODUCTION MANAGER</td>\n",
       "      <td>Worcestershire</td>\n",
       "      <td>ft</td>\n",
       "      <td>perm.</td>\n",
       "      <td>LIVE RECRUITMENT</td>\n",
       "      <td>PR, Advertising &amp; Marketing Jobs</td>\n",
       "      <td>2292</td>\n",
       "      <td>2012-02-22 00:00:00</td>\n",
       "      <td>2012-04-22 00:00:00</td>\n",
       "    </tr>\n",
       "  </tbody>\n",
       "</table>\n",
       "</div>"
      ],
      "text/plain": [
       "         Id          Source Name  \\\n",
       "0  69247680  jobs.guardian.co.uk   \n",
       "1  69247682        icaewjobs.com   \n",
       "2  69247685  jobs.guardian.co.uk   \n",
       "3  69247688  jobs.guardian.co.uk   \n",
       "4  69247694  jobs.guardian.co.uk   \n",
       "\n",
       "                                               Title        location  \\\n",
       "0  Business Development Exec  research / insight ...          London   \n",
       "1                               Audit Senior  London          London   \n",
       "2  PR & Social Media Account Executive  Top Inter...  Central London   \n",
       "3                                    Content Manager          London   \n",
       "4                              AV PRODUCTION MANAGER  Worcestershire   \n",
       "\n",
       "  Contract Type Contract Time               Company  \\\n",
       "0            ft         perm.     BOYCE RECRUITMENT   \n",
       "1            ft        contr.           Pro Finance   \n",
       "2            ft         perm.  ECOM RECRUITMENT LTD   \n",
       "3            ft         perm.         NAKAMA LONDON   \n",
       "4            ft         perm.      LIVE RECRUITMENT   \n",
       "\n",
       "                           Category  Salary per month             OpenDate  \\\n",
       "0  PR, Advertising & Marketing Jobs              2125  2012-03-01 15:00:00   \n",
       "1         Finance & Accounting Jobs              3600  2013-03-14 12:00:00   \n",
       "2  PR, Advertising & Marketing Jobs              1917  2012-02-14 12:00:00   \n",
       "3  PR, Advertising & Marketing Jobs              2083  2012-10-21 00:00:00   \n",
       "4  PR, Advertising & Marketing Jobs              2292  2012-02-22 00:00:00   \n",
       "\n",
       "             CloseDate  \n",
       "0  2012-03-31 15:00:00  \n",
       "1  2013-04-13 12:00:00  \n",
       "2  2012-03-15 12:00:00  \n",
       "3  2012-12-20 00:00:00  \n",
       "4  2012-04-22 00:00:00  "
      ]
     },
     "execution_count": 8,
     "metadata": {},
     "output_type": "execute_result"
    }
   ],
   "source": [
    "df2.head()"
   ]
  },
  {
   "cell_type": "markdown",
   "metadata": {
    "collapsed": true
   },
   "source": [
    "## 2. Parse XXXX File\n",
    "\n",
    "In this section, you can write your python scripts to parse the correspondiing file.\n",
    "You should \n",
    "* write proper notes for all code block in this notebook using the Markdown cells\n",
    "* provide proper comment in your scripts\n",
    "* run all cells to make sure scripts are runable. If the scripts cannot be run by the assessors, they will not be assessed and zero mark will be given to the task."
   ]
  },
  {
   "cell_type": "code",
   "execution_count": 11,
   "metadata": {},
   "outputs": [
    {
     "data": {
      "text/plain": [
       "array(['ft', nan, 'pt'], dtype=object)"
      ]
     },
     "execution_count": 11,
     "metadata": {},
     "output_type": "execute_result"
    }
   ],
   "source": [
    "df2['Contract Type'].unique()"
   ]
  },
  {
   "cell_type": "code",
   "execution_count": 12,
   "metadata": {},
   "outputs": [
    {
     "data": {
      "text/plain": [
       "array(['perm.', 'contr.', nan], dtype=object)"
      ]
     },
     "execution_count": 12,
     "metadata": {},
     "output_type": "execute_result"
    }
   ],
   "source": [
    "df2['Contract Time'].unique()"
   ]
  },
  {
   "cell_type": "markdown",
   "metadata": {
    "collapsed": true
   },
   "source": [
    "## Potential integration issue at first glance:\n",
    "- Different representation of `Contract Type` ad `Contract Time` in dataset1 and dataset2\n",
    "- Different unit for `Salary`\n",
    "- duplicated records(can be solved only when all format and units are uniformed first)"
   ]
  },
  {
   "cell_type": "markdown",
   "metadata": {},
   "source": [
    "## 3. Summary\n",
    "Give a short summary of your work done above, such as your findings."
   ]
  },
  {
   "cell_type": "code",
   "execution_count": null,
   "metadata": {
    "collapsed": true
   },
   "outputs": [],
   "source": []
  }
 ],
 "metadata": {
  "kernelspec": {
   "display_name": "Python [conda env:anaconda3]",
   "language": "python",
   "name": "conda-env-anaconda3-py"
  },
  "language_info": {
   "codemirror_mode": {
    "name": "ipython",
    "version": 3
   },
   "file_extension": ".py",
   "mimetype": "text/x-python",
   "name": "python",
   "nbconvert_exporter": "python",
   "pygments_lexer": "ipython3",
   "version": "3.6.4"
  }
 },
 "nbformat": 4,
 "nbformat_minor": 1
}
