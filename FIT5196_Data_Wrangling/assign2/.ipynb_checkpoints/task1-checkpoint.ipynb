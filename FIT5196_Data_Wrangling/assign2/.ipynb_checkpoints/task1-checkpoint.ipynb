{
 "cells": [
  {
   "cell_type": "markdown",
   "metadata": {},
   "source": [
    "# FIT5196 Task X in Assessment 2\n",
    "#### Student Name: Boyu Zhang\n",
    "#### Student ID: 28491300\n",
    "\n",
    "Date: XX/XX/XXXX\n",
    "\n",
    "Version: 1.0\n",
    "\n",
    "Environment: Python 3.6 and Jupyter notebook\n",
    "\n",
    "Libraries used: please include the main libraries you used in your assignment here, e.g.,:\n",
    "* pandas (for dataframe, included in Anaconda Python ) \n",
    "* re (for regular expression, included in Anaconda Python 3.6) \n",
    "* numpy (for numpy array, included in Anaconda Python 3.6) \n",
    "\n",
    "<font size=3, color=\"red\"> Note: this is a sample notebook only. You will need to fill in the proper markdown and code blocks. You might also want to make necessary changes to the structure to meet your own needs. It is important to make sure the logic of how you finish the assessment is clearly shown in this notebook! </font>"
   ]
  },
  {
   "cell_type": "markdown",
   "metadata": {},
   "source": [
    "## 1.  Import libraries "
   ]
  },
  {
   "cell_type": "code",
   "execution_count": 2,
   "metadata": {},
   "outputs": [],
   "source": [
    "# Code to import libraries as you need in this assessment, e.g.,\n",
    "import pandas as pd\n",
    "import numpy as np\n",
    "import re"
   ]
  },
  {
   "cell_type": "markdown",
   "metadata": {
    "collapsed": true
   },
   "source": [
    "## 2. Parse XXXX File\n",
    "\n",
    "In this section, you can write your python scripts to parse the correspondiing file.\n",
    "You should \n",
    "* write proper notes for all code block in this notebook using the Markdown cells\n",
    "* provide proper comment in your scripts\n",
    "* run all cells to make sure scripts are runable. If the scripts cannot be run by the assessors, they will not be assessed and zero mark will be given to the task."
   ]
  },
  {
   "cell_type": "code",
   "execution_count": 3,
   "metadata": {},
   "outputs": [],
   "source": [
    "df1 = pd.read_csv('./Input/dataset1_with_error.csv')"
   ]
  },
  {
   "cell_type": "code",
   "execution_count": 4,
   "metadata": {},
   "outputs": [
    {
     "name": "stdout",
     "output_type": "stream",
     "text": [
      "<class 'pandas.core.frame.DataFrame'>\n",
      "RangeIndex: 25077 entries, 0 to 25076\n",
      "Data columns (total 11 columns):\n",
      "Id                  25077 non-null int64\n",
      "Title               25077 non-null object\n",
      "Location            25077 non-null object\n",
      "ContractType        25077 non-null object\n",
      "ContractTime        25077 non-null object\n",
      "Company             21242 non-null object\n",
      "Category            25077 non-null object\n",
      "Salary per annum    25077 non-null object\n",
      "SourceName          25077 non-null object\n",
      "OpenDate            25077 non-null object\n",
      "CloseDate           25077 non-null object\n",
      "dtypes: int64(1), object(10)\n",
      "memory usage: 2.1+ MB\n"
     ]
    }
   ],
   "source": [
    "df1.info()"
   ]
  },
  {
   "cell_type": "code",
   "execution_count": 7,
   "metadata": {},
   "outputs": [
    {
     "data": {
      "text/html": [
       "<div>\n",
       "<style scoped>\n",
       "    .dataframe tbody tr th:only-of-type {\n",
       "        vertical-align: middle;\n",
       "    }\n",
       "\n",
       "    .dataframe tbody tr th {\n",
       "        vertical-align: top;\n",
       "    }\n",
       "\n",
       "    .dataframe thead th {\n",
       "        text-align: right;\n",
       "    }\n",
       "</style>\n",
       "<table border=\"1\" class=\"dataframe\">\n",
       "  <thead>\n",
       "    <tr style=\"text-align: right;\">\n",
       "      <th></th>\n",
       "      <th>Id</th>\n",
       "      <th>Title</th>\n",
       "      <th>Location</th>\n",
       "      <th>ContractType</th>\n",
       "      <th>ContractTime</th>\n",
       "      <th>Company</th>\n",
       "      <th>Category</th>\n",
       "      <th>Salary per annum</th>\n",
       "      <th>SourceName</th>\n",
       "      <th>OpenDate</th>\n",
       "      <th>CloseDate</th>\n",
       "    </tr>\n",
       "  </thead>\n",
       "  <tbody>\n",
       "    <tr>\n",
       "      <th>0</th>\n",
       "      <td>12612628</td>\n",
       "      <td>Engineering Systems Analyst</td>\n",
       "      <td>Dorking</td>\n",
       "      <td>not available</td>\n",
       "      <td>permanent</td>\n",
       "      <td>Gregory Martin International</td>\n",
       "      <td>Engineering Jobs</td>\n",
       "      <td>24996</td>\n",
       "      <td>cv-library.co.uk</td>\n",
       "      <td>20121103T000000</td>\n",
       "      <td>20121203T000000</td>\n",
       "    </tr>\n",
       "    <tr>\n",
       "      <th>1</th>\n",
       "      <td>12612830</td>\n",
       "      <td>Stress Engineer Glasgow</td>\n",
       "      <td>Glasgow</td>\n",
       "      <td>not available</td>\n",
       "      <td>permanent</td>\n",
       "      <td>Gregory Martin International</td>\n",
       "      <td>Engineering Jobs</td>\n",
       "      <td>30000</td>\n",
       "      <td>cv-library.co.uk</td>\n",
       "      <td>20130108T150000</td>\n",
       "      <td>20130408T150000</td>\n",
       "    </tr>\n",
       "    <tr>\n",
       "      <th>2</th>\n",
       "      <td>12612844</td>\n",
       "      <td>Modelling and simulation analyst</td>\n",
       "      <td>Hampshire</td>\n",
       "      <td>not available</td>\n",
       "      <td>permanent</td>\n",
       "      <td>Gregory Martin International</td>\n",
       "      <td>Engineering Jobs</td>\n",
       "      <td>30000</td>\n",
       "      <td>cv-library.co.uk</td>\n",
       "      <td>20130726T150000</td>\n",
       "      <td>20130924T150000</td>\n",
       "    </tr>\n",
       "    <tr>\n",
       "      <th>3</th>\n",
       "      <td>12613049</td>\n",
       "      <td>Engineering Systems Analyst / Mathematical Mod...</td>\n",
       "      <td>Surrey</td>\n",
       "      <td>not available</td>\n",
       "      <td>permanent</td>\n",
       "      <td>Gregory Martin International</td>\n",
       "      <td>Engineering Jobs</td>\n",
       "      <td>27504</td>\n",
       "      <td>cv-library.co.uk</td>\n",
       "      <td>20121214T000000</td>\n",
       "      <td>20130314T000000</td>\n",
       "    </tr>\n",
       "    <tr>\n",
       "      <th>4</th>\n",
       "      <td>12613647</td>\n",
       "      <td>Pioneer, Miser Engineering Systems Analyst</td>\n",
       "      <td>Surrey</td>\n",
       "      <td>not available</td>\n",
       "      <td>permanent</td>\n",
       "      <td>Gregory Martin International</td>\n",
       "      <td>Engineering Jobs</td>\n",
       "      <td>24996</td>\n",
       "      <td>cv-library.co.uk</td>\n",
       "      <td>20131025T000000</td>\n",
       "      <td>20131224T000000</td>\n",
       "    </tr>\n",
       "  </tbody>\n",
       "</table>\n",
       "</div>"
      ],
      "text/plain": [
       "         Id                                              Title   Location  \\\n",
       "0  12612628                        Engineering Systems Analyst    Dorking   \n",
       "1  12612830                            Stress Engineer Glasgow    Glasgow   \n",
       "2  12612844                   Modelling and simulation analyst  Hampshire   \n",
       "3  12613049  Engineering Systems Analyst / Mathematical Mod...     Surrey   \n",
       "4  12613647         Pioneer, Miser Engineering Systems Analyst     Surrey   \n",
       "\n",
       "    ContractType ContractTime                       Company          Category  \\\n",
       "0  not available    permanent  Gregory Martin International  Engineering Jobs   \n",
       "1  not available    permanent  Gregory Martin International  Engineering Jobs   \n",
       "2  not available    permanent  Gregory Martin International  Engineering Jobs   \n",
       "3  not available    permanent  Gregory Martin International  Engineering Jobs   \n",
       "4  not available    permanent  Gregory Martin International  Engineering Jobs   \n",
       "\n",
       "  Salary per annum        SourceName         OpenDate        CloseDate  \n",
       "0            24996  cv-library.co.uk  20121103T000000  20121203T000000  \n",
       "1            30000  cv-library.co.uk  20130108T150000  20130408T150000  \n",
       "2            30000  cv-library.co.uk  20130726T150000  20130924T150000  \n",
       "3            27504  cv-library.co.uk  20121214T000000  20130314T000000  \n",
       "4            24996  cv-library.co.uk  20131025T000000  20131224T000000  "
      ]
     },
     "execution_count": 7,
     "metadata": {},
     "output_type": "execute_result"
    }
   ],
   "source": [
    "df1.head()"
   ]
  },
  {
   "cell_type": "code",
   "execution_count": 6,
   "metadata": {},
   "outputs": [
    {
     "data": {
      "text/html": [
       "<div>\n",
       "<style scoped>\n",
       "    .dataframe tbody tr th:only-of-type {\n",
       "        vertical-align: middle;\n",
       "    }\n",
       "\n",
       "    .dataframe tbody tr th {\n",
       "        vertical-align: top;\n",
       "    }\n",
       "\n",
       "    .dataframe thead th {\n",
       "        text-align: right;\n",
       "    }\n",
       "</style>\n",
       "<table border=\"1\" class=\"dataframe\">\n",
       "  <thead>\n",
       "    <tr style=\"text-align: right;\">\n",
       "      <th></th>\n",
       "      <th>Id</th>\n",
       "    </tr>\n",
       "  </thead>\n",
       "  <tbody>\n",
       "    <tr>\n",
       "      <th>count</th>\n",
       "      <td>2.507700e+04</td>\n",
       "    </tr>\n",
       "    <tr>\n",
       "      <th>mean</th>\n",
       "      <td>6.664312e+07</td>\n",
       "    </tr>\n",
       "    <tr>\n",
       "      <th>std</th>\n",
       "      <td>5.195261e+06</td>\n",
       "    </tr>\n",
       "    <tr>\n",
       "      <th>min</th>\n",
       "      <td>1.261263e+07</td>\n",
       "    </tr>\n",
       "    <tr>\n",
       "      <th>25%</th>\n",
       "      <td>6.720830e+07</td>\n",
       "    </tr>\n",
       "    <tr>\n",
       "      <th>50%</th>\n",
       "      <td>6.836110e+07</td>\n",
       "    </tr>\n",
       "    <tr>\n",
       "      <th>75%</th>\n",
       "      <td>6.871371e+07</td>\n",
       "    </tr>\n",
       "    <tr>\n",
       "      <th>max</th>\n",
       "      <td>6.924767e+07</td>\n",
       "    </tr>\n",
       "  </tbody>\n",
       "</table>\n",
       "</div>"
      ],
      "text/plain": [
       "                 Id\n",
       "count  2.507700e+04\n",
       "mean   6.664312e+07\n",
       "std    5.195261e+06\n",
       "min    1.261263e+07\n",
       "25%    6.720830e+07\n",
       "50%    6.836110e+07\n",
       "75%    6.871371e+07\n",
       "max    6.924767e+07"
      ]
     },
     "execution_count": 6,
     "metadata": {},
     "output_type": "execute_result"
    }
   ],
   "source": [
    "df1.describe()"
   ]
  },
  {
   "cell_type": "code",
   "execution_count": 5,
   "metadata": {},
   "outputs": [
    {
     "data": {
      "text/html": [
       "<div>\n",
       "<style scoped>\n",
       "    .dataframe tbody tr th:only-of-type {\n",
       "        vertical-align: middle;\n",
       "    }\n",
       "\n",
       "    .dataframe tbody tr th {\n",
       "        vertical-align: top;\n",
       "    }\n",
       "\n",
       "    .dataframe thead th {\n",
       "        text-align: right;\n",
       "    }\n",
       "</style>\n",
       "<table border=\"1\" class=\"dataframe\">\n",
       "  <thead>\n",
       "    <tr style=\"text-align: right;\">\n",
       "      <th></th>\n",
       "      <th>Title</th>\n",
       "      <th>Location</th>\n",
       "      <th>ContractType</th>\n",
       "      <th>ContractTime</th>\n",
       "      <th>Company</th>\n",
       "      <th>Category</th>\n",
       "      <th>Salary per annum</th>\n",
       "      <th>SourceName</th>\n",
       "      <th>OpenDate</th>\n",
       "      <th>CloseDate</th>\n",
       "    </tr>\n",
       "  </thead>\n",
       "  <tbody>\n",
       "    <tr>\n",
       "      <th>count</th>\n",
       "      <td>25077</td>\n",
       "      <td>25077</td>\n",
       "      <td>25077</td>\n",
       "      <td>25077</td>\n",
       "      <td>21242</td>\n",
       "      <td>25077</td>\n",
       "      <td>25077</td>\n",
       "      <td>25077</td>\n",
       "      <td>25077</td>\n",
       "      <td>25077</td>\n",
       "    </tr>\n",
       "    <tr>\n",
       "      <th>unique</th>\n",
       "      <td>25077</td>\n",
       "      <td>482</td>\n",
       "      <td>3</td>\n",
       "      <td>3</td>\n",
       "      <td>4879</td>\n",
       "      <td>8</td>\n",
       "      <td>1589</td>\n",
       "      <td>90</td>\n",
       "      <td>2203</td>\n",
       "      <td>2400</td>\n",
       "    </tr>\n",
       "    <tr>\n",
       "      <th>top</th>\n",
       "      <td>Commis Chef  Top Hotel Operation  Award Winnin...</td>\n",
       "      <td>UK</td>\n",
       "      <td>not available</td>\n",
       "      <td>permanent</td>\n",
       "      <td>UKStaffsearch</td>\n",
       "      <td>IT Jobs</td>\n",
       "      <td>35004</td>\n",
       "      <td>totaljobs.com</td>\n",
       "      <td>20130127T150000</td>\n",
       "      <td>20130526T120000</td>\n",
       "    </tr>\n",
       "    <tr>\n",
       "      <th>freq</th>\n",
       "      <td>1</td>\n",
       "      <td>3996</td>\n",
       "      <td>19499</td>\n",
       "      <td>16194</td>\n",
       "      <td>248</td>\n",
       "      <td>7085</td>\n",
       "      <td>1011</td>\n",
       "      <td>5335</td>\n",
       "      <td>27</td>\n",
       "      <td>23</td>\n",
       "    </tr>\n",
       "  </tbody>\n",
       "</table>\n",
       "</div>"
      ],
      "text/plain": [
       "                                                    Title Location  \\\n",
       "count                                               25077    25077   \n",
       "unique                                              25077      482   \n",
       "top     Commis Chef  Top Hotel Operation  Award Winnin...       UK   \n",
       "freq                                                    1     3996   \n",
       "\n",
       "         ContractType ContractTime        Company Category Salary per annum  \\\n",
       "count           25077        25077          21242    25077            25077   \n",
       "unique              3            3           4879        8             1589   \n",
       "top     not available    permanent  UKStaffsearch  IT Jobs            35004   \n",
       "freq            19499        16194            248     7085             1011   \n",
       "\n",
       "           SourceName         OpenDate        CloseDate  \n",
       "count           25077            25077            25077  \n",
       "unique             90             2203             2400  \n",
       "top     totaljobs.com  20130127T150000  20130526T120000  \n",
       "freq             5335               27               23  "
      ]
     },
     "execution_count": 5,
     "metadata": {},
     "output_type": "execute_result"
    }
   ],
   "source": [
    "df1.describe(include=['O'])"
   ]
  },
  {
   "cell_type": "code",
   "execution_count": null,
   "metadata": {},
   "outputs": [],
   "source": []
  },
  {
   "cell_type": "code",
   "execution_count": null,
   "metadata": {},
   "outputs": [],
   "source": []
  },
  {
   "cell_type": "code",
   "execution_count": null,
   "metadata": {},
   "outputs": [],
   "source": []
  },
  {
   "cell_type": "code",
   "execution_count": null,
   "metadata": {},
   "outputs": [],
   "source": [
    "p = '\\d{4}(\\d{2})(\\d{2}).(\\d{2})(\\d{2})(\\d{2})'\n",
    "def is_valid_date(d):\n",
    "    month_invalid = int(re.match(p,d).group(1)) > 12 \n",
    "    day_invalid = int(re.match(p,d).group(2)) > 31 #keep it simple fallacious for the moment, for simplicity just assume each month has 31 days\n",
    "    if month_invalid or day_invalid:\n",
    "        return d\n",
    "    else:\n",
    "        return np.nan\n",
    "    \n",
    "invalid_open_date = df1.OpenDate.apply(is_valid_date)\n",
    "invalid_close_date = df1.CloseDate.apply(is_valid_date)"
   ]
  },
  {
   "cell_type": "code",
   "execution_count": null,
   "metadata": {},
   "outputs": [],
   "source": [
    "invalid_open_date.dropna().shape, invalid_close_date.dropna().shape"
   ]
  },
  {
   "cell_type": "markdown",
   "metadata": {},
   "source": [
    "indicates there are 10 invalid date "
   ]
  },
  {
   "cell_type": "markdown",
   "metadata": {},
   "source": [
    "inspect the invalid values"
   ]
  },
  {
   "cell_type": "code",
   "execution_count": null,
   "metadata": {},
   "outputs": [],
   "source": [
    "invalid_series = invalid_open_date.dropna().values"
   ]
  },
  {
   "cell_type": "code",
   "execution_count": null,
   "metadata": {},
   "outputs": [],
   "source": [
    "df1 = df1[~df1.OpenDate.isin( invalid_series)]"
   ]
  },
  {
   "cell_type": "code",
   "execution_count": null,
   "metadata": {},
   "outputs": [],
   "source": [
    "df1.info()"
   ]
  },
  {
   "cell_type": "code",
   "execution_count": null,
   "metadata": {},
   "outputs": [],
   "source": [
    "df1[['OpenDate','CloseDate']] = df1[['OpenDate','CloseDate']].apply(lambda x: pd.to_datetime(x).dt.date.astype('datetime64[D]'))"
   ]
  },
  {
   "cell_type": "code",
   "execution_count": null,
   "metadata": {},
   "outputs": [],
   "source": [
    "df1.head()"
   ]
  },
  {
   "cell_type": "code",
   "execution_count": null,
   "metadata": {},
   "outputs": [],
   "source": [
    "df1.Company[~df1.Company.notna()]"
   ]
  },
  {
   "cell_type": "markdown",
   "metadata": {},
   "source": [
    "## 3. Summary\n",
    "Give a short summary of your work done above, such as your findings."
   ]
  },
  {
   "cell_type": "code",
   "execution_count": null,
   "metadata": {},
   "outputs": [],
   "source": []
  }
 ],
 "metadata": {
  "kernelspec": {
   "display_name": "Python [conda env:5196]",
   "language": "python",
   "name": "conda-env-5196-py"
  },
  "language_info": {
   "codemirror_mode": {
    "name": "ipython",
    "version": 3
   },
   "file_extension": ".py",
   "mimetype": "text/x-python",
   "name": "python",
   "nbconvert_exporter": "python",
   "pygments_lexer": "ipython3",
   "version": "3.6.4"
  }
 },
 "nbformat": 4,
 "nbformat_minor": 1
}
