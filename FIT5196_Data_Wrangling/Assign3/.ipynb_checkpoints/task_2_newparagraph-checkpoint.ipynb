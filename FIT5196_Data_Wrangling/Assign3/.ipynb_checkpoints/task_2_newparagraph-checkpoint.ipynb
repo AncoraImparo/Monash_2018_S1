{
 "cells": [
  {
   "cell_type": "markdown",
   "metadata": {},
   "source": [
    "# Task 2 Generate Sparse Representations "
   ]
  },
  {
   "cell_type": "markdown",
   "metadata": {},
   "source": [
    "## Import Library"
   ]
  },
  {
   "cell_type": "code",
   "execution_count": 1,
   "metadata": {},
   "outputs": [],
   "source": [
    "import nltk\n",
    "import numpy as np\n",
    "from os import listdir\n",
    "from collections import OrderedDict"
   ]
  },
  {
   "cell_type": "markdown",
   "metadata": {},
   "source": [
    "## Vocabulary list and segment vectors"
   ]
  },
  {
   "cell_type": "markdown",
   "metadata": {},
   "source": [
    "### First we read the stop-word into a set"
   ]
  },
  {
   "cell_type": "code",
   "execution_count": 2,
   "metadata": {},
   "outputs": [],
   "source": [
    "with open('./stopwords_en.txt','r') as f:\n",
    "    stopwords = set()\n",
    "    i = 0\n",
    "    for line in f:\n",
    "        if line.endswith('\\n'):\n",
    "            stopwords.add(line[:-1])\n",
    "        else:\n",
    "            stopwords.add(line)"
   ]
  },
  {
   "cell_type": "markdown",
   "metadata": {},
   "source": [
    "### Then we can generate the boundary vectors and vocabulary list by searching through all transcripts"
   ]
  },
  {
   "cell_type": "markdown",
   "metadata": {},
   "source": [
    "#### Initialize tokenizer"
   ]
  },
  {
   "cell_type": "markdown",
   "metadata": {},
   "source": [
    "We initialize a regex tokenizer object from the ntlk package"
   ]
  },
  {
   "cell_type": "code",
   "execution_count": 3,
   "metadata": {},
   "outputs": [],
   "source": [
    "tokenizer = nltk.tokenize.RegexpTokenizer(\"\\w+(?:[-']\\w+)?\")"
   ]
  },
  {
   "cell_type": "markdown",
   "metadata": {},
   "source": [
    "#### Generata segment vector and vocabulary list"
   ]
  },
  {
   "cell_type": "code",
   "execution_count": 4,
   "metadata": {
    "scrolled": true
   },
   "outputs": [],
   "source": [
    "vocabs = {}\n",
    "with open('./topic_segs.txt','w') as seg:\n",
    "    for file in sorted(listdir('./txt_files/')):\n",
    "        word_set = set()\n",
    "        with open('./txt_files/'+file,'r') as f:\n",
    "            i = 0\n",
    "            vec = np.zeros(0,dtype=str)\n",
    "            for line in f:\n",
    "                words = tokenizer.tokenize(line.lower())\n",
    "                if line.startswith(' '):\n",
    "                    for word in words:\n",
    "                        if word not in word_set and word not in stopwords:#new words not in stopwords are added\n",
    "                            word_set.add(word)\n",
    "                        else:\n",
    "                            pass\n",
    "                    vec = np.append(vec,0)\n",
    "                    i += 1 \n",
    "                if line == '**********\\n':\n",
    "                    vec[i-1] = 1# when meet a topical boundary, alter the last element in the array to mark it\n",
    "        for word in word_set:\n",
    "            if word in vocabs:\n",
    "                vocabs[word] += 1\n",
    "            else:\n",
    "                vocabs[word] = 1\n",
    "        seg.write(file[:-4]+':')\n",
    "        seg.write(','.join(list(vec))+'\\n')\n",
    "        \n"
   ]
  },
  {
   "cell_type": "markdown",
   "metadata": {},
   "source": [
    "Then we can write the vocabularies into the txt file in the required format:"
   ]
  },
  {
   "cell_type": "code",
   "execution_count": 5,
   "metadata": {},
   "outputs": [],
   "source": [
    "final_vocabs = []\n",
    "for vocab in vocabs:\n",
    "    if  vocabs[vocab] <= 132:\n",
    "        final_vocabs.append(vocab)\n",
    "final_vocabs = enumerate(sorted(final_vocabs))\n",
    "with open('./vocab.txt','w') as f:\n",
    "    for i,e in final_vocabs:\n",
    "        f.write(e + ':' + str(i) + '\\n')"
   ]
  },
  {
   "cell_type": "markdown",
   "metadata": {},
   "source": [
    "## Sparse representation"
   ]
  },
  {
   "cell_type": "markdown",
   "metadata": {},
   "source": [
    "### Now we already have the word list with index, we can no generate the sparse representation of each transcript"
   ]
  },
  {
   "cell_type": "markdown",
   "metadata": {},
   "source": [
    "first we need to load the vocabulary list into the memory:"
   ]
  },
  {
   "cell_type": "code",
   "execution_count": 6,
   "metadata": {},
   "outputs": [],
   "source": [
    "vocab_index = {}\n",
    "with open('./vocab.txt','r') as f:\n",
    "    for line in f:\n",
    "        word,index = line.split(':')[0], line.split(':')[1][:-1]\n",
    "        vocab_index[word] = index"
   ]
  },
  {
   "cell_type": "markdown",
   "metadata": {},
   "source": [
    "Then we can generate the sparse files:"
   ]
  },
  {
   "cell_type": "code",
   "execution_count": 7,
   "metadata": {},
   "outputs": [],
   "source": [
    "for file in sorted(listdir('./txt_files/')):\n",
    "    with open('./sparse_files/' + file,'w') as f, open('./txt_files/'+file,'r') as read :\n",
    "        for line in read:\n",
    "            sparse = OrderedDict()\n",
    "            if line.startswith(' '):\n",
    "                words = tokenizer.tokenize(line.lower())\n",
    "                for word in words:\n",
    "                    if word in vocab_index:\n",
    "                        index = vocab_index[word]\n",
    "                        if index not in sparse:\n",
    "                            sparse[index] = 1\n",
    "                        else:\n",
    "                            sparse[index] += 1\n",
    "            if len(sparse) == 0:\n",
    "                continue\n",
    "            for k,v in list(sparse.items())[:-1]:\n",
    "                f.write(str(k) + ':' + str(v)+',')\n",
    "            f.write(str(list(sparse.items())[-1][0]) + ':' + str(list(sparse.items())[-1][1]))\n",
    "            f.write('\\n')"
   ]
  },
  {
   "cell_type": "code",
   "execution_count": null,
   "metadata": {},
   "outputs": [],
   "source": []
  }
 ],
 "metadata": {
  "kernelspec": {
   "display_name": "Python [conda env:NLP]",
   "language": "python",
   "name": "conda-env-NLP-py"
  },
  "language_info": {
   "codemirror_mode": {
    "name": "ipython",
    "version": 3
   },
   "file_extension": ".py",
   "mimetype": "text/x-python",
   "name": "python",
   "nbconvert_exporter": "python",
   "pygments_lexer": "ipython3",
   "version": "3.6.4"
  }
 },
 "nbformat": 4,
 "nbformat_minor": 2
}
