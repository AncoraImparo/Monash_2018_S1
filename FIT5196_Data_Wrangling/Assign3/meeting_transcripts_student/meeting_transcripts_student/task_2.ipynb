{
 "cells": [
  {
   "cell_type": "markdown",
   "metadata": {},
   "source": [
    "# Task 2 Generate Sparse Representations "
   ]
  },
  {
   "cell_type": "code",
   "execution_count": 16,
   "metadata": {},
   "outputs": [],
   "source": [
    "import nltk\n",
    "import numpy as np\n",
    "from os import listdir"
   ]
  },
  {
   "cell_type": "markdown",
   "metadata": {},
   "source": [
    "## Vocabulary list and segment vectors"
   ]
  },
  {
   "cell_type": "markdown",
   "metadata": {},
   "source": [
    "### First we read the stop-word into a set"
   ]
  },
  {
   "cell_type": "code",
   "execution_count": 14,
   "metadata": {},
   "outputs": [],
   "source": [
    "with open('./stopwords_en.txt','r') as f:\n",
    "    stopwords = set()\n",
    "    for line in f:\n",
    "        stopwords.add(line[:-1])"
   ]
  },
  {
   "cell_type": "markdown",
   "metadata": {},
   "source": [
    "### Then we can generate the boundary vectors and vocabulary list by searching through all transcripts"
   ]
  },
  {
   "cell_type": "markdown",
   "metadata": {},
   "source": [
    "#### Initialize tokenizer"
   ]
  },
  {
   "cell_type": "code",
   "execution_count": 122,
   "metadata": {},
   "outputs": [],
   "source": [
    "tokenizer = nltk.tokenize.RegexpTokenizer(\"\\w+(?:[-']\\w+)?\")"
   ]
  },
  {
   "cell_type": "code",
   "execution_count": 191,
   "metadata": {},
   "outputs": [],
   "source": [
    "vocabs = {}\n",
    "with open('./topic_segs.txt','w') as seg:\n",
    "    for file in sorted(listdir('./txt_files/')):\n",
    "        word_set = set()\n",
    "        with open('./txt_files/'+file,'r') as f:\n",
    "            i = 0\n",
    "            vec = np.zeros(0,dtype=str)\n",
    "            for line in f:\n",
    "                words = tokenizer.tokenize(line.lower())\n",
    "                if line.startswith(' '):\n",
    "                    for word in words:\n",
    "                        if word not in word_set:\n",
    "                            word_set.add(word)\n",
    "                        else:\n",
    "                            pass\n",
    "                    vec = np.append(vec,0)\n",
    "                    i += 1 \n",
    "                if line == '**********\\n':\n",
    "                    vec[i-1] = 1\n",
    "        for word in word_set:\n",
    "            if word in vocabs:\n",
    "                vocabs[word] += 1\n",
    "            else:\n",
    "                vocabs[word] =1\n",
    "        seg.write(file[:-4]+':')\n",
    "        seg.write(','.join(list(vec))+'\\n')\n",
    "        \n"
   ]
  },
  {
   "cell_type": "code",
   "execution_count": 172,
   "metadata": {},
   "outputs": [],
   "source": [
    "final_vocabs = []\n",
    "for vocab in vocabs:\n",
    "    if vocab not in stopwords and vocabs[vocab] < 130:\n",
    "        final_vocabs.append(vocab)\n",
    "final_vocabs = enumerate(sorted(final_vocabs))"
   ]
  },
  {
   "cell_type": "code",
   "execution_count": 173,
   "metadata": {},
   "outputs": [],
   "source": [
    "with open('./vocab.txt','w') as f:\n",
    "    for i,e in final_vocabs:\n",
    "        f.write(e + ':' + str(i) + '\\n')"
   ]
  },
  {
   "cell_type": "code",
   "execution_count": null,
   "metadata": {},
   "outputs": [],
   "source": []
  }
 ],
 "metadata": {
  "kernelspec": {
   "display_name": "Python [conda env:NLP]",
   "language": "python",
   "name": "conda-env-NLP-py"
  },
  "language_info": {
   "codemirror_mode": {
    "name": "ipython",
    "version": 3
   },
   "file_extension": ".py",
   "mimetype": "text/x-python",
   "name": "python",
   "nbconvert_exporter": "python",
   "pygments_lexer": "ipython3",
   "version": "3.6.4"
  }
 },
 "nbformat": 4,
 "nbformat_minor": 2
}
