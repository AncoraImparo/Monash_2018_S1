{
 "cells": [
  {
   "cell_type": "code",
   "execution_count": 70,
   "metadata": {},
   "outputs": [],
   "source": [
    "import xml.etree.ElementTree as ET\n",
    "tree = ET.parse('./topics/ES2002a.topic.xml')"
   ]
  },
  {
   "cell_type": "code",
   "execution_count": 71,
   "metadata": {},
   "outputs": [],
   "source": [
    "root = tree.getroot()"
   ]
  },
  {
   "cell_type": "code",
   "execution_count": 72,
   "metadata": {},
   "outputs": [
    {
     "data": {
      "text/plain": [
       "'{http://nite.sourceforge.net/}root'"
      ]
     },
     "execution_count": 72,
     "metadata": {},
     "output_type": "execute_result"
    }
   ],
   "source": [
    "root.tag"
   ]
  },
  {
   "cell_type": "code",
   "execution_count": 79,
   "metadata": {},
   "outputs": [
    {
     "data": {
      "text/plain": [
       "7"
      ]
     },
     "execution_count": 79,
     "metadata": {},
     "output_type": "execute_result"
    }
   ],
   "source": [
    "len(root)"
   ]
  },
  {
   "cell_type": "code",
   "execution_count": 73,
   "metadata": {},
   "outputs": [
    {
     "name": "stdout",
     "output_type": "stream",
     "text": [
      "{'{http://nite.sourceforge.net/}id': 'ES2002a.topic.vkaraisk.1', 'other_description': 'introduction of participants and their roles'}\n",
      "{'{http://nite.sourceforge.net/}id': 'ES2002a.topic.vkaraisk.2', 'other_description': 'project goals and design process'}\n",
      "{'{http://nite.sourceforge.net/}id': 'ES2002a.topic.vkaraisk.3', 'other_description': 'drawing animals on the whiteboard'}\n",
      "{'{http://nite.sourceforge.net/}id': 'ES2002a.topic.vkaraisk.4'}\n",
      "{'{http://nite.sourceforge.net/}id': 'ES2002a.topic.vkaraisk.5', 'other_description': 'possible issues with project goals'}\n",
      "{'{http://nite.sourceforge.net/}id': 'ES2002a.topic.vkaraisk.7', 'other_description': 'initial ideas about RC design'}\n",
      "{'{http://nite.sourceforge.net/}id': 'ES2002a.topic.vkaraisk.9'}\n"
     ]
    }
   ],
   "source": [
    "for child in root:\n",
    "    print(child.attrib)"
   ]
  },
  {
   "cell_type": "code",
   "execution_count": 78,
   "metadata": {},
   "outputs": [
    {
     "data": {
      "text/plain": [
       "{'other_description': 'drawing animals on the whiteboard',\n",
       " '{http://nite.sourceforge.net/}id': 'ES2002a.topic.vkaraisk.3'}"
      ]
     },
     "execution_count": 78,
     "metadata": {},
     "output_type": "execute_result"
    }
   ],
   "source": [
    "root[2].attrib"
   ]
  },
  {
   "cell_type": "code",
   "execution_count": 68,
   "metadata": {},
   "outputs": [
    {
     "name": "stdout",
     "output_type": "stream",
     "text": [
      "{'role': 'scenario_topic_type', 'href': 'default-topics.xml#id(top.4)'}\n",
      "{'href': 'ES2002a.B.words.xml#id(ES2002a.B.words0)..id(ES2002a.B.words71)'}\n",
      "{'href': 'ES2002a.D.words.xml#id(ES2002a.D.words0)..id(ES2002a.D.words3)'}\n",
      "{'href': 'ES2002a.A.words.xml#id(ES2002a.A.words0)..id(ES2002a.A.words12)'}\n",
      "{'href': 'ES2002a.B.words.xml#id(ES2002a.B.words72)..id(ES2002a.B.words73)'}\n",
      "{'href': 'ES2002a.D.words.xml#id(ES2002a.D.words4)..id(ES2002a.D.words11)'}\n",
      "{'href': 'ES2002a.C.words.xml#id(ES2002a.C.words0)..id(ES2002a.C.words7)'}\n",
      "{'href': 'ES2002a.D.words.xml#id(ES2002a.D.words12)..id(ES2002a.D.words13)'}\n"
     ]
    }
   ],
   "source": [
    "for topic in root[0]:\n",
    "    print(topic.attrib)"
   ]
  }
 ],
 "metadata": {
  "kernelspec": {
   "display_name": "Python [conda env:5196]",
   "language": "python",
   "name": "conda-env-5196-py"
  },
  "language_info": {
   "codemirror_mode": {
    "name": "ipython",
    "version": 3
   },
   "file_extension": ".py",
   "mimetype": "text/x-python",
   "name": "python",
   "nbconvert_exporter": "python",
   "pygments_lexer": "ipython3",
   "version": "3.6.4"
  }
 },
 "nbformat": 4,
 "nbformat_minor": 2
}
