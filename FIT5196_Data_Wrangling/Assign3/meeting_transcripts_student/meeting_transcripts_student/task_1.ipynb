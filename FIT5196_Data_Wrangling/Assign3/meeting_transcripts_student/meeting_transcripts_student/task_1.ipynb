{
 "cells": [
  {
   "cell_type": "markdown",
   "metadata": {},
   "source": [
    "## Import library"
   ]
  },
  {
   "cell_type": "code",
   "execution_count": 1,
   "metadata": {},
   "outputs": [],
   "source": [
    "import xml.etree.ElementTree as ET\n",
    "import re\n",
    "from os import listdir"
   ]
  },
  {
   "cell_type": "markdown",
   "metadata": {},
   "source": [
    "below are the regexs needed for the parsing process:"
   ]
  },
  {
   "cell_type": "code",
   "execution_count": 2,
   "metadata": {},
   "outputs": [],
   "source": [
    "topic_files = listdir('./topics/')\n",
    "# The regex used to capture the words segements\n",
    "p_pattern = r'#id\\((\\w+\\.\\w\\.\\w+)\\)\\.{2}id\\((\\w+\\.\\w\\.\\w+)\\)'\n",
    "s_pattern = r'#id\\((\\w+\\.\\w\\.\\w+)\\)'\n",
    "two_pattern = r'#id\\((\\w+\\.\\w\\.\\w+?)(\\d+)\\)\\.{2}id\\((\\w+\\.\\w\\.\\w+?)(\\d+)\\)'\n",
    "one_pattern = r'#id\\((\\w+\\.\\w\\.\\w+?)(\\d+)\\)'\n",
    "no_pattern = '\\w+\\.\\w\\.\\w+?(\\d+)'\n",
    "name_space = {'nite':'http://nite.sourceforge.net/'}\n",
    "words_pattern = '(.+?)words'\n",
    "topic_pattern = '\\w+\\.?'"
   ]
  },
  {
   "cell_type": "markdown",
   "metadata": {},
   "source": [
    "## Scenario:\n",
    "- A linebreak after each < nite: child > tag of the topic files.\n",
    "- A linebreak after each segment.\n",
    "- 10 stars after each root topic .\n"
   ]
  },
  {
   "cell_type": "markdown",
   "metadata": {},
   "source": [
    "## The parsing process:\n",
    "The parsing process contains mainly three phases:\n",
    "1. Get the bounds of topics and < nite:child >, using \"./topics/*.xml\"\n",
    "2. Slicing each nite:child into segments, using \"./segments/*.xml\"\n",
    "3. Find exact word in word files and generate the txt files, using \"./words/*.xml\"\n",
    "\n",
    "The parsing method for one single transcript is implemented in the below:"
   ]
  },
  {
   "cell_type": "code",
   "execution_count": 3,
   "metadata": {},
   "outputs": [],
   "source": [
    "def parse_transcript(topic):\n",
    "    topic_tree = ET.parse(topic)\n",
    "    topic_root = topic_tree.getroot()\n",
    "    topic_name = re.match(topic_pattern,topic_root.attrib['{http://nite.sourceforge.net/}id']).group()\n",
    "    word_segments = []\n",
    "    #1. Get the bounds of topics and < nite:child \n",
    "    #get word segments without the paragraph bounds\n",
    "    for child in topic_root.findall('.//nite:child',name_space):\n",
    "        try:\n",
    "            word_segments.append(list(re.search(p_pattern,child.attrib['href']).groups()))\n",
    "        except:\n",
    "            word_segments.append(list(re.search(s_pattern,child.attrib['href']).groups()))\n",
    "    #get topic bounds\n",
    "    bounds = set()\n",
    "    for topic in topic_root.findall('topic'):\n",
    "        try:\n",
    "            matched = re.search(p_pattern,topic.findall('.//nite:child[last()]',name_space)[-1].attrib['href'])\n",
    "            bounds.add(matched.groups())\n",
    "        except:\n",
    "            matched = re.search(s_pattern,topic.findall('.//nite:child[last()]',name_space)[-1].attrib['href'])\n",
    "            bounds.add(matched.groups())        \n",
    "    #add topical bounds\n",
    "    for seg in word_segments:\n",
    "        if tuple(seg) in bounds:\n",
    "            seg.append(\"**********\")\n",
    "    #2. get paragraph bounds,using the segments.xml files as input\n",
    "    seg_file_pattern1 = r'\\w{7}\\.\\w\\.'\n",
    "    seg_file_pattern2 = r'\\w{6}\\.\\w\\.'\n",
    "    wseg_with_parapgraph = []\n",
    "    for seg in word_segments:\n",
    "        if len(seg) == 1:\n",
    "            wseg_with_parapgraph.append(seg)\n",
    "        else:# the length of segment is 2 or 3, both 2 and 3 can indicate its a topical boundary\n",
    "            try:\n",
    "                file_name = re.match(seg_file_pattern1, seg[0]).group(0) + \"segments.xml\"\n",
    "            except:\n",
    "                file_name = re.match(seg_file_pattern2, seg[0]).group(0) + \"segments.xml\"\n",
    "            tree =  ET.parse('./segments/'+file_name)\n",
    "            root = tree.getroot()\n",
    "            paras = []\n",
    "            op_no = int(re.search(no_pattern,seg[0]).group(1))\n",
    "            try:\n",
    "                ed_no = int(re.search(no_pattern,seg[1]).group(1))#get start and end number of word in the seg\n",
    "                for segment in root.findall('.//nite:child', name_space):#get paragraph bounds\n",
    "                    if op_no > int(re.search(one_pattern,segment.attrib['href']).group(2)):\n",
    "                        try:\n",
    "                            #if the seg is totally in the segment\n",
    "                            if ed_no < int(re.search(two_pattern,segment.attrib['href']).group(4)):\n",
    "                                paras.append(seg[0] + ',' + seg[1])\n",
    "                                break\n",
    "                            elif ed_no > int(re.search(two_pattern,segment.attrib['href']).group(4)):#ed_no > end word_no of the segment\n",
    "                                if op_no > int(re.search(two_pattern,segment.attrib['href']).group(4)):\n",
    "                                    pass\n",
    "                                elif op_no < int(re.search(two_pattern,segment.attrib['href']).group(4)):#op seg < end segment\n",
    "                                    paras.append(seg[0] + ',' + re.search(p_pattern,segment.attrib['href']).group(2))\n",
    "                                else:#end segment = op_no\n",
    "                                    paras.append(seg[0])\n",
    "                            else:#end_no = end segment\n",
    "                                paras.append(seg[0] + ',' + seg[1])\n",
    "                                break\n",
    "                        except:# the segment contains only one word,don't include\n",
    "                            pass\n",
    "                    elif op_no == int(re.search(one_pattern,segment.attrib['href']).group(2)):\n",
    "                        try:\n",
    "                            if ed_no == int(re.search(two_pattern,segment.attrib['href']).group(4)):\n",
    "                                paras.append(seg[0] + ',' + seg[1])\n",
    "                                break                       \n",
    "                            if ed_no > int(re.search(two_pattern,segment.attrib['href']).group(4)):#segment is totally in seg, add the whole segment\n",
    "                                paras.append(','.join(re.search(p_pattern, segment.attrib['href']).groups()))\n",
    "                            else:#end_no < end_segemnt,so we can call an end for this iteration  \n",
    "                                paras.append(seg[0] + ',' + seg[1])\n",
    "                                break               \n",
    "                        except:#only one word in the segment,and it equals op_no\n",
    "                            paras.append(seg[0])\n",
    "                    else:#op_no is < the op_segment,then 2 situations\n",
    "                        try:\n",
    "                            if ed_no <= int(re.search(two_pattern,segment.attrib['href']).group(4)):\n",
    "                                paras.append(re.search(s_pattern,segment.attrib['href']).group(1) + ',' + seg[1])\n",
    "                                break\n",
    "                            else:#ed_no > end segment\n",
    "                                paras.append(','.join(re.search(p_pattern, segment.attrib['href']).groups()))\n",
    "                        except:#only one word and is between interval of seg, add\n",
    "                            if int(re.search(one_pattern,segment.attrib['href']).group(2)) < ed_no:\n",
    "                                paras.append(re.search(s_pattern,segment.attrib['href']).group(1))\n",
    "                            elif int(re.search(one_pattern,segment.attrib['href']).group(2)) == ed_no:\n",
    "                                paras.append(seg[1])\n",
    "                                break\n",
    "                #if len(paras) == 0:\n",
    "                    #paras.append(seg[0] + ',' + seg[1])\n",
    "                if seg[-1] == '**********':\n",
    "                    paras.append('**********')\n",
    "                wseg_with_parapgraph.append(paras)                \n",
    "            except:#indicates that though of length 2, this seg is single plus \"***\"\n",
    "                wseg_with_parapgraph.append(seg)\n",
    "                \n",
    "    #3. start of writing txt process,using the words.xml files as input        \n",
    "    with open('./txt_files/'+ topic_name + 'txt','w') as f:\n",
    "        for e in wseg_with_parapgraph:\n",
    "            for s in e:\n",
    "                if s == '**********':\n",
    "                    f.write(s + '\\n')\n",
    "                else:   \n",
    "                    word_file = './words/'+ re.match(words_pattern,s).group() + '.xml'\n",
    "                    tree = ET.parse(word_file)\n",
    "                    root = tree.getroot()\n",
    "                    sentence = s.split(',')\n",
    "                    if len(sentence) == 1:# even single word sentence will be length of 2 here, 1 may mean vocal which can be dropped\n",
    "                        try:\n",
    "                            f.write(' ' + root.find('./w[@nite:id=\"{}\"]'.format(sentence[0]),name_space).text + '\\n')\n",
    "                        except:\n",
    "                            pass\n",
    "                    else:# length is 2, have start and end word\n",
    "                        start = sentence[0]\n",
    "                        end = sentence[1]\n",
    "                        no_word = 0\n",
    "                        begin = False\n",
    "                        for word in root.findall('*'):\n",
    "                            if begin:\n",
    "                                if word.text:\n",
    "                                    no_word += f.write(' ' + word.text) \n",
    "                                else:\n",
    "                                    pass\n",
    "                            if word.attrib['{http://nite.sourceforge.net/}id'] == start:\n",
    "                                begin = True                               \n",
    "                                if word.text:\n",
    "                                    no_word = f.write(' ' + word.text) \n",
    "                                else:\n",
    "                                    pass\n",
    "                            if word.attrib['{http://nite.sourceforge.net/}id'] == end:      \n",
    "                                if no_word:\n",
    "                                    f.write('\\n')\n",
    "                                break"
   ]
  },
  {
   "cell_type": "markdown",
   "metadata": {},
   "source": [
    "## Run the whole process"
   ]
  },
  {
   "cell_type": "code",
   "execution_count": 4,
   "metadata": {},
   "outputs": [
    {
     "name": "stdout",
     "output_type": "stream",
     "text": [
      "CPU times: user 7min 1s, sys: 2.42 s, total: 7min 4s\n",
      "Wall time: 7min 4s\n"
     ]
    }
   ],
   "source": [
    "%%time\n",
    "for file in sorted(topic_files):\n",
    "    file = './topics/' + file\n",
    "    parse_transcript(file)"
   ]
  },
  {
   "cell_type": "markdown",
   "metadata": {},
   "source": [
    "## Conclusion\n",
    "1. When using element tree for xml parsing, it needs close attention when facing sub-element\n",
    "2. Attension should be paid to xml with namesapce\n",
    "3. Re module is handy tool for extracting info from strings"
   ]
  }
 ],
 "metadata": {
  "kernelspec": {
   "display_name": "Python [conda env:5196]",
   "language": "python",
   "name": "conda-env-5196-py"
  },
  "language_info": {
   "codemirror_mode": {
    "name": "ipython",
    "version": 3
   },
   "file_extension": ".py",
   "mimetype": "text/x-python",
   "name": "python",
   "nbconvert_exporter": "python",
   "pygments_lexer": "ipython3",
   "version": "3.6.4"
  }
 },
 "nbformat": 4,
 "nbformat_minor": 2
}
