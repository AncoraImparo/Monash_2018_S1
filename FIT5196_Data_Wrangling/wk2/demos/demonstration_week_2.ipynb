{
 "cells": [
  {
   "cell_type": "markdown",
   "metadata": {},
   "source": [
    "# Week 2 demonstration\n",
    "\n",
    "\n",
    "The following scripts are used to demonstrate how regular expressions work in Python."
   ]
  },
  {
   "cell_type": "code",
   "execution_count": 1,
   "metadata": {},
   "outputs": [],
   "source": [
    "import re"
   ]
  },
  {
   "cell_type": "markdown",
   "metadata": {},
   "source": [
    "## group()"
   ]
  },
  {
   "cell_type": "code",
   "execution_count": 2,
   "metadata": {},
   "outputs": [],
   "source": [
    "test_string = \"Incident American Airlines Flight 11 involving a Boeing 767-223ER in 2001\""
   ]
  },
  {
   "cell_type": "code",
   "execution_count": 3,
   "metadata": {},
   "outputs": [],
   "source": [
    "mobject = re.search(r\"Incident (.*) involving\", test_string)"
   ]
  },
  {
   "cell_type": "code",
   "execution_count": 4,
   "metadata": {},
   "outputs": [
    {
     "data": {
      "text/plain": [
       "'Incident American Airlines Flight 11 involving'"
      ]
     },
     "execution_count": 4,
     "metadata": {},
     "output_type": "execute_result"
    }
   ],
   "source": [
    "mobject.group(0)"
   ]
  },
  {
   "cell_type": "code",
   "execution_count": 5,
   "metadata": {},
   "outputs": [
    {
     "data": {
      "text/plain": [
       "'American Airlines Flight 11'"
      ]
     },
     "execution_count": 5,
     "metadata": {},
     "output_type": "execute_result"
    }
   ],
   "source": [
    "mobject.group(1)"
   ]
  },
  {
   "cell_type": "code",
   "execution_count": 6,
   "metadata": {
    "collapsed": true
   },
   "outputs": [],
   "source": [
    "mobject1 = re.findall(r\"Incident (.*) involving\", test_string)"
   ]
  },
  {
   "cell_type": "code",
   "execution_count": 7,
   "metadata": {},
   "outputs": [
    {
     "data": {
      "text/plain": [
       "'American Airlines Flight 11'"
      ]
     },
     "execution_count": 7,
     "metadata": {},
     "output_type": "execute_result"
    }
   ],
   "source": [
    "mobject1[0]"
   ]
  },
  {
   "cell_type": "markdown",
   "metadata": {},
   "source": [
    "## Raw String"
   ]
  },
  {
   "cell_type": "code",
   "execution_count": 8,
   "metadata": {},
   "outputs": [
    {
     "data": {
      "text/plain": [
       "'\\\\section{Test the Python regular expressions}'"
      ]
     },
     "execution_count": 8,
     "metadata": {},
     "output_type": "execute_result"
    }
   ],
   "source": [
    "string1 = '\\section{Test the Python regular expressions}'\n",
    "string1"
   ]
  },
  {
   "cell_type": "code",
   "execution_count": 9,
   "metadata": {},
   "outputs": [
    {
     "data": {
      "text/plain": [
       "'\\\\\\\\section'"
      ]
     },
     "execution_count": 9,
     "metadata": {},
     "output_type": "execute_result"
    }
   ],
   "source": [
    "string2 = \"\\\\\\\\section\"\n",
    "string2"
   ]
  },
  {
   "cell_type": "code",
   "execution_count": 10,
   "metadata": {},
   "outputs": [
    {
     "name": "stdout",
     "output_type": "stream",
     "text": [
      "\\\\section\n"
     ]
    }
   ],
   "source": [
    "print string2"
   ]
  },
  {
   "cell_type": "code",
   "execution_count": 11,
   "metadata": {},
   "outputs": [
    {
     "data": {
      "text/plain": [
       "'\\\\section'"
      ]
     },
     "execution_count": 11,
     "metadata": {},
     "output_type": "execute_result"
    }
   ],
   "source": [
    "x = re.match(string2, string1)\n",
    "x.group(0)"
   ]
  },
  {
   "cell_type": "code",
   "execution_count": 12,
   "metadata": {},
   "outputs": [
    {
     "name": "stdout",
     "output_type": "stream",
     "text": [
      "\\section\n"
     ]
    }
   ],
   "source": [
    "print x.group(0)"
   ]
  },
  {
   "cell_type": "code",
   "execution_count": 13,
   "metadata": {},
   "outputs": [
    {
     "data": {
      "text/plain": [
       "'\\\\\\\\section'"
      ]
     },
     "execution_count": 13,
     "metadata": {},
     "output_type": "execute_result"
    }
   ],
   "source": [
    "string3 = r\"\\\\section\"\n",
    "string3"
   ]
  },
  {
   "cell_type": "code",
   "execution_count": 14,
   "metadata": {},
   "outputs": [
    {
     "data": {
      "text/plain": [
       "<_sre.SRE_Match at 0x10af50f38>"
      ]
     },
     "execution_count": 14,
     "metadata": {},
     "output_type": "execute_result"
    }
   ],
   "source": [
    "re.match(string3, string1)"
   ]
  },
  {
   "cell_type": "markdown",
   "metadata": {},
   "source": [
    "## Case study 1: develop regular expression for validating dates\n",
    "\n",
    "### Year \n",
    "Let's start with year.\n",
    "\n",
    "We assume that year can take the following two pattens\n",
    "1. Four-digit year, such as\n",
    "```\n",
    "    2016, 1999\n",
    "```\n",
    "2. Two-digit year, such as\n",
    "```\n",
    "    16, 99\n",
    "```\n"
   ]
  },
  {
   "cell_type": "code",
   "execution_count": 7,
   "metadata": {
    "collapsed": true
   },
   "outputs": [],
   "source": [
    "def year(pattern, m):\n",
    "    if re.match(pattern, m):\n",
    "         print m + \" is a year\"\n",
    "    else :\n",
    "        print m + \" is NOT a year\""
   ]
  },
  {
   "cell_type": "markdown",
   "metadata": {},
   "source": [
    "For the four-digit year, the regular expression is \n",
    "\n",
    "```python\n",
    "    r\"^\\d{4}$\"\n",
    "```"
   ]
  },
  {
   "cell_type": "code",
   "execution_count": 16,
   "metadata": {},
   "outputs": [
    {
     "name": "stdout",
     "output_type": "stream",
     "text": [
      "2016 is a year\n"
     ]
    }
   ],
   "source": [
    "year(r\"^\\d{4}$\", \"2016\")"
   ]
  },
  {
   "cell_type": "code",
   "execution_count": 17,
   "metadata": {},
   "outputs": [
    {
     "name": "stdout",
     "output_type": "stream",
     "text": [
      "1998 is a year\n"
     ]
    }
   ],
   "source": [
    "year(r\"^\\d{4}$\", \"1998\")"
   ]
  },
  {
   "cell_type": "markdown",
   "metadata": {},
   "source": [
    "For the two-digit year, the regular expression is \n",
    "```python\n",
    "    r\"^\\d{2}$\"\n",
    "```"
   ]
  },
  {
   "cell_type": "code",
   "execution_count": 18,
   "metadata": {},
   "outputs": [
    {
     "name": "stdout",
     "output_type": "stream",
     "text": [
      "16 is a year\n"
     ]
    }
   ],
   "source": [
    "year(r\"^\\d{2}$\", \"16\")"
   ]
  },
  {
   "cell_type": "code",
   "execution_count": 19,
   "metadata": {},
   "outputs": [
    {
     "name": "stdout",
     "output_type": "stream",
     "text": [
      "98 is a year\n"
     ]
    }
   ],
   "source": [
    "year(r\"^\\d{2}$\", \"98\")"
   ]
  },
  {
   "cell_type": "markdown",
   "metadata": {},
   "source": [
    "<font color = 'red' size=\"4\"> What is the regular expression for both pattens? </font>"
   ]
  },
  {
   "cell_type": "markdown",
   "metadata": {},
   "source": [
    "\n",
    "\n",
    "Actually, we can merge the two regular expression together by using the repetition character <font color = 'red'>?</font> as follows:\n",
    "```python\n",
    "    r\"(?:\\d{2})?\\d{2}\"\n",
    "```\n",
    "![day](./date0.jpg)\n"
   ]
  },
  {
   "cell_type": "code",
   "execution_count": 20,
   "metadata": {},
   "outputs": [
    {
     "name": "stdout",
     "output_type": "stream",
     "text": [
      "16 is a year\n"
     ]
    }
   ],
   "source": [
    "year(r\"^(?:\\d{2})?\\d{2}$\", \"16\")"
   ]
  },
  {
   "cell_type": "markdown",
   "metadata": {},
   "source": [
    "What does \"<font color='red'>(?: )</font>\" mean? \n",
    "\n",
    "\"<font color='red'>(?: )</font>\" indicates a non-capturing group, it matches whatever regular expression is inside the parentheses, but the substring matched by the group <font color='blue'>cannot be retrieved </font>. \n"
   ]
  },
  {
   "cell_type": "code",
   "execution_count": 21,
   "metadata": {},
   "outputs": [
    {
     "name": "stdout",
     "output_type": "stream",
     "text": [
      "()\n",
      "2016\n"
     ]
    }
   ],
   "source": [
    "obj = re.match(r\"^(?:\\d{2})?\\d{2}$\", \"2016\")\n",
    "print obj.groups()\n",
    "print obj.group(0)"
   ]
  },
  {
   "cell_type": "code",
   "execution_count": 22,
   "metadata": {},
   "outputs": [
    {
     "name": "stdout",
     "output_type": "stream",
     "text": [
      "('20',)\n",
      "2016\n",
      "20\n"
     ]
    }
   ],
   "source": [
    "obj = re.match(r\"^(\\d{2})?\\d{2}$\", \"2016\")\n",
    "print obj.groups()\n",
    "print obj.group(0)\n",
    "print obj.group(1)"
   ]
  },
  {
   "cell_type": "markdown",
   "metadata": {},
   "source": [
    "Therefore, the regular expression for either 4-digit or 2-digit year is\n",
    "```python\n",
    "    r\"^(?:\\d{2})?\\d{2}$\"\n",
    "```"
   ]
  },
  {
   "cell_type": "markdown",
   "metadata": {},
   "source": [
    "### Month\n",
    "\n",
    "Mow let's us consider month. There are twelve months a year, which are\n",
    "```\n",
    "    1, 2, 3, 4, 5, 6, 7, 8, 9\n",
    "    10, 11, 12\n",
    "```\n",
    "or \n",
    "```\n",
    "    01, 02, 03, 04, 05, 06, 07, 08, 09 \n",
    "    10, 11, 12 \n",
    "```\n"
   ]
  },
  {
   "cell_type": "code",
   "execution_count": 23,
   "metadata": {
    "collapsed": true
   },
   "outputs": [],
   "source": [
    "def month(pattern, m):\n",
    "    if re.match(pattern, m):\n",
    "         print m + \" is a month\"\n",
    "    else :\n",
    "        print m + \" is NOT a month\""
   ]
  },
  {
   "cell_type": "markdown",
   "metadata": {},
   "source": [
    "Firstly, assume they all have two digits, which means we have leading zeros for months from January to September."
   ]
  },
  {
   "cell_type": "code",
   "execution_count": 24,
   "metadata": {},
   "outputs": [
    {
     "name": "stdout",
     "output_type": "stream",
     "text": [
      "9 is NOT a month\n"
     ]
    }
   ],
   "source": [
    "month(r\"^\\d{2}$\", \"9\")"
   ]
  },
  {
   "cell_type": "code",
   "execution_count": 25,
   "metadata": {},
   "outputs": [
    {
     "name": "stdout",
     "output_type": "stream",
     "text": [
      "12 is a month\n"
     ]
    }
   ],
   "source": [
    "month(r\"^\\d{2}$\", \"12\")"
   ]
  },
  {
   "cell_type": "markdown",
   "metadata": {},
   "source": [
    "Now, assume that we allow the leading zeros to be omitted. "
   ]
  },
  {
   "cell_type": "code",
   "execution_count": 26,
   "metadata": {},
   "outputs": [
    {
     "name": "stdout",
     "output_type": "stream",
     "text": [
      "9 is a month\n"
     ]
    }
   ],
   "source": [
    "month(r\"^\\d?\\d$\", \"9\")"
   ]
  },
  {
   "cell_type": "markdown",
   "metadata": {},
   "source": [
    "<font color='red', size = '5'>What is the problem of this regular expression?</font>\n",
    "</br>\n",
    "\n",
    "\n",
    "\n"
   ]
  },
  {
   "cell_type": "code",
   "execution_count": 27,
   "metadata": {},
   "outputs": [
    {
     "name": "stdout",
     "output_type": "stream",
     "text": [
      "13 is a month\n"
     ]
    }
   ],
   "source": [
    "month(r\"^\\d?\\d$\", \"13\")"
   ]
  },
  {
   "cell_type": "code",
   "execution_count": 28,
   "metadata": {},
   "outputs": [
    {
     "name": "stdout",
     "output_type": "stream",
     "text": [
      "00 is a month\n"
     ]
    }
   ],
   "source": [
    "month(r\"^\\d?\\d$\", \"00\")"
   ]
  },
  {
   "cell_type": "markdown",
   "metadata": {},
   "source": [
    "```\n",
    "    01, 02, 03, 04, 05, 06, 07, 08, 09 \n",
    "    10, 11, 12 \n",
    "```\n",
    "\n",
    "As shown above, the first digit can be 0, 1\n",
    "```python\n",
    "    r\"(0?[1-9]|1[0-2])\"\n",
    "```\n",
    "![month](./date1.jpg)"
   ]
  },
  {
   "cell_type": "code",
   "execution_count": 29,
   "metadata": {},
   "outputs": [
    {
     "name": "stdout",
     "output_type": "stream",
     "text": [
      "10 is a month\n"
     ]
    }
   ],
   "source": [
    "month(r\"^(0?[1-9]|1[0-2])$\", \"10\")"
   ]
  },
  {
   "cell_type": "code",
   "execution_count": 30,
   "metadata": {},
   "outputs": [
    {
     "name": "stdout",
     "output_type": "stream",
     "text": [
      "00 is NOT a month\n"
     ]
    }
   ],
   "source": [
    "month(r\"^(0?[1-9]|1[0-2])$\", \"00\") ## try 00"
   ]
  },
  {
   "cell_type": "markdown",
   "metadata": {},
   "source": [
    "### Days \n",
    "\n",
    "What is the patten of days in a month? \n",
    "\n",
    "```\n",
    "        01, 02, 03, 04, 05, 06, 07, 08, 09\n",
    "    10, 11, 12, 13, 14, 15, 16, 17, 18, 19 \n",
    "    20, 21, 22, 23, 24, 25, 26, 27, 28, 29\n",
    "    30 31 \n",
    "```"
   ]
  },
  {
   "cell_type": "code",
   "execution_count": 31,
   "metadata": {
    "collapsed": true
   },
   "outputs": [],
   "source": [
    "def day(pattern, m):\n",
    "    if re.match(pattern, m):\n",
    "         print m + \" is a day\"\n",
    "    else :\n",
    "        print m + \" is NOT a day\""
   ]
  },
  {
   "cell_type": "markdown",
   "metadata": {},
   "source": [
    "If we assume that each month has 31 days, which is obviously not true. Making this assumption will simply the regular expression.\n",
    "\n",
    "The simplest regular expression is\n",
    "```python\n",
    "    r\"(\\d?\\d)\"\n",
    "```"
   ]
  },
  {
   "cell_type": "code",
   "execution_count": 32,
   "metadata": {},
   "outputs": [
    {
     "name": "stdout",
     "output_type": "stream",
     "text": [
      "1 is a day\n"
     ]
    }
   ],
   "source": [
    "day(r\"^(\\d?\\d)$\", \"1\")"
   ]
  },
  {
   "cell_type": "code",
   "execution_count": 33,
   "metadata": {},
   "outputs": [
    {
     "name": "stdout",
     "output_type": "stream",
     "text": [
      "21 is a day\n"
     ]
    }
   ],
   "source": [
    "day(r\"^(\\d?\\d)$\", \"21\")"
   ]
  },
  {
   "cell_type": "code",
   "execution_count": 34,
   "metadata": {},
   "outputs": [
    {
     "name": "stdout",
     "output_type": "stream",
     "text": [
      "32 is a day\n"
     ]
    }
   ],
   "source": [
    "day(r\"^(\\d?\\d)$\", \"32\")"
   ]
  },
  {
   "cell_type": "markdown",
   "metadata": {},
   "source": [
    "Oops! 32 is not a day in a month. \n",
    "\n",
    "Let's look at first 9 days that are\n",
    "```\n",
    "01, 02, 03, 04, 05, 06, 07, 08, 09\n",
    "```\n",
    "The patten is (assume leading zeros can be omitted):\n",
    "```python\n",
    "   0?[1-9]\n",
    "```\n",
    "Then, look at the following 20 days that are\n",
    "```\n",
    "    10, 11, 12, 13, 14, 15, 16, 17, 18, 19 \n",
    "    20, 21, 22, 23, 24, 25, 26, 27, 28, 29\n",
    "```\n",
    "The patten is:\n",
    "```python\n",
    "    [12][0-9]\n",
    "```\n",
    "Finally, the last two days are\n",
    "```\n",
    "    30, 31\n",
    "```\n",
    "The patten is\n",
    "```python\n",
    "    3[01]\n",
    "```\n",
    "Putting all together, we have\n",
    "```python\n",
    "    r\"(0?[1-9]|[12][0-9]|3[01])\"\n",
    "```\n",
    "![](./date2.jpg)"
   ]
  },
  {
   "cell_type": "code",
   "execution_count": 35,
   "metadata": {},
   "outputs": [
    {
     "name": "stdout",
     "output_type": "stream",
     "text": [
      "31 is a day\n"
     ]
    }
   ],
   "source": [
    "day(r\"(0[1-9]|[12][0-9]|3[01])\", \"31\")"
   ]
  },
  {
   "cell_type": "code",
   "execution_count": 36,
   "metadata": {},
   "outputs": [
    {
     "name": "stdout",
     "output_type": "stream",
     "text": [
      "00 is NOT a day\n"
     ]
    }
   ],
   "source": [
    "day(r\"(0[1-9]|[12][0-9]|3[01])\", \"00\")"
   ]
  },
  {
   "cell_type": "code",
   "execution_count": 37,
   "metadata": {},
   "outputs": [
    {
     "name": "stdout",
     "output_type": "stream",
     "text": [
      "33 is NOT a day\n"
     ]
    }
   ],
   "source": [
    "day(r\"(0[1-9]|[12][0-9]|3[01])\", \"33\")"
   ]
  },
  {
   "cell_type": "markdown",
   "metadata": {},
   "source": [
    "Finally, we have our regular expression for handling dates, which is\n",
    "```python\n",
    "    r\"(0[1-9]|[12][0-9]|3[01])[/-](0?[1-9]|1[0-2])[/-]((?:\\d{2})?\\d{2})\"\n",
    "```\n",
    "![](./date3.jpg)"
   ]
  },
  {
   "cell_type": "code",
   "execution_count": 38,
   "metadata": {
    "collapsed": true
   },
   "outputs": [],
   "source": [
    "def date(pattern, m):\n",
    "    if re.match(pattern, m):\n",
    "         print m + \" is a date\"\n",
    "    else :\n",
    "        print m + \" is NOT a date\""
   ]
  },
  {
   "cell_type": "code",
   "execution_count": 39,
   "metadata": {},
   "outputs": [
    {
     "name": "stdout",
     "output_type": "stream",
     "text": [
      "19-10-2019 is a date\n"
     ]
    }
   ],
   "source": [
    "date(r\"(0[1-9]|[12][0-9]|3[01])[/-](0?[1-9]|1[0-2])[/-]((?:\\d{2})?\\d{2})\", \"19-10-2019\")"
   ]
  },
  {
   "cell_type": "code",
   "execution_count": 40,
   "metadata": {},
   "outputs": [
    {
     "name": "stdout",
     "output_type": "stream",
     "text": [
      "19/10/2019 is a date\n"
     ]
    }
   ],
   "source": [
    "date(r\"(0[1-9]|[12][0-9]|3[01])[/-](0?[1-9]|1[0-2])[/-]((?:\\d{2})?\\d{2})\", \"19/10/2019\")"
   ]
  },
  {
   "cell_type": "code",
   "execution_count": 41,
   "metadata": {},
   "outputs": [
    {
     "name": "stdout",
     "output_type": "stream",
     "text": [
      "19/13/2019 is NOT a date\n"
     ]
    }
   ],
   "source": [
    "date(r\"(0[1-9]|[12][0-9]|3[01])[/-](0?[1-9]|1[0-2])[/-]((?:\\d{2})?\\d{2})\", \"19/13/2019\")"
   ]
  },
  {
   "cell_type": "markdown",
   "metadata": {},
   "source": [
    "<font color=\"red\" size = 4>Home work:</font> we have asssumed all the months in a year have 31 days, but the number of days in a month can be 28, 29, 30, 31. How can we refine the regular expression so that it can distinguish those months? (Note assume all years are a leap year, which means every Feburary has 29 days.)"
   ]
  },
  {
   "cell_type": "markdown",
   "metadata": {},
   "source": [
    "## Case study 2: validate credit card number"
   ]
  },
  {
   "cell_type": "code",
   "execution_count": 42,
   "metadata": {
    "collapsed": true
   },
   "outputs": [],
   "source": [
    "def isCreditCard(pattern, string):\n",
    "    if re.match(pattern, string):\n",
    "        print string + \" is a credit card nunmber!\"\n",
    "    else:\n",
    "        print string + \" is NOT a credit card number!\""
   ]
  },
  {
   "cell_type": "markdown",
   "metadata": {},
   "source": [
    "### Visa cards:\n",
    "\n",
    "The patten of visa card numbers:\n",
    "* 13 or 16 digits, starting with 4. \n",
    "\n",
    "Examples,\n",
    "* 4123456789012\n",
    "* 4123456789012345\n",
    "\n",
    "For 13-digit Visa card numbers, the regular expression should be\n",
    "```python\n",
    "    4\\d{12}\n",
    "```\n",
    "\n",
    "For 16-digit Visa car numbers, the regular expression should be\n",
    "```python\n",
    "    4\\d{15}\n",
    "```"
   ]
  },
  {
   "cell_type": "code",
   "execution_count": 43,
   "metadata": {},
   "outputs": [
    {
     "name": "stdout",
     "output_type": "stream",
     "text": [
      "4123456789012 is a credit card nunmber!\n"
     ]
    }
   ],
   "source": [
    "isCreditCard(r\"^4\\d{12}$\", \"4123456789012\")"
   ]
  },
  {
   "cell_type": "code",
   "execution_count": 44,
   "metadata": {},
   "outputs": [
    {
     "name": "stdout",
     "output_type": "stream",
     "text": [
      "4123456789012345 is NOT a credit card number!\n"
     ]
    }
   ],
   "source": [
    "isCreditCard(r\"^4\\d{12}$\", \"4123456789012345\")"
   ]
  },
  {
   "cell_type": "code",
   "execution_count": 45,
   "metadata": {},
   "outputs": [
    {
     "name": "stdout",
     "output_type": "stream",
     "text": [
      "4123456789012 is NOT a credit card number!\n"
     ]
    }
   ],
   "source": [
    "isCreditCard(r\"^4\\d{15}$\", \"4123456789012\")"
   ]
  },
  {
   "cell_type": "code",
   "execution_count": 46,
   "metadata": {},
   "outputs": [
    {
     "name": "stdout",
     "output_type": "stream",
     "text": [
      "4123456789012345 is a credit card nunmber!\n"
     ]
    }
   ],
   "source": [
    "isCreditCard(r\"^4\\d{15}$\", \"4123456789012345\")"
   ]
  },
  {
   "cell_type": "markdown",
   "metadata": {},
   "source": [
    "Now, we need to write one regular expression for validating visa card numbers.\n",
    "\n",
    "```python\n",
    "    4\\d{12}(?:\\d{3})?\n",
    "```\n",
    "![](./credit1.jpg)"
   ]
  },
  {
   "cell_type": "code",
   "execution_count": 47,
   "metadata": {},
   "outputs": [
    {
     "name": "stdout",
     "output_type": "stream",
     "text": [
      "4123456789012 is a credit card nunmber!\n"
     ]
    }
   ],
   "source": [
    "isCreditCard(r\"^4\\d{12}(?:\\d{3})?$\", \"4123456789012\")"
   ]
  },
  {
   "cell_type": "code",
   "execution_count": 48,
   "metadata": {},
   "outputs": [
    {
     "name": "stdout",
     "output_type": "stream",
     "text": [
      "4123456789012345 is a credit card nunmber!\n"
     ]
    }
   ],
   "source": [
    "isCreditCard(r\"^4\\d{12}(?:\\d{3})?$\", \"4123456789012345\")"
   ]
  },
  {
   "cell_type": "markdown",
   "metadata": {},
   "source": [
    "### MasterCard:\n",
    "the patten of master card numbers:\n",
    "\n",
    "* 16 digits, starting with 51 through 55.\n",
    "\n",
    "For example,\n",
    "\n",
    "* 5123456789012345\n",
    "* 5523456789012345"
   ]
  },
  {
   "cell_type": "markdown",
   "metadata": {},
   "source": [
    "the regular expression looks like\n",
    "```python\n",
    "5[1-5]\\d{14}\n",
    "```\n",
    "\n",
    "![](./credit2.jpg)"
   ]
  },
  {
   "cell_type": "code",
   "execution_count": 49,
   "metadata": {},
   "outputs": [
    {
     "name": "stdout",
     "output_type": "stream",
     "text": [
      "5123456789012345 is a credit card nunmber!\n"
     ]
    }
   ],
   "source": [
    "isCreditCard(r\"^5[1-5]\\d{14}$\", \"5123456789012345\")"
   ]
  },
  {
   "cell_type": "code",
   "execution_count": 50,
   "metadata": {},
   "outputs": [
    {
     "name": "stdout",
     "output_type": "stream",
     "text": [
      "5723456789012345 is NOT a credit card number!\n"
     ]
    }
   ],
   "source": [
    "isCreditCard(r\"^5[1-5]\\d{14}$\", \"5723456789012345\")"
   ]
  },
  {
   "cell_type": "markdown",
   "metadata": {
    "collapsed": true
   },
   "source": [
    "### American Express \n",
    "\n",
    "The patten of American Express car numbers:\n",
    "\n",
    "* 15 digits, starting with 34 or 37.\n",
    "\n",
    "For example, \n",
    "* 341234567890123\n",
    "* 371234567890123"
   ]
  },
  {
   "cell_type": "markdown",
   "metadata": {},
   "source": [
    "Now it should be easy to figure out the regular expression:\n",
    "```python\n",
    "    3[47]\\d{13}\n",
    "```"
   ]
  },
  {
   "cell_type": "code",
   "execution_count": 51,
   "metadata": {},
   "outputs": [
    {
     "name": "stdout",
     "output_type": "stream",
     "text": [
      "341234567890123 is a credit card nunmber!\n"
     ]
    }
   ],
   "source": [
    "isCreditCard(r\"3[47]\\d{13}\", \"341234567890123\")"
   ]
  },
  {
   "cell_type": "code",
   "execution_count": 52,
   "metadata": {},
   "outputs": [
    {
     "name": "stdout",
     "output_type": "stream",
     "text": [
      "371234567890123 is a credit card nunmber!\n"
     ]
    }
   ],
   "source": [
    "isCreditCard(r\"3[47]\\d{13}\", \"371234567890123\")"
   ]
  },
  {
   "cell_type": "code",
   "execution_count": 53,
   "metadata": {},
   "outputs": [
    {
     "name": "stdout",
     "output_type": "stream",
     "text": [
      "381234567890123 is NOT a credit card number!\n"
     ]
    }
   ],
   "source": [
    "isCreditCard(r\"3[47]\\d{13}\", \"381234567890123\")"
   ]
  },
  {
   "cell_type": "markdown",
   "metadata": {},
   "source": [
    "Now let's put the three regular expression togeather:\n",
    "```python\n",
    "    (?x)\n",
    "        4\\d{12}(?:\\d{3})? | # Visa\n",
    "        5[1-5]\\d{14} |      # Master\n",
    "        3[47]\\d{13}         # American Express \n",
    "```\n",
    "<font color='red'>(?x)</font> is a flag that indicates verbose regular expression."
   ]
  },
  {
   "cell_type": "code",
   "execution_count": 54,
   "metadata": {
    "collapsed": true
   },
   "outputs": [],
   "source": [
    "cardPattern = r'''(?x)\n",
    "        4\\d{12}(?:\\d{3})? | # Visa\n",
    "        5[1-5]\\d{14} |      # Master\n",
    "        3[47]\\d{13}         # American Express \n",
    "        '''"
   ]
  },
  {
   "cell_type": "code",
   "execution_count": 55,
   "metadata": {},
   "outputs": [
    {
     "name": "stdout",
     "output_type": "stream",
     "text": [
      "31234567890123 is NOT a credit card number!\n"
     ]
    }
   ],
   "source": [
    "isCreditCard(cardPattern, \"31234567890123\")"
   ]
  },
  {
   "cell_type": "code",
   "execution_count": null,
   "metadata": {
    "collapsed": true
   },
   "outputs": [],
   "source": []
  }
 ],
 "metadata": {
  "kernelspec": {
   "display_name": "Python [conda env:python2.7]",
   "language": "python",
   "name": "conda-env-python2.7-py"
  },
  "language_info": {
   "codemirror_mode": {
    "name": "ipython",
    "version": 2
   },
   "file_extension": ".py",
   "mimetype": "text/x-python",
   "name": "python",
   "nbconvert_exporter": "python",
   "pygments_lexer": "ipython2",
   "version": "2.7.14"
  }
 },
 "nbformat": 4,
 "nbformat_minor": 1
}
