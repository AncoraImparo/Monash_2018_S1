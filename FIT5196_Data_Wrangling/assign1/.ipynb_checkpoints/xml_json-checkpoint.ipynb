{
 "cells": [
  {
   "cell_type": "markdown",
   "metadata": {},
   "source": [
    "# FIT5196 Task 3 in Assessment 1\n",
    "#### Student Name: Boyu Zhang\n",
    "#### Student ID: 28491300\n",
    "\n",
    "Date: XX/XX/XXXX\n",
    "\n",
    "Version: 1.0\n",
    "\n",
    "Environment: Python 3.6 and Jupyter notebook\n",
    "\n",
    "Libraries used: please include the main libraries you used in your assignment here, e.g.:\n",
    "* re (for regular expression, included in Anaconda Python 3.6) \n",
    "* json (for import the data into json format file, included in Anaconda Python 3.6) \n"
   ]
  },
  {
   "cell_type": "markdown",
   "metadata": {},
   "source": [
    "## 1.  Import libraries "
   ]
  },
  {
   "cell_type": "code",
   "execution_count": 1,
   "metadata": {},
   "outputs": [],
   "source": [
    "# Code to import libraries as you need in this assessment, e.g.,\n",
    "import re\n",
    "import json"
   ]
  },
  {
   "cell_type": "markdown",
   "metadata": {
    "collapsed": true
   },
   "source": [
    "## 2. Parse XML File\n",
    "\n",
    "In this section, you can write your python scripts to parse the correspondiing file.\n",
    "You should \n",
    "* write proper notes for all code block in this notebook using the Markdown cells\n",
    "* provide proper comment in your scripts\n",
    "* run all cells to make sure scripts are runable. If the scripts cannot be run by the assessors, they will not be assessed and zero mark will be given to the task."
   ]
  },
  {
   "cell_type": "markdown",
   "metadata": {
    "collapsed": true
   },
   "source": [
    "### Load and explore source data"
   ]
  },
  {
   "cell_type": "code",
   "execution_count": 2,
   "metadata": {},
   "outputs": [],
   "source": [
    "#Initialize the outest structure which is a python dictionary\n",
    "sport = {}\n",
    "sport['thesaurus'] = []"
   ]
  },
  {
   "cell_type": "code",
   "execution_count": 3,
   "metadata": {},
   "outputs": [
    {
     "data": {
      "text/plain": [
       "{'thesaurus': []}"
      ]
     },
     "execution_count": 3,
     "metadata": {},
     "output_type": "execute_result"
    }
   ],
   "source": [
    "#choose data structure to contain the basic object in which case is each Term\n",
    "sport"
   ]
  },
  {
   "cell_type": "code",
   "execution_count": 4,
   "metadata": {},
   "outputs": [
    {
     "name": "stdout",
     "output_type": "stream",
     "text": [
      "['  <Term>\\n', '    <Title>.177 (4.5mm) Airgun</Title>\\n', '    <Description>The standard airgun calibre for international target shooting.</Description>\\n', '    <RelatedTerms>\\n', '      <Term>\\n', '        <Title>Shooting sport equipment</Title>\\n', '        <Relationship>Narrower Term</Relationship>\\n', '      </Term>\\n', '    </RelatedTerms>\\n']\n"
     ]
    }
   ],
   "source": [
    "# open the xml file and observer the patter of strings\n",
    "xml_file = './Input/australian-sport-thesaurus-student.xml'\n",
    "with open(xml_file) as f:\n",
    "    lines = f.readlines()\n",
    "    print(lines[2:11])"
   ]
  },
  {
   "cell_type": "markdown",
   "metadata": {},
   "source": [
    "### Find approach to extract elements and put them in proper data structure"
   ]
  },
  {
   "cell_type": "code",
   "execution_count": 5,
   "metadata": {},
   "outputs": [],
   "source": [
    "#devise regex patterns to match the boundary of each term object\n",
    "term_start = '\\s{2}<Term>\\n'\n",
    "term_end = '\\s{2}</Term>\\n'\n",
    "#devise a regex patter to capture the content of each element e.g 'Title','Description'\n",
    "p_element = '^\\s{4}<(\\w+)>(.+)</\\w+>'\n",
    "#design a regex patter to capture the 'Related terms' element which is spread in multi-lines\n",
    "relation_start = '\\s{4}<RelatedTerms>\\n'\n",
    "relation_end = '\\s{4}</RelatedTerms>\\n'\n",
    "# a regex pattern to identify the boundaries of each object in the RelatedTerms list\n",
    "inner_start = '\\s{6}<Term>\\n'\n",
    "inner_end = '\\s{6}</Term>\\n'"
   ]
  },
  {
   "cell_type": "code",
   "execution_count": 6,
   "metadata": {},
   "outputs": [],
   "source": [
    "\n",
    "#use a list to retain the strings of first term\n",
    "bounds  = []\n",
    "with open(xml_file) as f:\n",
    "    lines = f.readlines()\n",
    "    for i,line in enumerate(lines):\n",
    "        if re.match(term_start,line):\n",
    "            bound = []\n",
    "            bound.append(i)\n",
    "        if re.match(relation_start,line):\n",
    "            bound.append(i)\n",
    "            inner_bound = []\n",
    "        if re.match(inner_start,line):\n",
    "            inner_bound.append(i)\n",
    "        if re.match(inner_end,line):\n",
    "            inner_bound.append(i)\n",
    "        if re.match(relation_end,line):\n",
    "            bound.append(i)\n",
    "            bound.append(inner_bound)\n",
    "            #inner_bounds.append(inner_bound)\n",
    "        if re.match(term_end,line):\n",
    "            bound.append(i)\n",
    "            bounds.append(bound)\n",
    "   "
   ]
  },
  {
   "cell_type": "code",
   "execution_count": 12,
   "metadata": {},
   "outputs": [],
   "source": [
    "#devise a regex pattern to 'Title' and 'Relationship' element of the objects in the\n",
    "#RelatedTerms list\n",
    "r_element = '\\s{8}<(\\w+)>(.+)</\\w+>'"
   ]
  },
  {
   "cell_type": "code",
   "execution_count": 13,
   "metadata": {},
   "outputs": [],
   "source": [
    "#the full process:\n",
    "for bound in bounds:\n",
    "    term = {}\n",
    "    related_list = []\n",
    "    # capture the elements of each outer object\n",
    "    outer = lines[bound[0]:bound[1]]\n",
    "    for line in outer:\n",
    "        m = re.search(p_element,line)\n",
    "        try:\n",
    "            term[m.group(1)] = m.group(2)\n",
    "        except:\n",
    "            continue\n",
    "    \n",
    "    #skip the term if it has no related terms\n",
    "    if len(bound) == 2:\n",
    "        continue\n",
    "    inner = bound[3]\n",
    "    #capture element for objects inside the RelatedTerms list\n",
    "    for i in range(0,len(bound[3])-1,2):\n",
    "        inner_term = {}\n",
    "        for line in lines[inner[i]:inner[i+1]]:            \n",
    "            m = re.match(r_element,line)\n",
    "            try:\n",
    "                inner_term[m.group(1)] = m.group(2)\n",
    "            except:\n",
    "                continue\n",
    "        #add each inner object into the related-terms list\n",
    "        related_list.append(inner_term)\n",
    "    #add key-value pair for related terms    \n",
    "    term['RelatedTerms'] = related_list\n",
    "    #add each term object to the list\n",
    "    sport['thesaurus'].append(term)"
   ]
  },
  {
   "cell_type": "markdown",
   "metadata": {
    "collapsed": true
   },
   "source": [
    "### Output data"
   ]
  },
  {
   "cell_type": "code",
   "execution_count": 14,
   "metadata": {},
   "outputs": [],
   "source": [
    "json_file = './Output/sport.dat'#need to change extension to .dat to conform requirement\n",
    "with open(json_file,'w',encoding='utf-8') as f:\n",
    "    json.dump(sport,f)"
   ]
  },
  {
   "cell_type": "markdown",
   "metadata": {},
   "source": [
    "## 3. Summary\n",
    "Give a short summary of your work done above, such as your findings."
   ]
  },
  {
   "cell_type": "markdown",
   "metadata": {},
   "source": [
    "**Answer**: The different indentation level of XML appears to be quite helpful in finding the boundaries of objects and inner list of objects."
   ]
  }
 ],
 "metadata": {
  "kernelspec": {
   "display_name": "Python [conda env:5196]",
   "language": "python",
   "name": "conda-env-5196-py"
  },
  "language_info": {
   "codemirror_mode": {
    "name": "ipython",
    "version": 3
   },
   "file_extension": ".py",
   "mimetype": "text/x-python",
   "name": "python",
   "nbconvert_exporter": "python",
   "pygments_lexer": "ipython3",
   "version": "3.6.4"
  }
 },
 "nbformat": 4,
 "nbformat_minor": 1
}
