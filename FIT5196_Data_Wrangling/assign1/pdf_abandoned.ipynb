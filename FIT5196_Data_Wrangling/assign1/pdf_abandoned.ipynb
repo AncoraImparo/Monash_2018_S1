{
 "cells": [
  {
   "cell_type": "code",
   "execution_count": 51,
   "metadata": {},
   "outputs": [],
   "source": [
    "import pandas as pd\n",
    "from pdftables import get_tables\n",
    "import re"
   ]
  },
  {
   "cell_type": "code",
   "execution_count": 2,
   "metadata": {},
   "outputs": [],
   "source": [
    "pdfFile='./Input/health.pdf'\n",
    "pdfObj = open(pdfFile, 'rb')\n",
    "tables = get_tables(pdfObj)"
   ]
  },
  {
   "cell_type": "code",
   "execution_count": 3,
   "metadata": {},
   "outputs": [],
   "source": [
    "# exclude the headers to just include the country-records\n",
    "for table in  tables:\n",
    "    table[:] = table[5:]"
   ]
  },
  {
   "cell_type": "code",
   "execution_count": 4,
   "metadata": {},
   "outputs": [
    {
     "name": "stdout",
     "output_type": "stream",
     "text": [
      "['Afghanistan', '63', '89', '53', '3956', '33', '74', '73', '65', '60', '62', '39', '65', '65', '0', '65', '65', '62', '46', '63', '5', '26']\n",
      "['Albania', '91', '93', '90', '9898', '97', '99', '99', '98', '98', '96', '98', '98', '98', '0', '98', '92', '70x', '54x', '71x', '–', '–']\n",
      "['Algeria', '93', '95', '89', '8790', '82', '99', '96', '91', '91', '94', '96', '91', '91', '0', '61', '92', '66', '25', '–', '–', '–']\n",
      "['Andorra', '100', '100', '100', '100100', '100', '–', '99', '98', '98', '97', '90', '94', '98', '0', '92', '–', '–', '–', '–', '–', '–']\n",
      "['Angola', '41', '63', '23', '3962', '21', '58', '79', '64', '66', '49', '26', '64', '64', '53', '58', '78', '49', '43', '51', '22', '31']\n",
      ">>>>>>>\n",
      "['Finland', '100', '100', '100', '99', '9999', '–', '99', '92', '92', '94', '85', '0', '92', '84', '87', '–', '–', '–', '–', '–', '–']\n",
      "['France', '100', '100', '100', '99', '9999', '–', '99', '97', '97', '90', '79', '88', '96', '0', '91', '–', '–', '–', '–', '–', '–']\n",
      "['Gabon', '88', '92', '59', '41', '4232', '94', '83', '75', '74', '64', '0', '75', '75', '0', '0', '90', '68', '26', '67', '39', '36']\n",
      "['Gambia', '80', '88', '68', '42', '4635', '98', '99', '95', '95', '97', '79', '95', '95', '95', '95', '92', '68', '59', '65', '47', '69']\n",
      "['Georgia', '93', '98', '87', '85', '9573', '98', '97', '92', '92', '93', '85', '92', '92', '75', '75', '–', '74x', '40x', '–', '–', '–']\n",
      ">>>>>>>\n",
      "['Netherlands', '100', '100', '100', '9898', '100', '–', '98', '95', '95', '94', '91', '93', '95', '0', '94', '–', '–', '–', '–', '–', '–']\n",
      "['New Zealand', '100', '100', '100', '100100', '100', '–', '92', '92', '92', '92', '89', '92', '92', '66', '93', '–', '–', '–', '–', '–', '–']\n",
      "['Nicaragua', '82', '97', '61', '7686', '63', '98', '99', '98', '99', '99', '0', '98', '98', '98', '98', '85', '58x', '65', '–', '–', '–']\n",
      "['Niger', '46', '89', '36', '1344', '6', '77', '87', '67', '67', '74', '37', '67', '67', '61', '64', '85', '59', '41', '51', '20', '61']\n",
      "['Nigeria', '67', '82', '54', '3339', '27', '64', '64', '49', '49', '51', '0', '49', '49', '0', '26', '63', '35', '34', '66', '44', '69']\n",
      ">>>>>>>\n",
      "['Uganda397332', '192817938978', '82', '82', '0', '78', '78', '07887', '80', '4781', '62', '78']\n",
      "['Ukraine9897100', '969793754219', '56', '42', '31', '26', '47', '00–', '92', '59–', '–', '–']\n",
      "['United Arab Emirates100100100', '100100100999999', '99', '99', '99', '99', '99', '9299–', '–', '––', '–', '–']\n",
      "['United Kingdom100100100', '999999–9894', '94', '92', '89', '0', '94', '9092–', '–', '––', '–', '–']\n",
      "['United Republic of Tanzania507937', '243717999997', '93', '90', '71', '97', '97', '969690', '55', '4550', '54', '66']\n",
      ">>>>>>>\n"
     ]
    }
   ],
   "source": [
    "for table in tables:\n",
    "    for row in table[:5]:\n",
    "        print(row)\n",
    "    print('>>>>>>>')"
   ]
  },
  {
   "cell_type": "code",
   "execution_count": 15,
   "metadata": {},
   "outputs": [],
   "source": [
    "# function to generate the dict for DataFrame formation\n",
    "def add_to_dict(table,data):\n",
    "    for row in table:\n",
    "        if row[0] == 'SUMMARY':\n",
    "            break\n",
    "        if row[0] != '':\n",
    "            data[row[0]] = row[1:]\n"
   ]
  },
  {
   "cell_type": "code",
   "execution_count": 16,
   "metadata": {},
   "outputs": [],
   "source": [
    "data1 = dict()\n",
    "data2 = dict()\n",
    "for table in tables[:3]:\n",
    "    add_to_dict(table,data1)\n",
    "\n",
    "add_to_dict(tables[3],data2)"
   ]
  },
  {
   "cell_type": "markdown",
   "metadata": {},
   "source": [
    "**Better split all collumns first before store in DF!!**"
   ]
  },
  {
   "cell_type": "code",
   "execution_count": 28,
   "metadata": {},
   "outputs": [],
   "source": [
    "#create DataFrame for the first 3 pages and the fourth page\n",
    "df2 = pd.DataFrame(data2)\n",
    "df1 = pd.DataFrame(data1)\n",
    "df2 = df2.T\n",
    "df1 = df1.T\n",
    "df2 = df2.reset_index()\n",
    "df1 = df1.reset_index() \n",
    "df1.rename(columns={'index':\"Country Name\"}, inplace=True)\n",
    "df2.rename(columns={'index':\"Country Name\"}, inplace=True);"
   ]
  },
  {
   "cell_type": "code",
   "execution_count": 42,
   "metadata": {},
   "outputs": [
    {
     "data": {
      "text/plain": [
       "(188, 22)"
      ]
     },
     "execution_count": 42,
     "metadata": {},
     "output_type": "execute_result"
    }
   ],
   "source": [
    "df1.shape"
   ]
  },
  {
   "cell_type": "markdown",
   "metadata": {},
   "source": [
    "### to do:\n",
    "- split the two number in column **4 and 5**!\n",
    "可以先在list整理好再放进DF；\n",
    "新思路，不限是具体几个数字并在一起，遍历cell，每发现一个有效的最小单元就存一次。"
   ]
  },
  {
   "cell_type": "code",
   "execution_count": 44,
   "metadata": {},
   "outputs": [
    {
     "data": {
      "text/plain": [
       "(14, 12)"
      ]
     },
     "execution_count": 44,
     "metadata": {},
     "output_type": "execute_result"
    }
   ],
   "source": [
    "df2.shape\n"
   ]
  },
  {
   "cell_type": "code",
   "execution_count": 124,
   "metadata": {},
   "outputs": [
    {
     "data": {
      "text/plain": [
       "False    177\n",
       "True      11\n",
       "Name: 3, dtype: int64"
      ]
     },
     "execution_count": 124,
     "metadata": {},
     "output_type": "execute_result"
    }
   ],
   "source": [
    "df1.iloc[:,4].apply(lambda x: True if len(x)>4 else False).value_counts()"
   ]
  },
  {
   "cell_type": "code",
   "execution_count": 128,
   "metadata": {},
   "outputs": [
    {
     "data": {
      "text/plain": [
       "'100'"
      ]
     },
     "execution_count": 128,
     "metadata": {},
     "output_type": "execute_result"
    }
   ],
   "source": [
    "s = '100'\n",
    "p1 = '(\\d{2,3}?)(\\d+$)'\n",
    "p2 = '(\\d{3})(\\d+$)'\n",
    "p3 = '(\\d+)–'\n",
    "p4 = '\\d+'\n",
    "re.match(p4,s).group(0)"
   ]
  },
  {
   "cell_type": "code",
   "execution_count": null,
   "metadata": {},
   "outputs": [],
   "source": []
  }
 ],
 "metadata": {
  "kernelspec": {
   "display_name": "Python [conda env:5196]",
   "language": "python",
   "name": "conda-env-5196-py"
  },
  "language_info": {
   "codemirror_mode": {
    "name": "ipython",
    "version": 3
   },
   "file_extension": ".py",
   "mimetype": "text/x-python",
   "name": "python",
   "nbconvert_exporter": "python",
   "pygments_lexer": "ipython3",
   "version": "3.6.4"
  }
 },
 "nbformat": 4,
 "nbformat_minor": 2
}
