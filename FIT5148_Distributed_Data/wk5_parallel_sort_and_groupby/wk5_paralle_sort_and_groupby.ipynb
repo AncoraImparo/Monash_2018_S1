{
 "cells": [
  {
   "cell_type": "markdown",
   "metadata": {},
   "source": [
    "\n",
    "#### Dataset\n",
    "\n",
    "In this activity, we use the following dataset R consisting of numbers for simplicity. In the real world, each number indicates a record. R indicates our experimental entire record set that contains unordered numbers ranging from 1 to 16.\n"
   ]
  },
  {
   "cell_type": "code",
   "execution_count": 2,
   "metadata": {},
   "outputs": [],
   "source": [
    "R = [8, 12, 16, 4, 11, 15, 3, 7, 14, 2, 6, 10, 1, 5, 9, 13]"
   ]
  },
  {
   "cell_type": "markdown",
   "metadata": {},
   "source": [
    "\n",
    "**Quicksort Algorithm**\n",
    "\n",
    "Throughout this activity, as an internal sorting method, we will use the quicksort method. In internal sorting, sorting takes place totally within main memory. The data to be sorted is assumed to be small and fits into main memory. This sorting method will be commonly used in the serial/parallel external sorting methods below.\n"
   ]
  },
  {
   "cell_type": "code",
   "execution_count": null,
   "metadata": {},
   "outputs": [],
   "source": []
  }
 ],
 "metadata": {
  "kernelspec": {
   "display_name": "Python [conda env:5148]",
   "language": "python",
   "name": "conda-env-5148-py"
  },
  "language_info": {
   "codemirror_mode": {
    "name": "ipython",
    "version": 2
   },
   "file_extension": ".py",
   "mimetype": "text/x-python",
   "name": "python",
   "nbconvert_exporter": "python",
   "pygments_lexer": "ipython2",
   "version": "2.7.14"
  }
 },
 "nbformat": 4,
 "nbformat_minor": 2
}
