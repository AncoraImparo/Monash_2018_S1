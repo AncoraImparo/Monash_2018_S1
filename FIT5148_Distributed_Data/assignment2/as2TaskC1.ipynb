{
 "cells": [
  {
   "cell_type": "markdown",
   "metadata": {},
   "source": [
    "## A python stream generating application"
   ]
  },
  {
   "cell_type": "code",
   "execution_count": 1,
   "metadata": {},
   "outputs": [
    {
     "name": "stdout",
     "output_type": "stream",
     "text": [
      "0\n",
      "0\n"
     ]
    }
   ],
   "source": [
    "import time\n",
    "import csv\n",
    "import socket\n",
    "import uuid\n",
    "from multiprocessing import Process\n",
    "\n",
    "with open('./ClimateData-Part2.csv','r') as c2, open ('./FireData-Part2.csv','r') as f2:\n",
    "    climate_reader = csv.reader(c2)\n",
    "    fire_reader  = csv.reader(f2)\n",
    "    climate = []\n",
    "    fire  = []\n",
    "    for row in climate_reader:\n",
    "        climate.append(','.join(e.strip() for e in row) + '\\n ')\n",
    "    for line in fire_reader:\n",
    "        line.append(uuid.uuid1().hex)\n",
    "        fire.append(','.join(e.strip() for e in line) + '\\n')\n",
    "climate =  climate[1:]\n",
    "fire = fire[1:]  \n",
    "def generator(dataset):\n",
    "    for e in dataset:\n",
    "        yield e\n",
    "climate_genrator = generator(climate)\n",
    "fire_genrator = generator(fire)\n",
    "def generate_stream(dataset,port):\n",
    "    \"\"\"\n",
    "    The method that generate a stream sending to socket of the computer from a given dataset\n",
    "    -------\n",
    "    Parameters:\n",
    "    dataset ---the generator object of the dataset\n",
    "    port --- the usable port that the data stream can be sent through\n",
    "    \"\"\" \n",
    "    host = 'localhost'\n",
    "\n",
    "    s = socket.socket(socket.AF_INET, socket.SOCK_STREAM)\n",
    "\n",
    "    s.bind((host, port))\n",
    "    s.listen(1)\n",
    "    i = 0\n",
    "    while True:\n",
    "        try:\n",
    "            conn, addr = s.accept()\n",
    "            print(i)\n",
    "            i += 1\n",
    "            while True:\n",
    "                try:\n",
    "                    conn.send(next(dataset).encode())\n",
    "                    time.sleep(1)\n",
    "                except StopIteration:\n",
    "                    s.close()\n",
    "                    return\n",
    "        except socket.error: \n",
    "            pass\n",
    "    conn.close()\n",
    "    s.close()\n",
    "    return\n",
    "                \n",
    "\n",
    "if __name__ == '__main__':\n",
    "    #here we must open the two sockets using mp so that it will be openn at the same time\n",
    "    #otherwise the other port cannot be connected to pyspark DStream\n",
    "    p1 = Process(target=generate_stream, args=(climate_genrator,9999))\n",
    "    p2 = Process(target=generate_stream, args=(fire_genrator,8080))\n",
    "    p1.start()\n",
    "    p2.start()"
   ]
  },
  {
   "cell_type": "markdown",
   "metadata": {},
   "source": [
    "### Here we should implement mainly two functions:\n",
    "1. A method that can take 5 records and 1 record from both dataset per second\n",
    "2. Sent the retrieved data as text to "
   ]
  },
  {
   "cell_type": "code",
   "execution_count": 3,
   "metadata": {},
   "outputs": [],
   "source": [
    "from multiprocessing import Process"
   ]
  },
  {
   "cell_type": "code",
   "execution_count": null,
   "metadata": {},
   "outputs": [],
   "source": [
    "Process(cil)"
   ]
  },
  {
   "cell_type": "code",
   "execution_count": null,
   "metadata": {},
   "outputs": [],
   "source": [
    "with open('./ClimateData-Part2.csv','r') as c2, open ('./FireData-Part2.csv','r') as f2:\n",
    "    climate_reader = csv.reader(c2)\n",
    "    fire_reader  = csv.reader(f2)\n",
    "    climate = []\n",
    "    fire  = []\n",
    "    for row in climate_reader:\n",
    "        climate.append(','.join(e.strip() for e in row) + '\\n ')\n",
    "    for line in fire_reader:\n",
    "        line.append(uuid.uuid1().hex)\n",
    "        fire.append(','.join(e.strip() for e in line) + '\\n')\n",
    "\n"
   ]
  },
  {
   "cell_type": "code",
   "execution_count": null,
   "metadata": {},
   "outputs": [],
   "source": [
    "climate =  climate[1:]\n",
    "fire = fire[1:]"
   ]
  },
  {
   "cell_type": "code",
   "execution_count": null,
   "metadata": {},
   "outputs": [],
   "source": [
    "climate"
   ]
  },
  {
   "cell_type": "code",
   "execution_count": null,
   "metadata": {},
   "outputs": [],
   "source": [
    "def generator(dataset):\n",
    "    for e in dataset:\n",
    "        yield e\n",
    "c = generator(climate)\n",
    "f = generator(fire)"
   ]
  },
  {
   "cell_type": "code",
   "execution_count": null,
   "metadata": {},
   "outputs": [],
   "source": [
    "import socket\n",
    "import time\n",
    "\n",
    "host = 'localhost'\n",
    "port = 9999\n",
    "\n",
    "i = 0\n",
    "\n",
    "s = socket.socket(socket.AF_INET, socket.SOCK_STREAM)\n",
    "\n",
    "s.bind((host, port))\n",
    "s.listen(1)\n",
    "\n",
    "try:\n",
    "    while True:\n",
    "        conn, addr = s.accept()\n",
    "        try:\n",
    "            for j in range(10):\n",
    "                conn.send(next(c).encode())\n",
    "                i += 1\n",
    "                time.sleep(1)\n",
    "            conn.close()\n",
    "        except socket.error: pass\n",
    "finally:\n",
    "    s.close()\n",
    "\n"
   ]
  },
  {
   "cell_type": "code",
   "execution_count": null,
   "metadata": {},
   "outputs": [],
   "source": [
    "len(climate)"
   ]
  },
  {
   "cell_type": "code",
   "execution_count": null,
   "metadata": {},
   "outputs": [],
   "source": [
    "len(fire)//5 +1"
   ]
  },
  {
   "cell_type": "markdown",
   "metadata": {},
   "source": [
    "#### another question is that, everything send through socket is byte, is it possible that we reverse it back to list and retain its original information?\n",
    "- String willbe the easiest to encode and decode\n",
    "#### If we save each record just in a string sperated by \",\", then the encode and decode will be much easier"
   ]
  },
  {
   "cell_type": "code",
   "execution_count": null,
   "metadata": {},
   "outputs": [],
   "source": [
    "# list to json str\n",
    "t = json.dumps(next(a))"
   ]
  },
  {
   "cell_type": "code",
   "execution_count": null,
   "metadata": {},
   "outputs": [],
   "source": [
    "# json str to byte and back to json str\n",
    "t = t.encode()\n",
    "t.decode()"
   ]
  },
  {
   "cell_type": "code",
   "execution_count": null,
   "metadata": {},
   "outputs": [],
   "source": [
    "# load json str back to list\n",
    "json.loads(t)[0]"
   ]
  },
  {
   "cell_type": "code",
   "execution_count": null,
   "metadata": {},
   "outputs": [],
   "source": [
    "def generate_streams():\n",
    "    pass"
   ]
  },
  {
   "cell_type": "code",
   "execution_count": null,
   "metadata": {},
   "outputs": [],
   "source": [
    "import socket"
   ]
  },
  {
   "cell_type": "code",
   "execution_count": null,
   "metadata": {},
   "outputs": [],
   "source": [
    "import socket\n",
    "\n",
    "def netcat(host, port, content):\n",
    "    s = socket.socket(socket.AF_INET, socket.SOCK_STREAM)\n",
    "    s.connect((host, int(port)))\n",
    "    s.sendall(content.encode())\n",
    "    s.shutdown(socket.SHUT_WR)\n",
    "    while True:\n",
    "        data = s.recv(4096)\n",
    "        if not data:\n",
    "            break\n",
    "        print(repr(data))\n",
    "    s.close()"
   ]
  },
  {
   "cell_type": "code",
   "execution_count": null,
   "metadata": {},
   "outputs": [],
   "source": [
    "netcat('localhost',9999,'aa aa aa aaaa')"
   ]
  },
  {
   "cell_type": "code",
   "execution_count": null,
   "metadata": {},
   "outputs": [],
   "source": [
    "def a():\n",
    "    for e in range(3):\n",
    "        yield e"
   ]
  },
  {
   "cell_type": "code",
   "execution_count": null,
   "metadata": {},
   "outputs": [],
   "source": [
    "g =a()"
   ]
  },
  {
   "cell_type": "code",
   "execution_count": null,
   "metadata": {},
   "outputs": [],
   "source": [
    "while True:\n",
    "    try:\n",
    "        print(next(g))\n",
    "    except StopIteration:\n",
    "        print('done')\n",
    "        break\n",
    "    finally:\n",
    "        print('yes')\n"
   ]
  },
  {
   "cell_type": "markdown",
   "metadata": {},
   "source": [
    "### we need to create two socket connection for the two datasets to generate two streams"
   ]
  }
 ],
 "metadata": {
  "kernelspec": {
   "display_name": "Python [conda env:5148]",
   "language": "python",
   "name": "conda-env-5148-py"
  },
  "language_info": {
   "codemirror_mode": {
    "name": "ipython",
    "version": 3
   },
   "file_extension": ".py",
   "mimetype": "text/x-python",
   "name": "python",
   "nbconvert_exporter": "python",
   "pygments_lexer": "ipython3",
   "version": "3.6.5"
  }
 },
 "nbformat": 4,
 "nbformat_minor": 2
}
