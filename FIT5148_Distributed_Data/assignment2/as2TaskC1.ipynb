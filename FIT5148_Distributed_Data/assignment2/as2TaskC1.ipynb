{
 "cells": [
  {
   "cell_type": "markdown",
   "metadata": {},
   "source": [
    "## A python stream generating application"
   ]
  },
  {
   "cell_type": "code",
   "execution_count": 1,
   "metadata": {},
   "outputs": [],
   "source": [
    "import time\n",
    "import csv\n",
    "from socket import *"
   ]
  },
  {
   "cell_type": "markdown",
   "metadata": {},
   "source": [
    "### Here we should implement mainly two functions:\n",
    "1. A method that can take 5 records and 1 record from both dataset per second\n",
    "2. Sent the retrieved data as text to "
   ]
  },
  {
   "cell_type": "code",
   "execution_count": 2,
   "metadata": {},
   "outputs": [],
   "source": [
    "with open('./ClimateData-Part2.csv','r') as c2, open ('./FireData-Part2.csv','r') as f2:\n",
    "    climate = list(csv.reader(c2))[1:]\n",
    "    fire = list(csv.reader(f2))[1:]\n",
    "    "
   ]
  },
  {
   "cell_type": "code",
   "execution_count": 3,
   "metadata": {},
   "outputs": [],
   "source": [
    "def generate_streams():\n",
    "    pass"
   ]
  },
  {
   "cell_type": "code",
   "execution_count": 4,
   "metadata": {},
   "outputs": [
    {
     "data": {
      "text/plain": [
       "366"
      ]
     },
     "execution_count": 4,
     "metadata": {},
     "output_type": "execute_result"
    }
   ],
   "source": [
    "len(climate)"
   ]
  },
  {
   "cell_type": "code",
   "execution_count": 5,
   "metadata": {},
   "outputs": [
    {
     "data": {
      "text/plain": [
       "534"
      ]
     },
     "execution_count": 5,
     "metadata": {},
     "output_type": "execute_result"
    }
   ],
   "source": [
    "len(fire)//5 +1"
   ]
  },
  {
   "cell_type": "code",
   "execution_count": null,
   "metadata": {},
   "outputs": [],
   "source": [
    "def generator():\n",
    "    for i in range(533):\n",
    "        try:\n",
    "            yield fire[5*i:5*(i+1)], climate[i:i+1]\n",
    "        except:\n",
    "            yield fire[5*i:5*(i+1)]\n",
    "a = generator()"
   ]
  },
  {
   "cell_type": "markdown",
   "metadata": {},
   "source": [
    "#### another question is that, everything send through socket is byte, is it possible that we reverse it back to list and retain its original information?\n",
    "- The **Answer** is json!"
   ]
  },
  {
   "cell_type": "code",
   "execution_count": null,
   "metadata": {},
   "outputs": [],
   "source": [
    "import json"
   ]
  },
  {
   "cell_type": "code",
   "execution_count": null,
   "metadata": {},
   "outputs": [],
   "source": [
    "# list to json str\n",
    "t = json.dumps(next(a))"
   ]
  },
  {
   "cell_type": "code",
   "execution_count": null,
   "metadata": {},
   "outputs": [],
   "source": [
    "# json str to byte and back to json str\n",
    "t = t.encode()\n",
    "t.decode()"
   ]
  },
  {
   "cell_type": "code",
   "execution_count": null,
   "metadata": {},
   "outputs": [],
   "source": [
    "# load json str back to list\n",
    "json.loads(t)[0]"
   ]
  },
  {
   "cell_type": "code",
   "execution_count": null,
   "metadata": {},
   "outputs": [],
   "source": [
    "import socket"
   ]
  },
  {
   "cell_type": "code",
   "execution_count": null,
   "metadata": {},
   "outputs": [],
   "source": [
    "import socket\n",
    "\n",
    "def netcat(host, port, content):\n",
    "    s = socket.socket(socket.AF_INET, socket.SOCK_STREAM)\n",
    "    s.connect((host, int(port)))\n",
    "    s.sendall(content.encode())\n",
    "    s.shutdown(socket.SHUT_WR)\n",
    "    while True:\n",
    "        data = s.recv(4096)\n",
    "        if not data:\n",
    "            break\n",
    "        print(repr(data))\n",
    "    s.close()"
   ]
  },
  {
   "cell_type": "code",
   "execution_count": null,
   "metadata": {},
   "outputs": [],
   "source": [
    "netcat('localhost',9999,'aa aa aa aaaa')"
   ]
  },
  {
   "cell_type": "markdown",
   "metadata": {},
   "source": [
    "We need to write both a server and client? "
   ]
  },
  {
   "cell_type": "code",
   "execution_count": null,
   "metadata": {},
   "outputs": [],
   "source": [
    "import socket\n",
    "import time\n",
    "\n",
    "host = 'localhost'\n",
    "port = 9999\n",
    "\n",
    "i = 0\n",
    "\n",
    "s = socket.socket(socket.AF_INET, socket.SOCK_STREAM)\n",
    "\n",
    "s.bind((host, port))\n",
    "s.listen(1)\n",
    "\n",
    "try:\n",
    "    while True:\n",
    "        conn, addr = s.accept()\n",
    "        try:\n",
    "            for j in range(10):\n",
    "                conn.send(bytes(\"{}\\n\".format(i), \"utf-8\"))\n",
    "                i += 1\n",
    "                time.sleep(1)\n",
    "            conn.close()\n",
    "        except socket.error: pass\n",
    "finally:\n",
    "    s.close()\n",
    "\n"
   ]
  }
 ],
 "metadata": {
  "kernelspec": {
   "display_name": "Python [conda env:5148]",
   "language": "python",
   "name": "conda-env-5148-py"
  },
  "language_info": {
   "codemirror_mode": {
    "name": "ipython",
    "version": 3
   },
   "file_extension": ".py",
   "mimetype": "text/x-python",
   "name": "python",
   "nbconvert_exporter": "python",
   "pygments_lexer": "ipython3",
   "version": "3.6.5"
  }
 },
 "nbformat": 4,
 "nbformat_minor": 2
}
