{
 "cells": [
  {
   "cell_type": "markdown",
   "metadata": {},
   "source": [
    "# FIT5148 - Distributed Databases and Big Data\n",
    "\n",
    "# Assignment 1 - Solution Workbook\n",
    "\n",
    "\n",
    "**Instructions:**\n",
    "- You will be using Python 3.\n",
    "- Read the assignment instruction carefully and implement the algorithms in this workbook. \n",
    "- You can use the datasets fireData and climateData (provided below) if you are aiming for Credit Task.\n",
    "- For Distinction and High Distinction tasks, you are required to read the files FireData.csv and ClimateData.CSV provided with the assignment programatically and prepare the data in the correct format so that it can be used in your algorithm. \n",
    "- You can introduce new cells as necessary.\n",
    "\n",
    "**Your details**\n",
    "- Name: Boyu Zhang\n",
    "- Student ID:28491300 \n",
    "\n",
    "- Name:\n",
    "- Student ID:\n",
    "\n",
    "Let's get started!"
   ]
  },
  {
   "cell_type": "code",
   "execution_count": 1,
   "metadata": {},
   "outputs": [],
   "source": [
    "#import multiprocessing as mp\n",
    "import csv"
   ]
  },
  {
   "cell_type": "code",
   "execution_count": 2,
   "metadata": {},
   "outputs": [],
   "source": [
    "firePath = './data/FireData.csv'\n",
    "climatePath = './data/ClimateData.csv'\n"
   ]
  },
  {
   "cell_type": "code",
   "execution_count": 3,
   "metadata": {},
   "outputs": [],
   "source": [
    "def read_to_list(path):\n",
    "    with open(path,'r') as f:\n",
    "        reader = csv.reader(f)\n",
    "        return list(reader)\n"
   ]
  },
  {
   "cell_type": "code",
   "execution_count": 4,
   "metadata": {},
   "outputs": [],
   "source": [
    "climateData = read_to_list(climatePath)\n",
    "fireData = read_to_list(firePath)"
   ]
  },
  {
   "cell_type": "code",
   "execution_count": 6,
   "metadata": {},
   "outputs": [
    {
     "name": "stdout",
     "output_type": "stream",
     "text": [
      "total 140\r\n",
      "drwxrwxr-x 4 zby0902 zby0902   4096 Apr  1 11:58 .\r\n",
      "drwxrwxr-x 6 zby0902 zby0902   4096 Apr  1 11:44 ..\r\n",
      "-rw-rw-r-- 1 zby0902 zby0902   2397 Apr  1 11:58 Assignment1.ipynb\r\n",
      "drwxrwxr-x 2 zby0902 zby0902   4096 Mar 20 20:20 data\r\n",
      "-rwxrwxrwx 1 zby0902 zby0902 120551 Mar 12 18:30 FIT5148 - Assignment 1.pdf\r\n",
      "drwxrwxr-x 2 zby0902 zby0902   4096 Mar 20 20:23 .ipynb_checkpoints\r\n"
     ]
    }
   ],
   "source": [
    "!ls -la"
   ]
  },
  {
   "cell_type": "code",
   "execution_count": null,
   "metadata": {},
   "outputs": [],
   "source": []
  }
 ],
 "metadata": {
  "kernelspec": {
   "display_name": "Python [conda env:5148]",
   "language": "python",
   "name": "conda-env-5148-py"
  },
  "language_info": {
   "codemirror_mode": {
    "name": "ipython",
    "version": 2
   },
   "file_extension": ".py",
   "mimetype": "text/x-python",
   "name": "python",
   "nbconvert_exporter": "python",
   "pygments_lexer": "ipython2",
   "version": "2.7.14"
  }
 },
 "nbformat": 4,
 "nbformat_minor": 2
}
