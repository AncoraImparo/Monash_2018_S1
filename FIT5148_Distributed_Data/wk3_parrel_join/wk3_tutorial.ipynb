{
 "cells": [
  {
   "cell_type": "markdown",
   "metadata": {},
   "source": [
    "###  Data Set"
   ]
  },
  {
   "cell_type": "code",
   "execution_count": 1,
   "metadata": {},
   "outputs": [],
   "source": [
    "# R consists of 15 pairs, each comprising two attributes (nominal and numeric)\n",
    "R = [('Adele',8),('Bob',22),('Clement',16),('Dave',23),('Ed',11),\n",
    "     ('Fung',25),('Goel',3),('Harry',17),('Irene',14),('Joanna',2),\n",
    "     ('Kelly',6),('Lim',20),('Meng',1),('Noor',5),('Omar',19)]\n",
    "\n",
    "# S consists of 8 pairs, each comprising two attributes (nominal and numeric)\n",
    "S = [('Arts',8),('Business',15),('CompSc',2),('Dance',12),('Engineering',7),\n",
    "     ('Finance',21),('Geology',10),('Health',11),('IT',18)]"
   ]
  },
  {
   "cell_type": "markdown",
   "metadata": {},
   "source": [
    "\n",
    "### 1. Serial Join Algorithms\n",
    "\n",
    "Let's first understand serial join algorithms - join algorithms implemented in nonparallel machines. Parallel join algorithms adopt a data partitioning parallelism approach, whereby parallelism is achieved through data partitioning. That is, a join operation implemented on each processor would employ a serial join algorithm. In Section 2, we will learn more about parallel join algorithms.\n",
    "\n",
    "In this activity, we will consider the following three serial join algorithms:\n",
    "\n",
    "   - Nested-loop join algorithm,\n",
    "   - Sort-merge join algorithm,\n",
    "   - Hash-based join algorithm\n",
    "\n",
    "##### 1.1 Nested-Loop Join Algorithm\n",
    "\n",
    "Nested-loop join is the simplest form of join algorithm. For each record of the first table, it goes through all records of the second table. This is repeated for all records of the first table. It is called a nested loop because it consists of two levels of loops: inner loop (looping for the second table) and outer loop (looping for the first table).\n",
    "\n",
    "Exercise: Undertand and run the nested-loop join algorithm using the join attribute - the numeric attribute in two tables R and S. Then, discuss the time complexity of this algorithm as well as its pros and cons.\n"
   ]
  },
  {
   "cell_type": "code",
   "execution_count": 2,
   "metadata": {},
   "outputs": [],
   "source": [
    "def NL_join(T1, T2):\n",
    "    \"\"\"\n",
    "    Perform the nested-loop join algorithm.\n",
    "    The join attribute is the numeric attribute in the input tables T1 & T2\n",
    "\n",
    "    Arguments:\n",
    "    T1 & T2 -- Tables to be joined\n",
    "\n",
    "    Return:\n",
    "    result -- the joined table\n",
    "    \"\"\"\n",
    "    result = []\n",
    "    \n",
    "    for r1 in T1:\n",
    "        for r2 in T2:\n",
    "            if r1[1] == r2[1]:\n",
    "                result.append({\", \".join([r1[0], str(r1[1]), r2[0]])})\n",
    "    return result\n"
   ]
  },
  {
   "cell_type": "code",
   "execution_count": 3,
   "metadata": {},
   "outputs": [
    {
     "data": {
      "text/plain": [
       "[{'Adele, 8, Arts'}, {'Ed, 11, Health'}, {'Joanna, 2, CompSc'}]"
      ]
     },
     "execution_count": 3,
     "metadata": {},
     "output_type": "execute_result"
    }
   ],
   "source": [
    "NL_join(R,S)"
   ]
  },
  {
   "cell_type": "markdown",
   "metadata": {},
   "source": [
    "\n",
    "### 1.2 Sort-Merge Join Algorithm\n",
    "\n",
    "Sort-merge join is based on sorting and merging operations. The first step of joining is to sort the two tables based on the joining attribute in an ascending order, and the second step is merging the two sorted tables. If the value of the joining attribute in R is smaller than that in S, it skips to the next value of the joining attribute in R. On the other hand, if the value of the joining attribute in R is greater than that in S, it skips to the next value of the joining attribute in S. When the two values match, the two corresponding records are concatenated and placed into the query result.\n",
    "\n",
    "Exercise: Complete the sort-merge join algorithm based on the above definition by implementing the following code block between '### START CODE HERE ###' and '### END CODE HERE ###'. Discuss the time complexity of this algorithm in terms if its efficiency. Also, compare it with the nest-loop join algorithm.\n"
   ]
  },
  {
   "cell_type": "code",
   "execution_count": 4,
   "metadata": {},
   "outputs": [],
   "source": [
    "def SM_join(T1, T2):\n",
    "    \"\"\"\n",
    "    Perform the sort-merge join algorithm.\n",
    "    The join attribute is the numeric attribute in the input tables T1 & T2\n",
    "\n",
    "    Arguments:\n",
    "    T1 & T2 -- Tables to be joined\n",
    "\n",
    "    Return:\n",
    "    result -- the joined table\n",
    "    \"\"\"\n",
    "    result = []\n",
    "    \n",
    "    # sort T1 based on the join attribute\n",
    "    s_T1 = list(T1)\n",
    "    s_T1 = sorted(s_T1, key=lambda s_T1: s_T1[1])\n",
    "    \n",
    "    # sort T2 based on the join attribute\n",
    "    s_T2 = list(T2)\n",
    "    s_T2 = sorted(s_T2, key=lambda s_T2: s_T2[1])\n",
    "   \n",
    "    ### START CODE HERE ### \n",
    "    i = j = 0\n",
    "    while i < len(s_T1) and j < len(s_T2):#the original sample is inccorect which leads to later the missing of 8 Adele\n",
    "        r = s_T1[i][1]\n",
    "        s = s_T2[j][1]\n",
    "        # If join attribute s_T1(i) < join attribute s_T2(i)\n",
    "        if r < s:\n",
    "            i += 1\n",
    "        \n",
    "        # else \n",
    "        else:\n",
    "            if r == s:\n",
    "                result.append({', '.join([s_T1[i][0],str(s_T1[i][1]),s_T2[j][0]])})\n",
    "                i += 1\n",
    "                j += 1\n",
    "            # if join attribute s_T1(1) > join attribute s_T2(1)\n",
    "            # #---Implement here\n",
    "            \n",
    "            # else \n",
    "            else:\n",
    "                # put records s_T1(i) and s_T2(j) into the result and i++, j++\n",
    "                # #---Implement here\n",
    "                j += 1\n",
    "\n",
    "    ### END CODE HERE ###\n",
    "\n",
    "    return result\n"
   ]
  },
  {
   "cell_type": "code",
   "execution_count": 5,
   "metadata": {},
   "outputs": [
    {
     "data": {
      "text/plain": [
       "[{'Joanna, 2, CompSc'}, {'Adele, 8, Arts'}, {'Ed, 11, Health'}]"
      ]
     },
     "execution_count": 5,
     "metadata": {},
     "output_type": "execute_result"
    }
   ],
   "source": [
    "SM_join(R,S)"
   ]
  },
  {
   "cell_type": "markdown",
   "metadata": {},
   "source": [
    "\n",
    "### 1.3 Hash-Based Join Algorithm\n",
    "\n",
    "A hash-based join is basically made up of two processes: hashing and probing. A hash table is created by hashing all records of the first table using a particular hash function. Records from the second table are also hashed with the same hash function and probed. If any match is found, the two records are concatenated and placed in the query result.\n",
    "\n",
    "A decision must be made about which table is to be hashed and which table is to be probed. Since a hash table has to be created, it would be better to choose the smaller table for hashing and the larger table for probing.\n",
    "\n",
    "Exercise: Complete the hash-based join algorithm by implementing the following code block between '### START CODE HERE ###' and '### END CODE HERE ###'. Discuss the time complexity of this algorithm in terms if its efficiency. Also, compare it with the above two join algorithms.\n"
   ]
  },
  {
   "cell_type": "code",
   "execution_count": 6,
   "metadata": {},
   "outputs": [],
   "source": [
    "def H(r,n=2):\n",
    "    \"\"\"\n",
    "    We define a hash function 'H' that is used in the hashing process works \n",
    "    by summing the first and second digits of the hashed attribute, which\n",
    "    in this case is the join attribute. \n",
    "    \n",
    "    Arguments:\n",
    "    r -- a record where hashing will be applied on its join attribute\n",
    "\n",
    "    Return:\n",
    "    result -- the hash index of the record r\n",
    "    \"\"\"\n",
    "    #digits = [int(d) for d in str(r[1])] is not valid according to the decription of the method which assume the index\n",
    "    #has no more than 2 digits\n",
    "    digits = []\n",
    "    digits = [int(d) for d in str(r[1])[:n]]\n",
    "    return sum(digits)"
   ]
  },
  {
   "cell_type": "code",
   "execution_count": 7,
   "metadata": {},
   "outputs": [
    {
     "data": {
      "text/plain": [
       "8"
      ]
     },
     "execution_count": 7,
     "metadata": {},
     "output_type": "execute_result"
    }
   ],
   "source": [
    "H(R[0])"
   ]
  },
  {
   "cell_type": "code",
   "execution_count": 8,
   "metadata": {},
   "outputs": [],
   "source": [
    "def HB_join(T1, T2):\n",
    "    \"\"\"\n",
    "    Perform the hash-based join algorithm.\n",
    "    The join attribute is the numeric attribute in the input tables T1 & T2\n",
    "\n",
    "    Arguments:\n",
    "    T1 & T2 -- Tables to be joined\n",
    "\n",
    "    Return:\n",
    "    result -- the joined table\n",
    "    \"\"\"\n",
    "    result = []\n",
    "    dic = {}\n",
    "    \n",
    "    for s in T1:\n",
    "        s_key = H(s)\n",
    "        if s_key not in dic:\n",
    "            dic[s_key] = {s}\n",
    "        else:\n",
    "            dic[s_key].add(s)\n",
    "\n",
    "    for r in T2:\n",
    "        r_key = H(r)\n",
    "        if r_key in dic:\n",
    "            for s in dic[r_key]:\n",
    "                if r[1] == s[1]:\n",
    "                    joint = {\", \".join([s[0],str(s[1]),r[0]])}\n",
    "                    result.append(joint)\n",
    "    return result\n"
   ]
  },
  {
   "cell_type": "code",
   "execution_count": 9,
   "metadata": {},
   "outputs": [
    {
     "data": {
      "text/plain": [
       "[{'Adele, 8, Arts'}, {'Joanna, 2, CompSc'}, {'Ed, 11, Health'}]"
      ]
     },
     "execution_count": 9,
     "metadata": {},
     "output_type": "execute_result"
    }
   ],
   "source": [
    "HB_join(R,S)"
   ]
  },
  {
   "cell_type": "markdown",
   "metadata": {},
   "source": [
    "\n",
    "### 2 Parallel Join Algorithms\n",
    "\n",
    "Parallelism of join queries is achieved through data parallelism, whereby the same task is applied to different parts of the data. That is, after data partitioning has been completed, each processor will have its own data to work with. Thus, each processor will apply any serial join algorithm. Once this is carried out in each processor, the final results of the join operation are consolidated from the results obtained from different processors.\n",
    "\n",
    "We now look into the following two parallel join algorithms:\n",
    "\n",
    "   - Divide and Broadcast-Based Parallel Join Algorithms\n",
    "   - Disjoint Partitioning-Based Parallel Join Algorithms\n",
    "\n",
    "#### 2.1 Divide and Broadcast-Based Parallel Join Algorithms\n",
    "\n",
    "These algorithms consist of two stages: (1) data partitioning using the divide and broadcast method and (2) a local join.\n",
    "\n",
    "The divide and broadcast data partitioning method consists of dividing one table into multiple disjoint partitions, where each partition is allocated a processor, and broadcasts the other table to all available processors. Dividing one table may be done simply by using equal division, so that each partition will have the same size, whereas broadcasting is actually replicating the content of the second table to all processors. Thus it is preferable for the smaller table to be broadcast and the larger table to be divided.\n",
    "\n",
    "Exercise: Understand how a divide and broadcast-based parallel join algorithms works given the tables R and S above. We assume that the hash-based join algorithm (i.e. HB_join(.)) are used (see the above) and the round-robin data partitioning function that designed for \"Parallel Search\" acitivity (i.e. see below: rr_partition(.)) is used to implement this parallel join algorithm. Also, we assume that we use a shared-memory architecture is used, so there is no replication of the broadcast table S.\n"
   ]
  },
  {
   "cell_type": "code",
   "execution_count": 10,
   "metadata": {},
   "outputs": [],
   "source": [
    "# Round-robin data partitionining function\n",
    "def rr_partition(data, n):\n",
    "    \"\"\"\n",
    "    Perform data partitioning on data\n",
    "\n",
    "    Arguments:\n",
    "    data -- an input dataset which is a list\n",
    "    n -- the number of processors\n",
    "\n",
    "    Return:\n",
    "    result -- the paritioned subsets of D\n",
    "    \"\"\"\n",
    "    result = []\n",
    "    #use a list of lists, each inner list is a partiton of the dataset\n",
    "    for i in range(n):\n",
    "        result.append([])\n",
    "    \n",
    "    ### START CODE HERE ### \n",
    "    \n",
    "    # Calculate the number of the elements to be allocated to each bin\n",
    "    n_bin = len(data)/n\n",
    "    \n",
    "    # For each bin, perform the following\n",
    "    for index, element in enumerate(data): \n",
    "        # Calculate the index of the bin that the current data point will be assigned\n",
    "        index_bin = (int) (index % n)\n",
    "        #print(str(index) + \":\" + str(element))\n",
    "        result[index_bin].append(element)\n",
    "    ### END CODE HERE ###\n",
    "    \n",
    "    return result"
   ]
  },
  {
   "cell_type": "code",
   "execution_count": 11,
   "metadata": {},
   "outputs": [
    {
     "data": {
      "text/plain": [
       "[[('Adele', 8), ('Dave', 23), ('Goel', 3), ('Joanna', 2), ('Meng', 1)],\n",
       " [('Bob', 22), ('Ed', 11), ('Harry', 17), ('Kelly', 6), ('Noor', 5)],\n",
       " [('Clement', 16), ('Fung', 25), ('Irene', 14), ('Lim', 20), ('Omar', 19)]]"
      ]
     },
     "execution_count": 11,
     "metadata": {},
     "output_type": "execute_result"
    }
   ],
   "source": [
    "rr_partition(R,3)"
   ]
  },
  {
   "cell_type": "code",
   "execution_count": 12,
   "metadata": {},
   "outputs": [],
   "source": [
    "import multiprocessing as mp\n",
    "def DDP_join(T1, T2, n_processor):\n",
    "    \"\"\"\n",
    "    Perform a divide and broadcast-based parallel join algorithms.\n",
    "    The join attribute is the numeric attribute in the input tables T1 & T2\n",
    "\n",
    "    Arguments:\n",
    "    T1 & T2 -- Tables to be joined\n",
    "    n_processor -- the number of parallel processors\n",
    "\n",
    "    Return:\n",
    "    result -- the joined table\n",
    "    \"\"\"\n",
    "    \n",
    "    result = []\n",
    "    \n",
    "    T1_subsets = rr_partition(T1,n_processor)\n",
    "    pool = mp.Pool(processes=n_processor)\n",
    "    \n",
    "    for t1 in T1_subsets:\n",
    "        result.append(pool.apply(HB_join,[t1,T2]))\n",
    "    return result"
   ]
  },
  {
   "cell_type": "code",
   "execution_count": 13,
   "metadata": {},
   "outputs": [
    {
     "data": {
      "text/plain": [
       "[[{'Adele, 8, Arts'}, {'Ed, 11, Health'}], [{'Joanna, 2, CompSc'}], [], []]"
      ]
     },
     "execution_count": 13,
     "metadata": {},
     "output_type": "execute_result"
    }
   ],
   "source": [
    "DDP_join(R,S,4)"
   ]
  },
  {
   "cell_type": "markdown",
   "metadata": {},
   "source": [
    "\n",
    "### 2.2 Disjoint Partitioning-Based Parallel Join Algorithms\n",
    "\n",
    "These algorithms also consist of two stages: a data partitioning stage using a disjoint partitioning and a local join. For the data partitioning, a disjoint partitioning, such as range partitioning or hash partitioning, may be used.\n",
    "\n",
    "Exercise: Complete the following a disjoint partitioning-based parallel join algorithm.\n",
    "\n",
    "Use all the three serial join algorithms above, and see whether the joined results are the **```same or not```**:\n",
    "\n",
    "   - **Nested-loop join algorithm**\n",
    "   - **Sort-merge join algorithm**\n",
    "   - **Hash-based join algorithm**\n",
    "\n",
    "As a data partitioning method, use the range partitioninig method that we provided for \"Parallel Search\" acitivity (i.e. range_partition(.)). Assume that we have 3 parallel processors, processor 1 will get records with join attribute value between 1 and 9, processor 2 between 10 and 19, and processor 3 between 20 and 29. Note that you need to modify this function in the way that it partitions the table on the join attribute.\n",
    "\n",
    "**`Note that both tables R and S need to be partitioned based on the join attribute with the same range partitioning function.`**\n"
   ]
  },
  {
   "cell_type": "code",
   "execution_count": 14,
   "metadata": {},
   "outputs": [],
   "source": [
    "# Range data partitionining function (Need to modify as instructed above)\n",
    "def range_partition(data, range_indices):\n",
    "    \"\"\"\n",
    "    Perform range data partitioning on data based on the join attribute\n",
    "\n",
    "    Arguments:\n",
    "    data -- an input dataset which is a list\n",
    "    range_indices -- the index list of ranges to be split\n",
    "\n",
    "    Return:\n",
    "    result -- the paritioned subsets of D\n",
    "    \"\"\"\n",
    "    result = []\n",
    "    #try using generator to just search the who dataset once without needing to slice\n",
    "    def new_data():\n",
    "        for x in sorted(data,key= lambda x: x[1]):\n",
    "            yield x\n",
    "    dataSet = new_data()\n",
    "    \n",
    "    #number of bins -1\n",
    "    n = len(range_indices) + 1\n",
    "    s =[]\n",
    "    for j in range(n):\n",
    "        s.append([])\n",
    "    for i in range(n-1):\n",
    "        for x in dataSet:\n",
    "            if x[1] >= range_indices[i]:\n",
    "                s[i+1].append(x)\n",
    "                break\n",
    "            s[i].append(x)\n",
    "        result.append(s[i])\n",
    "    s_last = s[n-1] + ([x for x in dataSet])\n",
    "    result.append(s_last)\n",
    "    return result"
   ]
  },
  {
   "cell_type": "code",
   "execution_count": 15,
   "metadata": {},
   "outputs": [
    {
     "data": {
      "text/plain": [
       "[[('Meng', 1),\n",
       "  ('Joanna', 2),\n",
       "  ('Goel', 3),\n",
       "  ('Noor', 5),\n",
       "  ('Kelly', 6),\n",
       "  ('Adele', 8)],\n",
       " [('Ed', 11), ('Irene', 14), ('Clement', 16), ('Harry', 17), ('Omar', 19)],\n",
       " [('Lim', 20), ('Bob', 22), ('Dave', 23), ('Fung', 25)]]"
      ]
     },
     "execution_count": 15,
     "metadata": {},
     "output_type": "execute_result"
    }
   ],
   "source": [
    "range_partition(R, [10, 20])"
   ]
  },
  {
   "cell_type": "code",
   "execution_count": 16,
   "metadata": {},
   "outputs": [
    {
     "data": {
      "text/plain": [
       "[[('CompSc', 2), ('Engineering', 7), ('Arts', 8)],\n",
       " [('Geology', 10),\n",
       "  ('Health', 11),\n",
       "  ('Dance', 12),\n",
       "  ('Business', 15),\n",
       "  ('IT', 18)],\n",
       " [('Finance', 21)]]"
      ]
     },
     "execution_count": 16,
     "metadata": {},
     "output_type": "execute_result"
    }
   ],
   "source": [
    "range_partition(S, [10, 20])"
   ]
  },
  {
   "cell_type": "code",
   "execution_count": 17,
   "metadata": {},
   "outputs": [],
   "source": [
    "def DPBP_join(T1, T2, n_processor,join_type):\n",
    "    \"\"\"\n",
    "    Perform a disjoint partitioning-based parallel join algorithm.\n",
    "    The join attribute is the numeric attribute in the input tables T1 & T2\n",
    "\n",
    "    Arguments:\n",
    "    T1 & T2 -- Tables to be joined\n",
    "    n_processor -- the number of parallel processors\n",
    "\n",
    "    Return:\n",
    "    result -- the joined table\n",
    "    \"\"\"\n",
    "    \n",
    "    result = []\n",
    "    \n",
    "    ### START CODE HERE ### \n",
    "    pool = mp.Pool(processes=n_processor)\n",
    "    #--- Implement the algorithm\n",
    "\n",
    "    # !!Partition T1 & T2 into sub-tables using range_partition().\n",
    "    # The number of the sub-tables must be the equal to the n_processor\n",
    "    T1_subsets = range_partition(T1,[10,20])\n",
    "    T2_subsets = range_partition(T2,[10,20])\n",
    "    # Apply local join for each processor\n",
    "    for i in range(n_processor):\n",
    "        result.append(pool.apply(join_type,[T1_subsets[i],T2_subsets[i]]))\n",
    "    ### END CODE HERE ###\n",
    "    \n",
    "    return result"
   ]
  },
  {
   "cell_type": "code",
   "execution_count": 18,
   "metadata": {},
   "outputs": [
    {
     "name": "stdout",
     "output_type": "stream",
     "text": [
      "([[set(['Joanna, 2, CompSc']), set(['Adele, 8, Arts'])], [set(['Ed, 11, Health'])], []], 'Sort_merge_join')\n",
      "([[set(['Joanna, 2, CompSc']), set(['Adele, 8, Arts'])], [set(['Ed, 11, Health'])], []], 'Hash_based_join')\n",
      "([[set(['Joanna, 2, CompSc']), set(['Adele, 8, Arts'])], [set(['Ed, 11, Health'])], []], 'Nested_loop_join')\n"
     ]
    }
   ],
   "source": [
    "#test output of all three local join methods\n",
    "a = DPBP_join(R,S,3,SM_join)\n",
    "b = DPBP_join(R,S,3,HB_join)\n",
    "c = DPBP_join(R,S,3,NL_join)\n",
    "print(a,\"Sort_merge_join\")\n",
    "print(a,\"Hash_based_join\")\n",
    "print(a,\"Nested_loop_join\")"
   ]
  },
  {
   "cell_type": "markdown",
   "metadata": {},
   "source": [
    "### Test of inner function and generator (which can remember its formmer state when temporaryly exit the fution)"
   ]
  },
  {
   "cell_type": "code",
   "execution_count": 19,
   "metadata": {},
   "outputs": [],
   "source": [
    "def x(anumber):\n",
    "    def a():\n",
    "        print(anumber)\n",
    "    a()"
   ]
  },
  {
   "cell_type": "code",
   "execution_count": 20,
   "metadata": {},
   "outputs": [],
   "source": [
    "def gen(aList):\n",
    "    for x in aList:\n",
    "        yield x"
   ]
  },
  {
   "cell_type": "code",
   "execution_count": 21,
   "metadata": {},
   "outputs": [],
   "source": [
    "a =gen([1,2,3])"
   ]
  },
  {
   "cell_type": "code",
   "execution_count": 22,
   "metadata": {},
   "outputs": [],
   "source": [
    "r = []\n",
    "r.append([x for x in a])"
   ]
  },
  {
   "cell_type": "code",
   "execution_count": 23,
   "metadata": {},
   "outputs": [
    {
     "data": {
      "text/plain": [
       "[[1, 2, 3]]"
      ]
     },
     "execution_count": 23,
     "metadata": {},
     "output_type": "execute_result"
    }
   ],
   "source": [
    "r"
   ]
  },
  {
   "cell_type": "code",
   "execution_count": 24,
   "metadata": {},
   "outputs": [],
   "source": [
    "def x():\n",
    "    for a in [1,2,3,4,5]:\n",
    "        if a%2 == 0:\n",
    "            yield a\n",
    "            "
   ]
  },
  {
   "cell_type": "code",
   "execution_count": 25,
   "metadata": {},
   "outputs": [],
   "source": [
    "n = x()"
   ]
  },
  {
   "cell_type": "code",
   "execution_count": 26,
   "metadata": {},
   "outputs": [
    {
     "name": "stdout",
     "output_type": "stream",
     "text": [
      "2\n",
      "4\n"
     ]
    }
   ],
   "source": [
    "for a in n:\n",
    "    print(a)"
   ]
  },
  {
   "cell_type": "code",
   "execution_count": null,
   "metadata": {},
   "outputs": [],
   "source": []
  },
  {
   "cell_type": "code",
   "execution_count": null,
   "metadata": {},
   "outputs": [],
   "source": []
  }
 ],
 "metadata": {
  "kernelspec": {
   "display_name": "Python [conda env:5148]",
   "language": "python",
   "name": "conda-env-5148-py"
  },
  "language_info": {
   "codemirror_mode": {
    "name": "ipython",
    "version": 2
   },
   "file_extension": ".py",
   "mimetype": "text/x-python",
   "name": "python",
   "nbconvert_exporter": "python",
   "pygments_lexer": "ipython2",
   "version": "2.7.14"
  }
 },
 "nbformat": 4,
 "nbformat_minor": 2
}
