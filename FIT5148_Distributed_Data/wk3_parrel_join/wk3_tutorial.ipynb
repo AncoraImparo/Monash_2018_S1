{
 "cells": [
  {
   "cell_type": "markdown",
   "metadata": {},
   "source": [
    "###  Data Set"
   ]
  },
  {
   "cell_type": "code",
   "execution_count": 1,
   "metadata": {},
   "outputs": [],
   "source": [
    "# R consists of 15 pairs, each comprising two attributes (nominal and numeric)\n",
    "R = [('Adele',8),('Bob',22),('Clement',16),('Dave',23),('Ed',11),\n",
    "     ('Fung',25),('Goel',3),('Harry',17),('Irene',14),('Joanna',2),\n",
    "     ('Kelly',6),('Lim',20),('Meng',1),('Noor',5),('Omar',19)]\n",
    "\n",
    "# S consists of 8 pairs, each comprising two attributes (nominal and numeric)\n",
    "S = [('Arts',8),('Business',15),('CompSc',2),('Dance',12),('Engineering',7),\n",
    "     ('Finance',21),('Geology',10),('Health',11),('IT',18)]"
   ]
  },
  {
   "cell_type": "markdown",
   "metadata": {},
   "source": [
    "\n",
    "### 1. Serial Join Algorithms\n",
    "\n",
    "Let's first understand serial join algorithms - join algorithms implemented in nonparallel machines. Parallel join algorithms adopt a data partitioning parallelism approach, whereby parallelism is achieved through data partitioning. That is, a join operation implemented on each processor would employ a serial join algorithm. In Section 2, we will learn more about parallel join algorithms.\n",
    "\n",
    "In this activity, we will consider the following three serial join algorithms:\n",
    "\n",
    "   - Nested-loop join algorithm,\n",
    "   - Sort-merge join algorithm,\n",
    "   - Hash-based join algorithm\n",
    "\n",
    "##### 1.1 Nested-Loop Join Algorithm\n",
    "\n",
    "Nested-loop join is the simplest form of join algorithm. For each record of the first table, it goes through all records of the second table. This is repeated for all records of the first table. It is called a nested loop because it consists of two levels of loops: inner loop (looping for the second table) and outer loop (looping for the first table).\n",
    "\n",
    "Exercise: Undertand and run the nested-loop join algorithm using the join attribute - the numeric attribute in two tables R and S. Then, discuss the time complexity of this algorithm as well as its pros and cons.\n"
   ]
  },
  {
   "cell_type": "code",
   "execution_count": 2,
   "metadata": {},
   "outputs": [],
   "source": [
    "def NL_join(T1, T2):\n",
    "    \"\"\"\n",
    "    Perform the nested-loop join algorithm.\n",
    "    The join attribute is the numeric attribute in the input tables T1 & T2\n",
    "\n",
    "    Arguments:\n",
    "    T1 & T2 -- Tables to be joined\n",
    "\n",
    "    Return:\n",
    "    result -- the joined table\n",
    "    \"\"\"\n",
    "    result = []\n",
    "    \n",
    "    for r1 in T1:\n",
    "        for r2 in T2:\n",
    "            if r1[1] == r2[1]:\n",
    "                result.append({\", \".join([r1[0], str(r1[1]), r2[0]])})\n",
    "    return result\n"
   ]
  },
  {
   "cell_type": "code",
   "execution_count": 3,
   "metadata": {},
   "outputs": [
    {
     "data": {
      "text/plain": [
       "[{'Adele, 8, Arts'}, {'Ed, 11, Health'}, {'Joanna, 2, CompSc'}]"
      ]
     },
     "execution_count": 3,
     "metadata": {},
     "output_type": "execute_result"
    }
   ],
   "source": [
    "NL_join(R,S)"
   ]
  },
  {
   "cell_type": "markdown",
   "metadata": {},
   "source": [
    "\n",
    "### 1.2 Sort-Merge Join Algorithm\n",
    "\n",
    "Sort-merge join is based on sorting and merging operations. The first step of joining is to sort the two tables based on the joining attribute in an ascending order, and the second step is merging the two sorted tables. If the value of the joining attribute in R is smaller than that in S, it skips to the next value of the joining attribute in R. On the other hand, if the value of the joining attribute in R is greater than that in S, it skips to the next value of the joining attribute in S. When the two values match, the two corresponding records are concatenated and placed into the query result.\n",
    "\n",
    "Exercise: Complete the sort-merge join algorithm based on the above definition by implementing the following code block between '### START CODE HERE ###' and '### END CODE HERE ###'. Discuss the time complexity of this algorithm in terms if its efficiency. Also, compare it with the nest-loop join algorithm.\n"
   ]
  },
  {
   "cell_type": "code",
   "execution_count": 4,
   "metadata": {},
   "outputs": [],
   "source": [
    "def SM_join(T1, T2):\n",
    "    \"\"\"\n",
    "    Perform the sort-merge join algorithm.\n",
    "    The join attribute is the numeric attribute in the input tables T1 & T2\n",
    "\n",
    "    Arguments:\n",
    "    T1 & T2 -- Tables to be joined\n",
    "\n",
    "    Return:\n",
    "    result -- the joined table\n",
    "    \"\"\"\n",
    "    result = []\n",
    "    \n",
    "    # sort T1 based on the join attribute\n",
    "    s_T1 = list(T1)\n",
    "    s_T1 = sorted(s_T1, key=lambda s_T1: s_T1[1])\n",
    "    \n",
    "    # sort T2 based on the join attribute\n",
    "    s_T2 = list(T2)\n",
    "    s_T2 = sorted(s_T2, key=lambda s_T2: s_T2[1])\n",
    "   \n",
    "    ### START CODE HERE ### \n",
    "    i = j = 0\n",
    "    while (i < len(s_T1)-1 and j < len(s_T2)-1):\n",
    "        r = s_T1[i][1]\n",
    "        s = s_T2[j][1]\n",
    "        # If join attribute s_T1(i) < join attribute s_T2(i)\n",
    "        if r < s:\n",
    "            i += 1\n",
    "        \n",
    "        # else \n",
    "        else:\n",
    "            if r == s:\n",
    "                result.append({', '.join([s_T1[i][0],str(s_T1[i][1]),s_T2[j][0]])})\n",
    "                i += 1\n",
    "                j += 1\n",
    "            # if join attribute s_T1(1) > join attribute s_T2(1)\n",
    "            # #---Implement here\n",
    "            \n",
    "            # else \n",
    "            else:\n",
    "                # put records s_T1(i) and s_T2(j) into the result and i++, j++\n",
    "                # #---Implement here\n",
    "                j += 1\n",
    "\n",
    "    ### END CODE HERE ###\n",
    "\n",
    "    return result\n"
   ]
  },
  {
   "cell_type": "code",
   "execution_count": 5,
   "metadata": {},
   "outputs": [
    {
     "data": {
      "text/plain": [
       "[{'Joanna, 2, CompSc'}, {'Adele, 8, Arts'}, {'Ed, 11, Health'}]"
      ]
     },
     "execution_count": 5,
     "metadata": {},
     "output_type": "execute_result"
    }
   ],
   "source": [
    "SM_join(R,S)"
   ]
  },
  {
   "cell_type": "code",
   "execution_count": 6,
   "metadata": {},
   "outputs": [],
   "source": [
    "i = 0\n",
    "j =0\n",
    "while (i == 2) or (j == 3):\n",
    "    print('yes')\n",
    "    i += 1\n",
    "    j += 1"
   ]
  },
  {
   "cell_type": "code",
   "execution_count": 7,
   "metadata": {},
   "outputs": [],
   "source": [
    "dic = dict()\n",
    "dic['a'] = set(['s','d'])"
   ]
  },
  {
   "cell_type": "code",
   "execution_count": 8,
   "metadata": {},
   "outputs": [],
   "source": [
    "dic['a'].add('c')"
   ]
  },
  {
   "cell_type": "code",
   "execution_count": 9,
   "metadata": {},
   "outputs": [
    {
     "data": {
      "text/plain": [
       "{'c', 'd', 's'}"
      ]
     },
     "execution_count": 9,
     "metadata": {},
     "output_type": "execute_result"
    }
   ],
   "source": [
    "dic['a']\n"
   ]
  },
  {
   "cell_type": "markdown",
   "metadata": {},
   "source": [
    "\n",
    "### 1.3 Hash-Based Join Algorithm\n",
    "\n",
    "A hash-based join is basically made up of two processes: hashing and probing. A hash table is created by hashing all records of the first table using a particular hash function. Records from the second table are also hashed with the same hash function and probed. If any match is found, the two records are concatenated and placed in the query result.\n",
    "\n",
    "A decision must be made about which table is to be hashed and which table is to be probed. Since a hash table has to be created, it would be better to choose the smaller table for hashing and the larger table for probing.\n",
    "\n",
    "Exercise: Complete the hash-based join algorithm by implementing the following code block between '### START CODE HERE ###' and '### END CODE HERE ###'. Discuss the time complexity of this algorithm in terms if its efficiency. Also, compare it with the above two join algorithms.\n"
   ]
  },
  {
   "cell_type": "code",
   "execution_count": 26,
   "metadata": {},
   "outputs": [],
   "source": [
    "def H(r):\n",
    "    \"\"\"\n",
    "    We define a hash function 'H' that is used in the hashing process works \n",
    "    by summing the first and second digits of the hashed attribute, which\n",
    "    in this case is the join attribute. \n",
    "    \n",
    "    Arguments:\n",
    "    r -- a record where hashing will be applied on its join attribute\n",
    "\n",
    "    Return:\n",
    "    result -- the hash index of the record r\n",
    "    \"\"\"\n",
    "    digits = []\n",
    "    if len(str(r[1])) >= 2:\n",
    "        digits.append(int(str(r[1])[0]))\n",
    "        digits.append(int(str(r[1])[1]))\n",
    "    else:\n",
    "        digits.append(int(str(r[1])[0]))\n",
    "    return sum(digits)"
   ]
  },
  {
   "cell_type": "code",
   "execution_count": 27,
   "metadata": {},
   "outputs": [
    {
     "data": {
      "text/plain": [
       "4"
      ]
     },
     "execution_count": 27,
     "metadata": {},
     "output_type": "execute_result"
    }
   ],
   "source": [
    "H(R[1])"
   ]
  },
  {
   "cell_type": "code",
   "execution_count": 28,
   "metadata": {},
   "outputs": [],
   "source": [
    "def HB_join(T1, T2):\n",
    "    \"\"\"\n",
    "    Perform the hash-based join algorithm.\n",
    "    The join attribute is the numeric attribute in the input tables T1 & T2\n",
    "\n",
    "    Arguments:\n",
    "    T1 & T2 -- Tables to be joined\n",
    "\n",
    "    Return:\n",
    "    result -- the joined table\n",
    "    \"\"\"\n",
    "    pass"
   ]
  },
  {
   "cell_type": "code",
   "execution_count": null,
   "metadata": {},
   "outputs": [],
   "source": []
  }
 ],
 "metadata": {
  "kernelspec": {
   "display_name": "Python [default]",
   "language": "python",
   "name": "python3"
  },
  "language_info": {
   "codemirror_mode": {
    "name": "ipython",
    "version": 3
   },
   "file_extension": ".py",
   "mimetype": "text/x-python",
   "name": "python",
   "nbconvert_exporter": "python",
   "pygments_lexer": "ipython3",
   "version": "3.6.4"
  }
 },
 "nbformat": 4,
 "nbformat_minor": 2
}
