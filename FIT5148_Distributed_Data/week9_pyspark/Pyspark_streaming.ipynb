{
 "cells": [
  {
   "cell_type": "markdown",
   "metadata": {},
   "source": [
    "As mentioned, SparkContext is the main object under which everything else can be used. Then, we need to pass this object with a batch interval (in this example, we use 10 seconds) into the StreamingContext object. By doing so, we're ready to create our own stream context via StreamingContext:"
   ]
  },
  {
   "cell_type": "code",
   "execution_count": 1,
   "metadata": {},
   "outputs": [],
   "source": [
    "from pyspark import SparkContext # spark\n",
    "from pyspark.streaming import StreamingContext # spark streaming\n",
    "# Create a local StreamingContext with as many working processors as possible and a batch interval of 10 seconds            \n",
    "batch_interval = 10\n",
    "\n",
    "# local[*]: run Spark locally with as many working processors as logical cores on your machine.\n",
    "sc = SparkContext(master=\"local[*]\", appName = \"WordCountApp\") \n",
    "\n",
    "# a batch interval of 10 seconds   \n",
    "ssc = StreamingContext(sc, batch_interval)"
   ]
  },
  {
   "cell_type": "code",
   "execution_count": 11,
   "metadata": {},
   "outputs": [],
   "source": [
    "# Create a DStream connecting to hostname:port\n",
    "host = \"localhost\"\n",
    "port = 9999\n",
    "lines = ssc.socketTextStream(host, port)"
   ]
  },
  {
   "cell_type": "code",
   "execution_count": 3,
   "metadata": {},
   "outputs": [],
   "source": [
    "# Split each line into words\n",
    "words = lines.flatMap(lambda line: line.split(\" \"))\n",
    "lines.pprint()"
   ]
  },
  {
   "cell_type": "code",
   "execution_count": 5,
   "metadata": {},
   "outputs": [],
   "source": [
    "# Count each word in each batch\n",
    "pairs = words.map(lambda word: (word, 1))\n",
    "wordCounts = pairs.reduceByKey(lambda x, y: x + y)\n",
    "\n",
    "# Print the first ten elements of each RDD generated in this DStream to the console\n",
    "wordCounts.pprint()"
   ]
  },
  {
   "cell_type": "code",
   "execution_count": 7,
   "metadata": {},
   "outputs": [
    {
     "data": {
      "text/plain": [
       "[('FIT9131', 1),\n",
       " ('provide', 1),\n",
       " ('basic', 1),\n",
       " ('concepts', 1),\n",
       " ('development', 3),\n",
       " ('programming', 2),\n",
       " ('concentrates', 1),\n",
       " ('solving', 1),\n",
       " ('stages', 1),\n",
       " ('Students', 2)]"
      ]
     },
     "execution_count": 7,
     "metadata": {},
     "output_type": "execute_result"
    }
   ],
   "source": [
    "ds1 = sc.textFile(\"./unit_synopsis.txt\")\n",
    "ds1.take(5)\n",
    "words = ds1.flatMap(lambda line: line.split(\" \"))\n",
    "words.take(10)\n",
    "\n",
    "stopwords = ['a', 'this', 'to', 'as', 'such', 'the', 'The', 'of', 'using', 'on', 'in', 'It', 'with', 'and', 'or']\n",
    "words_without_stopwords = words.filter(lambda x: x not in stopwords)\n",
    "words_without_stopwords.take(50)\n",
    "pairs = words_without_stopwords.map(lambda word: (word, 1))\n",
    "word_counts = pairs.reduceByKey(lambda x, y: x + y)\n",
    "word_counts.take(10)"
   ]
  },
  {
   "cell_type": "code",
   "execution_count": null,
   "metadata": {},
   "outputs": [],
   "source": []
  }
 ],
 "metadata": {
  "kernelspec": {
   "display_name": "Python [conda env:5148]",
   "language": "python",
   "name": "conda-env-5148-py"
  },
  "language_info": {
   "codemirror_mode": {
    "name": "ipython",
    "version": 3
   },
   "file_extension": ".py",
   "mimetype": "text/x-python",
   "name": "python",
   "nbconvert_exporter": "python",
   "pygments_lexer": "ipython3",
   "version": "3.6.5"
  }
 },
 "nbformat": 4,
 "nbformat_minor": 2
}
